{
 "cells": [
  {
   "cell_type": "code",
   "execution_count": 1,
   "metadata": {},
   "outputs": [
    {
     "name": "stdout",
     "output_type": "stream",
     "text": [
      "c:\\Boyko Boev\\Stock-Market-Prediction\\src\n"
     ]
    }
   ],
   "source": [
    "%cd ../.."
   ]
  },
  {
   "cell_type": "code",
   "execution_count": 2,
   "metadata": {},
   "outputs": [
    {
     "ename": "ImportError",
     "evalue": "cannot import name 'save_lstm_model' from 'cnn_model' (c:\\Boyko Boev\\Stock-Market-Prediction\\src\\models\\cnn_v2\\cnn_model.py)",
     "output_type": "error",
     "traceback": [
      "\u001b[1;31m---------------------------------------------------------------------------\u001b[0m",
      "\u001b[1;31mImportError\u001b[0m                               Traceback (most recent call last)",
      "Cell \u001b[1;32mIn[2], line 1\u001b[0m\n\u001b[1;32m----> 1\u001b[0m \u001b[38;5;28;01mfrom\u001b[39;00m \u001b[38;5;21;01mcnn_model\u001b[39;00m \u001b[38;5;28;01mimport\u001b[39;00m build_model, train_model, save_lstm_model, load_lstm_model\n\u001b[0;32m      2\u001b[0m \u001b[38;5;28;01mfrom\u001b[39;00m \u001b[38;5;21;01mmodels\u001b[39;00m\u001b[38;5;21;01m.\u001b[39;00m\u001b[38;5;21;01mcnn_v2\u001b[39;00m\u001b[38;5;21;01m.\u001b[39;00m\u001b[38;5;21;01mcnn_normalize\u001b[39;00m \u001b[38;5;28;01mimport\u001b[39;00m get_lstm_data\n\u001b[0;32m      3\u001b[0m \u001b[38;5;28;01mfrom\u001b[39;00m \u001b[38;5;21;01mutils\u001b[39;00m\u001b[38;5;21;01m.\u001b[39;00m\u001b[38;5;21;01mchart\u001b[39;00m \u001b[38;5;28;01mimport\u001b[39;00m config_chart, plot_model_performance, plot_scatter_data, plot_distribution_data, plot_direction_comparison\n",
      "\u001b[1;31mImportError\u001b[0m: cannot import name 'save_lstm_model' from 'cnn_model' (c:\\Boyko Boev\\Stock-Market-Prediction\\src\\models\\cnn_v2\\cnn_model.py)"
     ]
    }
   ],
   "source": [
    "from cnn_model import build_model, train_model, save_cnn_model, load_cnn_model\n",
    "from models.cnn_v2.cnn_normalize import get_cnn_data\n",
    "from utils.chart import config_chart, plot_model_performance, plot_scatter_data, plot_distribution_data, plot_direction_comparison\n",
    "from constants import SP500_TICKER\n",
    "# import tensorflow as tf\n"
   ]
  },
  {
   "attachments": {},
   "cell_type": "markdown",
   "metadata": {},
   "source": [
    "---"
   ]
  },
  {
   "attachments": {},
   "cell_type": "markdown",
   "metadata": {},
   "source": [
    "## For **build_model** function"
   ]
  },
  {
   "cell_type": "code",
   "execution_count": null,
   "metadata": {},
   "outputs": [],
   "source": [
    "model = build_model()\n",
    "model.summary()"
   ]
  },
  {
   "attachments": {},
   "cell_type": "markdown",
   "metadata": {},
   "source": [
    "---"
   ]
  },
  {
   "attachments": {},
   "cell_type": "markdown",
   "metadata": {},
   "source": [
    "## For **train_model** function"
   ]
  },
  {
   "cell_type": "code",
   "execution_count": null,
   "metadata": {},
   "outputs": [],
   "source": [
    "train, test, predict= get_cnn_data(SP500_TICKER)\n",
    "\n",
    "x_train = train[\"x\"] \n",
    "y_train = train[\"y\"]\n",
    "\n",
    "x_test = test[\"x\"]\n",
    "y_test = test[\"y\"]\n",
    "\n",
    "x_predict = predict[\"x\"]\n",
    "y_predict = predict[\"y\"]\n",
    "\n",
    "\n",
    "print(\"Train data:\")\n",
    "print(x_train[0])\n",
    "print(x_train.shape)\n",
    "print(y_train[0])\n",
    "print(y_train.shape)\n",
    "\n",
    "print(\"Test data:\")\n",
    "print(y_test[0])\n",
    "print(x_test.shape)\n",
    "print(x_test[0])\n",
    "print(x_test.shape)\n",
    "\n",
    "print(\"Predict data:\")\n",
    "print(x_predict[0])\n",
    "print(x_predict.shape)\n",
    "print(y_predict[0])\n",
    "print(y_predict.shape)"
   ]
  },
  {
   "cell_type": "code",
   "execution_count": null,
   "metadata": {},
   "outputs": [],
   "source": [
    "# plt = config_chart('Model Data')\n",
    "# plt.plot(y_dates_train[:, 0], y_train[:, 0])\n",
    "# plt.plot(y_dates_test[:, 0], y_test[:, 0])\n",
    "# plt.plot(y_dates_predict[:, 0], y_predict[:, 0])\n",
    "# plt.legend(['Train', 'Test','Predict'])"
   ]
  },
  {
   "cell_type": "code",
   "execution_count": null,
   "metadata": {},
   "outputs": [],
   "source": [
    "model, fit_result, evaluate_result = train_model(x_train, x_test, y_train, y_test) \n",
    "\n",
    "plot_model_performance(fit_result)\n",
    "# plot_model_performance(evaluate_result)\n",
    "\n",
    "print(\"Train result:\")\n",
    "print(fit_result)\n",
    "\n",
    "print(\"Test result:\")\n",
    "print(evaluate_result)\n",
    "\n",
    "save_cnn_model(model)"
   ]
  },
  {
   "cell_type": "code",
   "execution_count": null,
   "metadata": {},
   "outputs": [],
   "source": [
    "latest_train_metrics = [value[-1] for key, value in fit_result.history.items()]\n",
    "\n",
    "print(\"Train result:\")\n",
    "print(\"accuracy, loss, precision, recall\")\n",
    "print(latest_train_metrics)\n",
    "\n",
    "print(\"Test result:\")\n",
    "print(\"loss, accuracy, precision, recall\")\n",
    "print(evaluate_result)"
   ]
  },
  {
   "cell_type": "code",
   "execution_count": null,
   "metadata": {},
   "outputs": [],
   "source": [
    "model = load_cnn_model()"
   ]
  },
  {
   "cell_type": "code",
   "execution_count": null,
   "metadata": {},
   "outputs": [],
   "source": [
    "predictions_test = model.predict(x_test)\n",
    "\n",
    "plot_scatter_data(y_test, predictions_test)\n",
    "plot_direction_comparison(y_test, predictions_test)\n"
   ]
  },
  {
   "cell_type": "code",
   "execution_count": null,
   "metadata": {},
   "outputs": [],
   "source": [
    "predictions = model.predict(x_predict)\n",
    "\n",
    "# plt = config_chart('Predictions First Day Close Price')\n",
    "# plt.plot(y_dates_predict[:, 0], y_predict[:, 0])\n",
    "# plt.plot(y_dates_predict[:, 0], predictions[:, 0])\n",
    "# plt.legend(['Data', 'Predictions'])\n",
    "# model\n",
    "plot_scatter_data(y_predict, predictions)\n",
    "plot_direction_comparison(y_predict, predictions)"
   ]
  }
 ],
 "metadata": {
  "kernelspec": {
   "display_name": "venv",
   "language": "python",
   "name": "python3"
  },
  "language_info": {
   "codemirror_mode": {
    "name": "ipython",
    "version": 3
   },
   "file_extension": ".py",
   "mimetype": "text/x-python",
   "name": "python",
   "nbconvert_exporter": "python",
   "pygments_lexer": "ipython3",
   "version": "3.12.2"
  },
  "orig_nbformat": 4,
  "vscode": {
   "interpreter": {
    "hash": "73f5850e139343e7d56cdbfd592890725b73c7b65ece657753fc54e096f228ca"
   }
  }
 },
 "nbformat": 4,
 "nbformat_minor": 2
}
