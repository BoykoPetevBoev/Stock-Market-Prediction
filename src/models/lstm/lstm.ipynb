{
 "cells": [
  {
   "cell_type": "code",
   "execution_count": 1,
   "metadata": {},
   "outputs": [
    {
     "name": "stdout",
     "output_type": "stream",
     "text": [
      "f:\\DR\\Stock-Market-Prediction\\src\n"
     ]
    }
   ],
   "source": [
    "%cd ../.."
   ]
  },
  {
   "attachments": {},
   "cell_type": "markdown",
   "metadata": {},
   "source": [
    "Model Architecture: Make sure your model architecture is suitable for time series forecasting. LSTM layers are commonly used for such tasks due to their ability to capture temporal dependencies.\n",
    "\n",
    "Data Preprocessing: Ensure that your data preprocessing steps, such as normalization and sequence preparation, are appropriate for the problem at hand.\n",
    "\n",
    "Loss Function: Choose an appropriate loss function for your regression problem. Mean Squared Error (MSE) is commonly used for regression tasks.\n",
    "\n",
    "Training Process: Train your model using an appropriate optimizer and monitor its performance on a validation set to avoid overfitting.\n",
    "\n",
    "Hyperparameter Tuning: Experiment with different hyperparameters such as learning rate, batch size, number of LSTM units, and number of layers to improve your model's performance.\n"
   ]
  }
 ],
 "metadata": {
  "kernelspec": {
   "display_name": "stock_market_env",
   "language": "python",
   "name": "stock_market_env"
  },
  "language_info": {
   "codemirror_mode": {
    "name": "ipython",
    "version": 3
   },
   "file_extension": ".py",
   "mimetype": "text/x-python",
   "name": "python",
   "nbconvert_exporter": "python",
   "pygments_lexer": "ipython3",
   "version": "3.10.9"
  },
  "orig_nbformat": 4,
  "vscode": {
   "interpreter": {
    "hash": "73f5850e139343e7d56cdbfd592890725b73c7b65ece657753fc54e096f228ca"
   }
  }
 },
 "nbformat": 4,
 "nbformat_minor": 2
}
