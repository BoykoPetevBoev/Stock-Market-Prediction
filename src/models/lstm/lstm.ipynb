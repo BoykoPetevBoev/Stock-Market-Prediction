{
 "cells": [
  {
   "cell_type": "code",
   "execution_count": 1,
   "metadata": {},
   "outputs": [
    {
     "name": "stdout",
     "output_type": "stream",
     "text": [
      "f:\\DR\\Stock-Market-Prediction\\src\n"
     ]
    }
   ],
   "source": [
    "%cd ../.."
   ]
  },
  {
   "cell_type": "code",
   "execution_count": 2,
   "metadata": {},
   "outputs": [
    {
     "name": "stdout",
     "output_type": "stream",
     "text": [
      "WARNING:tensorflow:From f:\\DR\\Stock-Market-Prediction\\venv\\lib\\site-packages\\keras\\src\\losses.py:2976: The name tf.losses.sparse_softmax_cross_entropy is deprecated. Please use tf.compat.v1.losses.sparse_softmax_cross_entropy instead.\n",
      "\n"
     ]
    }
   ],
   "source": [
    "from lstm_normalize import prepare_data, prepare_sequences\n",
    "from lstm_model import get_data, train_model\n",
    "import matplotlib.pyplot as plt"
   ]
  },
  {
   "attachments": {},
   "cell_type": "markdown",
   "metadata": {},
   "source": [
    "# File: **lstm_normalize**"
   ]
  },
  {
   "attachments": {},
   "cell_type": "markdown",
   "metadata": {},
   "source": [
    "#### For **prepare_data** function"
   ]
  },
  {
   "cell_type": "code",
   "execution_count": 3,
   "metadata": {},
   "outputs": [],
   "source": [
    "data = prepare_data()"
   ]
  },
  {
   "cell_type": "code",
   "execution_count": 4,
   "metadata": {},
   "outputs": [
    {
     "data": {
      "text/html": [
       "<div>\n",
       "<style scoped>\n",
       "    .dataframe tbody tr th:only-of-type {\n",
       "        vertical-align: middle;\n",
       "    }\n",
       "\n",
       "    .dataframe tbody tr th {\n",
       "        vertical-align: top;\n",
       "    }\n",
       "\n",
       "    .dataframe thead th {\n",
       "        text-align: right;\n",
       "    }\n",
       "</style>\n",
       "<table border=\"1\" class=\"dataframe\">\n",
       "  <thead>\n",
       "    <tr style=\"text-align: right;\">\n",
       "      <th></th>\n",
       "      <th>Open</th>\n",
       "      <th>High</th>\n",
       "      <th>Low</th>\n",
       "      <th>Close</th>\n",
       "      <th>Date</th>\n",
       "    </tr>\n",
       "  </thead>\n",
       "  <tbody>\n",
       "    <tr>\n",
       "      <th>0</th>\n",
       "      <td>0.186024</td>\n",
       "      <td>0.184788</td>\n",
       "      <td>0.181568</td>\n",
       "      <td>0.183161</td>\n",
       "      <td>2000-01-03</td>\n",
       "    </tr>\n",
       "    <tr>\n",
       "      <th>1</th>\n",
       "      <td>0.182720</td>\n",
       "      <td>0.179410</td>\n",
       "      <td>0.171936</td>\n",
       "      <td>0.170036</td>\n",
       "      <td>2000-01-04</td>\n",
       "    </tr>\n",
       "    <tr>\n",
       "      <th>2</th>\n",
       "      <td>0.169580</td>\n",
       "      <td>0.169507</td>\n",
       "      <td>0.167289</td>\n",
       "      <td>0.170668</td>\n",
       "      <td>2000-01-05</td>\n",
       "    </tr>\n",
       "    <tr>\n",
       "      <th>3</th>\n",
       "      <td>0.170213</td>\n",
       "      <td>0.169183</td>\n",
       "      <td>0.170682</td>\n",
       "      <td>0.170984</td>\n",
       "      <td>2000-01-06</td>\n",
       "    </tr>\n",
       "    <tr>\n",
       "      <th>4</th>\n",
       "      <td>0.170529</td>\n",
       "      <td>0.176164</td>\n",
       "      <td>0.172713</td>\n",
       "      <td>0.179927</td>\n",
       "      <td>2000-01-07</td>\n",
       "    </tr>\n",
       "    <tr>\n",
       "      <th>...</th>\n",
       "      <td>...</td>\n",
       "      <td>...</td>\n",
       "      <td>...</td>\n",
       "      <td>...</td>\n",
       "      <td>...</td>\n",
       "    </tr>\n",
       "    <tr>\n",
       "      <th>6053</th>\n",
       "      <td>0.990762</td>\n",
       "      <td>0.992223</td>\n",
       "      <td>0.988956</td>\n",
       "      <td>0.992057</td>\n",
       "      <td>2024-01-25</td>\n",
       "    </tr>\n",
       "    <tr>\n",
       "      <th>6054</th>\n",
       "      <td>0.991292</td>\n",
       "      <td>0.994240</td>\n",
       "      <td>0.991811</td>\n",
       "      <td>0.991306</td>\n",
       "      <td>2024-01-26</td>\n",
       "    </tr>\n",
       "    <tr>\n",
       "      <th>6055</th>\n",
       "      <td>0.992243</td>\n",
       "      <td>0.999580</td>\n",
       "      <td>0.993206</td>\n",
       "      <td>1.000000</td>\n",
       "      <td>2024-01-29</td>\n",
       "    </tr>\n",
       "    <tr>\n",
       "      <th>6056</th>\n",
       "      <td>1.000000</td>\n",
       "      <td>1.000000</td>\n",
       "      <td>1.000000</td>\n",
       "      <td>0.999304</td>\n",
       "      <td>2024-01-30</td>\n",
       "    </tr>\n",
       "    <tr>\n",
       "      <th>6057</th>\n",
       "      <td>0.993713</td>\n",
       "      <td>0.994254</td>\n",
       "      <td>0.983264</td>\n",
       "      <td>0.980646</td>\n",
       "      <td>2024-01-31</td>\n",
       "    </tr>\n",
       "  </tbody>\n",
       "</table>\n",
       "<p>6058 rows × 5 columns</p>\n",
       "</div>"
      ],
      "text/plain": [
       "          Open      High       Low     Close       Date\n",
       "0     0.186024  0.184788  0.181568  0.183161 2000-01-03\n",
       "1     0.182720  0.179410  0.171936  0.170036 2000-01-04\n",
       "2     0.169580  0.169507  0.167289  0.170668 2000-01-05\n",
       "3     0.170213  0.169183  0.170682  0.170984 2000-01-06\n",
       "4     0.170529  0.176164  0.172713  0.179927 2000-01-07\n",
       "...        ...       ...       ...       ...        ...\n",
       "6053  0.990762  0.992223  0.988956  0.992057 2024-01-25\n",
       "6054  0.991292  0.994240  0.991811  0.991306 2024-01-26\n",
       "6055  0.992243  0.999580  0.993206  1.000000 2024-01-29\n",
       "6056  1.000000  1.000000  1.000000  0.999304 2024-01-30\n",
       "6057  0.993713  0.994254  0.983264  0.980646 2024-01-31\n",
       "\n",
       "[6058 rows x 5 columns]"
      ]
     },
     "execution_count": 4,
     "metadata": {},
     "output_type": "execute_result"
    }
   ],
   "source": [
    "data"
   ]
  },
  {
   "cell_type": "code",
   "execution_count": 5,
   "metadata": {},
   "outputs": [
    {
     "data": {
      "text/plain": [
       "Open            float64\n",
       "High            float64\n",
       "Low             float64\n",
       "Close           float64\n",
       "Date     datetime64[ns]\n",
       "dtype: object"
      ]
     },
     "execution_count": 5,
     "metadata": {},
     "output_type": "execute_result"
    }
   ],
   "source": [
    "data.dtypes"
   ]
  },
  {
   "attachments": {},
   "cell_type": "markdown",
   "metadata": {},
   "source": [
    "#### For **prepare_sequences** function"
   ]
  },
  {
   "cell_type": "code",
   "execution_count": 6,
   "metadata": {},
   "outputs": [],
   "source": [
    "x, y = prepare_sequences(data)"
   ]
  },
  {
   "cell_type": "code",
   "execution_count": 7,
   "metadata": {},
   "outputs": [
    {
     "data": {
      "text/plain": [
       "array([[Timestamp('2000-01-10 00:00:00'), 0.18372063776093983],\n",
       "       [Timestamp('2000-01-11 00:00:00'), 0.17924213271879924],\n",
       "       [Timestamp('2000-01-12 00:00:00'), 0.1777579020238909],\n",
       "       ...,\n",
       "       [Timestamp('2024-01-29 00:00:00'), 1.0],\n",
       "       [Timestamp('2024-01-30 00:00:00'), 0.9993037679739585],\n",
       "       [Timestamp('2024-01-31 00:00:00'), 0.9806463116614557]],\n",
       "      dtype=object)"
      ]
     },
     "execution_count": 7,
     "metadata": {},
     "output_type": "execute_result"
    }
   ],
   "source": [
    "x"
   ]
  },
  {
   "cell_type": "code",
   "execution_count": 8,
   "metadata": {},
   "outputs": [
    {
     "data": {
      "text/plain": [
       "array([[0.18602366, 0.18478831, 0.1815681 , ..., 0.17616423, 0.1727129 ,\n",
       "        0.17992659],\n",
       "       [0.18271985, 0.17941036, 0.17193635, ..., 0.18156815, 0.18229995,\n",
       "        0.18372064],\n",
       "       [0.16957997, 0.16950674, 0.16728872, ..., 0.18022249, 0.18064094,\n",
       "        0.17924213],\n",
       "       ...,\n",
       "       [0.98293457, 0.98520247, 0.98300493, ..., 0.99423963, 0.99181081,\n",
       "        0.9913064 ],\n",
       "       [0.98373047, 0.98474679, 0.98308031, ..., 0.99957983, 0.9932062 ,\n",
       "        1.        ],\n",
       "       [0.99120944, 0.99352908, 0.98815618, ..., 1.        , 1.        ,\n",
       "        0.99930377]])"
      ]
     },
     "execution_count": 8,
     "metadata": {},
     "output_type": "execute_result"
    }
   ],
   "source": [
    "y"
   ]
  },
  {
   "attachments": {},
   "cell_type": "markdown",
   "metadata": {},
   "source": [
    "# File: **lstm_model**"
   ]
  },
  {
   "attachments": {},
   "cell_type": "markdown",
   "metadata": {},
   "source": [
    "#### For **get_data** function"
   ]
  },
  {
   "cell_type": "code",
   "execution_count": 9,
   "metadata": {},
   "outputs": [],
   "source": [
    "X_train, X_test, y_train, y_test = get_data()"
   ]
  },
  {
   "cell_type": "code",
   "execution_count": 10,
   "metadata": {},
   "outputs": [
    {
     "name": "stdout",
     "output_type": "stream",
     "text": [
      "X_train: (4842, 1, 1)\n",
      "tf.Tensor([[0.90170527]], shape=(1, 1), dtype=float32)\n"
     ]
    }
   ],
   "source": [
    "print('X_train:', X_train.shape)\n",
    "print(X_train[0])\n"
   ]
  },
  {
   "cell_type": "code",
   "execution_count": 11,
   "metadata": {},
   "outputs": [
    {
     "name": "stdout",
     "output_type": "stream",
     "text": [
      "X_test: (1211, 1, 1)\n",
      "tf.Tensor([[0.1659853]], shape=(1, 1), dtype=float32)\n"
     ]
    }
   ],
   "source": [
    "print('X_test:',X_test.shape)\n",
    "print(X_test[0])"
   ]
  },
  {
   "cell_type": "code",
   "execution_count": 12,
   "metadata": {},
   "outputs": [
    {
     "name": "stdout",
     "output_type": "stream",
     "text": [
      "y_train: (4842, 20)\n",
      "tf.Tensor(\n",
      "[0.881489   0.8799595  0.8749917  0.87854815 0.8772315  0.88415474\n",
      " 0.877898   0.8755751  0.87480366 0.877594   0.8761378  0.8780636\n",
      " 0.87982404 0.88492197 0.8805007  0.8850566  0.8921021  0.8954748\n",
      " 0.8933893  0.8927953 ], shape=(20,), dtype=float32)\n"
     ]
    }
   ],
   "source": [
    "print('y_train:', y_train.shape)\n",
    "print(y_train[0])\n"
   ]
  },
  {
   "cell_type": "code",
   "execution_count": 13,
   "metadata": {},
   "outputs": [
    {
     "name": "stdout",
     "output_type": "stream",
     "text": [
      "y_test: (1211, 20)\n",
      "tf.Tensor(\n",
      "[0.170496   0.16894487 0.17287529 0.17216444 0.17171106 0.17165744\n",
      " 0.17359065 0.1746507  0.17418598 0.17085949 0.1736283  0.17331937\n",
      " 0.17279899 0.16946423 0.17115034 0.16992754 0.16943161 0.16675165\n",
      " 0.17087504 0.16972055], shape=(20,), dtype=float32)\n"
     ]
    }
   ],
   "source": [
    "print('y_test:',y_test.shape)\n",
    "print(y_test[0])"
   ]
  },
  {
   "attachments": {},
   "cell_type": "markdown",
   "metadata": {},
   "source": [
    "#### For **train_model** function"
   ]
  },
  {
   "cell_type": "code",
   "execution_count": 14,
   "metadata": {},
   "outputs": [
    {
     "name": "stdout",
     "output_type": "stream",
     "text": [
      "WARNING:tensorflow:From f:\\DR\\Stock-Market-Prediction\\venv\\lib\\site-packages\\keras\\src\\layers\\rnn\\lstm.py:148: The name tf.executing_eagerly_outside_functions is deprecated. Please use tf.compat.v1.executing_eagerly_outside_functions instead.\n",
      "\n",
      "WARNING:tensorflow:From f:\\DR\\Stock-Market-Prediction\\venv\\lib\\site-packages\\keras\\src\\optimizers\\__init__.py:309: The name tf.train.Optimizer is deprecated. Please use tf.compat.v1.train.Optimizer instead.\n",
      "\n",
      "Epoch 1/50\n",
      "WARNING:tensorflow:From f:\\DR\\Stock-Market-Prediction\\venv\\lib\\site-packages\\keras\\src\\utils\\tf_utils.py:492: The name tf.ragged.RaggedTensorValue is deprecated. Please use tf.compat.v1.ragged.RaggedTensorValue instead.\n",
      "\n",
      "152/152 [==============================] - 2s 3ms/step - loss: 0.0842 - val_loss: 0.0304\n",
      "Epoch 2/50\n",
      "152/152 [==============================] - 0s 2ms/step - loss: 0.0182 - val_loss: 0.0081\n",
      "Epoch 3/50\n",
      "152/152 [==============================] - 0s 2ms/step - loss: 0.0029 - val_loss: 7.8443e-04\n",
      "Epoch 4/50\n",
      "152/152 [==============================] - 0s 2ms/step - loss: 5.1464e-04 - val_loss: 4.3626e-04\n",
      "Epoch 5/50\n",
      "152/152 [==============================] - 0s 2ms/step - loss: 3.7726e-04 - val_loss: 3.7337e-04\n",
      "Epoch 6/50\n",
      "152/152 [==============================] - 0s 2ms/step - loss: 3.4085e-04 - val_loss: 3.4746e-04\n",
      "Epoch 7/50\n",
      "152/152 [==============================] - 0s 2ms/step - loss: 3.2023e-04 - val_loss: 3.2877e-04\n",
      "Epoch 8/50\n",
      "152/152 [==============================] - 0s 2ms/step - loss: 3.0284e-04 - val_loss: 3.0998e-04\n",
      "Epoch 9/50\n",
      "152/152 [==============================] - 0s 2ms/step - loss: 2.8431e-04 - val_loss: 2.9216e-04\n",
      "Epoch 10/50\n",
      "152/152 [==============================] - 0s 2ms/step - loss: 2.6708e-04 - val_loss: 2.7716e-04\n",
      "Epoch 11/50\n",
      "152/152 [==============================] - 0s 2ms/step - loss: 2.4915e-04 - val_loss: 2.5617e-04\n",
      "Epoch 12/50\n",
      "152/152 [==============================] - 0s 2ms/step - loss: 2.3057e-04 - val_loss: 2.3914e-04\n",
      "Epoch 13/50\n",
      "152/152 [==============================] - 0s 2ms/step - loss: 2.1256e-04 - val_loss: 2.2116e-04\n",
      "Epoch 14/50\n",
      "152/152 [==============================] - 0s 2ms/step - loss: 1.9578e-04 - val_loss: 2.0347e-04\n",
      "Epoch 15/50\n",
      "152/152 [==============================] - 0s 2ms/step - loss: 1.8021e-04 - val_loss: 1.8886e-04\n",
      "Epoch 16/50\n",
      "152/152 [==============================] - 0s 2ms/step - loss: 1.6529e-04 - val_loss: 1.7624e-04\n",
      "Epoch 17/50\n",
      "152/152 [==============================] - 0s 2ms/step - loss: 1.5321e-04 - val_loss: 1.6388e-04\n",
      "Epoch 18/50\n",
      "152/152 [==============================] - 0s 2ms/step - loss: 1.4039e-04 - val_loss: 1.4984e-04\n",
      "Epoch 19/50\n",
      "152/152 [==============================] - 0s 2ms/step - loss: 1.2972e-04 - val_loss: 1.4151e-04\n",
      "Epoch 20/50\n",
      "152/152 [==============================] - 0s 2ms/step - loss: 1.2324e-04 - val_loss: 1.3445e-04\n",
      "Epoch 21/50\n",
      "152/152 [==============================] - 0s 2ms/step - loss: 1.1856e-04 - val_loss: 1.3096e-04\n",
      "Epoch 22/50\n",
      "152/152 [==============================] - 0s 2ms/step - loss: 1.1272e-04 - val_loss: 1.2527e-04\n",
      "Epoch 23/50\n",
      "152/152 [==============================] - 0s 2ms/step - loss: 1.1098e-04 - val_loss: 1.2617e-04\n",
      "Epoch 24/50\n",
      "152/152 [==============================] - 0s 2ms/step - loss: 1.0840e-04 - val_loss: 1.2411e-04\n",
      "Epoch 25/50\n",
      "152/152 [==============================] - 0s 2ms/step - loss: 1.0810e-04 - val_loss: 1.1926e-04\n",
      "Epoch 26/50\n",
      "152/152 [==============================] - 0s 2ms/step - loss: 1.0602e-04 - val_loss: 1.2482e-04\n",
      "Epoch 27/50\n",
      "152/152 [==============================] - 0s 2ms/step - loss: 1.0656e-04 - val_loss: 1.2138e-04\n",
      "Epoch 28/50\n",
      "152/152 [==============================] - 0s 2ms/step - loss: 1.0713e-04 - val_loss: 1.1992e-04\n",
      "Epoch 29/50\n",
      "152/152 [==============================] - 0s 2ms/step - loss: 1.0785e-04 - val_loss: 1.1937e-04\n",
      "Epoch 30/50\n",
      "152/152 [==============================] - 0s 2ms/step - loss: 1.0427e-04 - val_loss: 1.2325e-04\n",
      "Epoch 31/50\n",
      "152/152 [==============================] - 0s 2ms/step - loss: 1.0846e-04 - val_loss: 1.1713e-04\n",
      "Epoch 32/50\n",
      "152/152 [==============================] - 0s 2ms/step - loss: 1.0496e-04 - val_loss: 1.2572e-04\n",
      "Epoch 33/50\n",
      "152/152 [==============================] - 0s 2ms/step - loss: 1.0617e-04 - val_loss: 1.1798e-04\n",
      "Epoch 34/50\n",
      "152/152 [==============================] - 0s 2ms/step - loss: 1.0488e-04 - val_loss: 1.3106e-04\n",
      "Epoch 35/50\n",
      "152/152 [==============================] - 0s 2ms/step - loss: 1.0816e-04 - val_loss: 1.2279e-04\n",
      "Epoch 36/50\n",
      "152/152 [==============================] - 0s 2ms/step - loss: 1.0432e-04 - val_loss: 1.2142e-04\n",
      "Epoch 37/50\n",
      "152/152 [==============================] - 0s 2ms/step - loss: 1.0561e-04 - val_loss: 1.1672e-04\n",
      "Epoch 38/50\n",
      "152/152 [==============================] - 0s 2ms/step - loss: 1.0412e-04 - val_loss: 1.1586e-04\n",
      "Epoch 39/50\n",
      "152/152 [==============================] - 0s 2ms/step - loss: 1.0481e-04 - val_loss: 1.1638e-04\n",
      "Epoch 40/50\n",
      "152/152 [==============================] - 0s 2ms/step - loss: 1.0585e-04 - val_loss: 1.2116e-04\n",
      "Epoch 41/50\n",
      "152/152 [==============================] - 0s 2ms/step - loss: 1.0546e-04 - val_loss: 1.1806e-04\n",
      "Epoch 42/50\n",
      "152/152 [==============================] - 0s 2ms/step - loss: 1.0450e-04 - val_loss: 1.3279e-04\n",
      "Epoch 43/50\n",
      "152/152 [==============================] - 0s 2ms/step - loss: 1.0434e-04 - val_loss: 1.1548e-04\n",
      "Epoch 44/50\n",
      "152/152 [==============================] - 0s 2ms/step - loss: 1.0598e-04 - val_loss: 1.1966e-04\n",
      "Epoch 45/50\n",
      "152/152 [==============================] - 0s 2ms/step - loss: 1.0635e-04 - val_loss: 1.1484e-04\n",
      "Epoch 46/50\n",
      "152/152 [==============================] - 0s 2ms/step - loss: 1.0406e-04 - val_loss: 1.1609e-04\n",
      "Epoch 47/50\n",
      "152/152 [==============================] - 0s 2ms/step - loss: 1.0726e-04 - val_loss: 1.1547e-04\n",
      "Epoch 48/50\n",
      "152/152 [==============================] - 0s 2ms/step - loss: 1.0406e-04 - val_loss: 1.1964e-04\n",
      "Epoch 49/50\n",
      "152/152 [==============================] - 0s 2ms/step - loss: 1.0971e-04 - val_loss: 1.2382e-04\n",
      "Epoch 50/50\n",
      "152/152 [==============================] - 0s 2ms/step - loss: 1.0679e-04 - val_loss: 1.1506e-04\n"
     ]
    },
    {
     "data": {
      "image/png": "[encoded data removed]",
      "text/plain": [
       "<Figure size 640x480 with 1 Axes>"
      ]
     },
     "metadata": {},
     "output_type": "display_data"
    }
   ],
   "source": [
    "history = train_model()\n",
    "\n",
    "plt.plot(history.history['loss'])\n",
    "plt.plot(history.history['val_loss'])\n",
    "plt.title('Model Loss')\n",
    "plt.xlabel('Epoch')\n",
    "plt.ylabel('Loss')\n",
    "plt.legend(['Train', 'Validation'], loc='upper left')\n",
    "plt.show()"
   ]
  }
 ],
 "metadata": {
  "kernelspec": {
   "display_name": "stock_market_env",
   "language": "python",
   "name": "stock_market_env"
  },
  "language_info": {
   "codemirror_mode": {
    "name": "ipython",
    "version": 3
   },
   "file_extension": ".py",
   "mimetype": "text/x-python",
   "name": "python",
   "nbconvert_exporter": "python",
   "pygments_lexer": "ipython3",
   "version": "3.10.9"
  },
  "orig_nbformat": 4,
  "vscode": {
   "interpreter": {
    "hash": "73f5850e139343e7d56cdbfd592890725b73c7b65ece657753fc54e096f228ca"
   }
  }
 },
 "nbformat": 4,
 "nbformat_minor": 2
}
