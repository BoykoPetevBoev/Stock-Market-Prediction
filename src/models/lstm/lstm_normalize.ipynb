{
 "cells": [
  {
   "cell_type": "code",
   "execution_count": 1,
   "metadata": {},
   "outputs": [
    {
     "name": "stdout",
     "output_type": "stream",
     "text": [
      "f:\\DR\\Stock-Market-Prediction\\src\n"
     ]
    }
   ],
   "source": [
    "%cd ../.."
   ]
  },
  {
   "cell_type": "code",
   "execution_count": 2,
   "metadata": {},
   "outputs": [
    {
     "name": "stdout",
     "output_type": "stream",
     "text": [
      "WARNING:tensorflow:From f:\\DR\\Stock-Market-Prediction\\venv\\lib\\site-packages\\keras\\src\\losses.py:2976: The name tf.losses.sparse_softmax_cross_entropy is deprecated. Please use tf.compat.v1.losses.sparse_softmax_cross_entropy instead.\n",
      "\n"
     ]
    }
   ],
   "source": [
    "from lstm_normalize import prepare_data, normalize_data, prepare_sequences, prepare_tensors\n",
    "import matplotlib.pyplot as plt\n",
    "from utils.chart import plot_chart_line"
   ]
  },
  {
   "attachments": {},
   "cell_type": "markdown",
   "metadata": {},
   "source": [
    "---"
   ]
  },
  {
   "attachments": {},
   "cell_type": "markdown",
   "metadata": {},
   "source": [
    "## For **prepare_data** function"
   ]
  },
  {
   "cell_type": "code",
   "execution_count": 3,
   "metadata": {},
   "outputs": [
    {
     "data": {
      "text/html": [
       "<div>\n",
       "<style scoped>\n",
       "    .dataframe tbody tr th:only-of-type {\n",
       "        vertical-align: middle;\n",
       "    }\n",
       "\n",
       "    .dataframe tbody tr th {\n",
       "        vertical-align: top;\n",
       "    }\n",
       "\n",
       "    .dataframe thead th {\n",
       "        text-align: right;\n",
       "    }\n",
       "</style>\n",
       "<table border=\"1\" class=\"dataframe\">\n",
       "  <thead>\n",
       "    <tr style=\"text-align: right;\">\n",
       "      <th></th>\n",
       "      <th>Open</th>\n",
       "      <th>High</th>\n",
       "      <th>Low</th>\n",
       "      <th>Close</th>\n",
       "    </tr>\n",
       "    <tr>\n",
       "      <th>Date</th>\n",
       "      <th></th>\n",
       "      <th></th>\n",
       "      <th></th>\n",
       "      <th></th>\n",
       "    </tr>\n",
       "  </thead>\n",
       "  <tbody>\n",
       "    <tr>\n",
       "      <th>2000-01-03</th>\n",
       "      <td>1469.250000</td>\n",
       "      <td>1478.000000</td>\n",
       "      <td>1438.359985</td>\n",
       "      <td>1455.219971</td>\n",
       "    </tr>\n",
       "    <tr>\n",
       "      <th>2000-01-04</th>\n",
       "      <td>1455.219971</td>\n",
       "      <td>1455.219971</td>\n",
       "      <td>1397.430054</td>\n",
       "      <td>1399.420044</td>\n",
       "    </tr>\n",
       "    <tr>\n",
       "      <th>2000-01-05</th>\n",
       "      <td>1399.420044</td>\n",
       "      <td>1413.270020</td>\n",
       "      <td>1377.680054</td>\n",
       "      <td>1402.109985</td>\n",
       "    </tr>\n",
       "    <tr>\n",
       "      <th>2000-01-06</th>\n",
       "      <td>1402.109985</td>\n",
       "      <td>1411.900024</td>\n",
       "      <td>1392.099976</td>\n",
       "      <td>1403.449951</td>\n",
       "    </tr>\n",
       "    <tr>\n",
       "      <th>2000-01-07</th>\n",
       "      <td>1403.449951</td>\n",
       "      <td>1441.469971</td>\n",
       "      <td>1400.729980</td>\n",
       "      <td>1441.469971</td>\n",
       "    </tr>\n",
       "    <tr>\n",
       "      <th>...</th>\n",
       "      <td>...</td>\n",
       "      <td>...</td>\n",
       "      <td>...</td>\n",
       "      <td>...</td>\n",
       "    </tr>\n",
       "    <tr>\n",
       "      <th>2024-01-25</th>\n",
       "      <td>4886.660156</td>\n",
       "      <td>4898.149902</td>\n",
       "      <td>4869.339844</td>\n",
       "      <td>4894.160156</td>\n",
       "    </tr>\n",
       "    <tr>\n",
       "      <th>2024-01-26</th>\n",
       "      <td>4888.910156</td>\n",
       "      <td>4906.689941</td>\n",
       "      <td>4881.470215</td>\n",
       "      <td>4890.970215</td>\n",
       "    </tr>\n",
       "    <tr>\n",
       "      <th>2024-01-29</th>\n",
       "      <td>4892.950195</td>\n",
       "      <td>4929.310059</td>\n",
       "      <td>4887.399902</td>\n",
       "      <td>4927.930176</td>\n",
       "    </tr>\n",
       "    <tr>\n",
       "      <th>2024-01-30</th>\n",
       "      <td>4925.890137</td>\n",
       "      <td>4931.089844</td>\n",
       "      <td>4916.270020</td>\n",
       "      <td>4924.970215</td>\n",
       "    </tr>\n",
       "    <tr>\n",
       "      <th>2024-01-31</th>\n",
       "      <td>4899.189941</td>\n",
       "      <td>4906.750000</td>\n",
       "      <td>4845.149902</td>\n",
       "      <td>4845.649902</td>\n",
       "    </tr>\n",
       "  </tbody>\n",
       "</table>\n",
       "<p>6058 rows × 4 columns</p>\n",
       "</div>"
      ],
      "text/plain": [
       "                   Open         High          Low        Close\n",
       "Date                                                          \n",
       "2000-01-03  1469.250000  1478.000000  1438.359985  1455.219971\n",
       "2000-01-04  1455.219971  1455.219971  1397.430054  1399.420044\n",
       "2000-01-05  1399.420044  1413.270020  1377.680054  1402.109985\n",
       "2000-01-06  1402.109985  1411.900024  1392.099976  1403.449951\n",
       "2000-01-07  1403.449951  1441.469971  1400.729980  1441.469971\n",
       "...                 ...          ...          ...          ...\n",
       "2024-01-25  4886.660156  4898.149902  4869.339844  4894.160156\n",
       "2024-01-26  4888.910156  4906.689941  4881.470215  4890.970215\n",
       "2024-01-29  4892.950195  4929.310059  4887.399902  4927.930176\n",
       "2024-01-30  4925.890137  4931.089844  4916.270020  4924.970215\n",
       "2024-01-31  4899.189941  4906.750000  4845.149902  4845.649902\n",
       "\n",
       "[6058 rows x 4 columns]"
      ]
     },
     "execution_count": 3,
     "metadata": {},
     "output_type": "execute_result"
    }
   ],
   "source": [
    "data = prepare_data()\n",
    "data"
   ]
  },
  {
   "cell_type": "code",
   "execution_count": 4,
   "metadata": {},
   "outputs": [
    {
     "data": {
      "text/plain": [
       "Open     float64\n",
       "High     float64\n",
       "Low      float64\n",
       "Close    float64\n",
       "dtype: object"
      ]
     },
     "execution_count": 4,
     "metadata": {},
     "output_type": "execute_result"
    }
   ],
   "source": [
    "data.dtypes"
   ]
  },
  {
   "cell_type": "code",
   "execution_count": 5,
   "metadata": {},
   "outputs": [
    {
     "data": {
      "text/plain": [
       "<module 'matplotlib.pyplot' from 'f:\\\\DR\\\\Stock-Market-Prediction\\\\venv\\\\lib\\\\site-packages\\\\matplotlib\\\\pyplot.py'>"
      ]
     },
     "execution_count": 5,
     "metadata": {},
     "output_type": "execute_result"
    },
    {
     "data": {
      "image/png": "[encoded data removed]",
      "text/plain": [
       "<Figure size 1200x600 with 1 Axes>"
      ]
     },
     "metadata": {},
     "output_type": "display_data"
    }
   ],
   "source": [
    "plot_chart_line(data, label='Price', title='Data')"
   ]
  },
  {
   "attachments": {},
   "cell_type": "markdown",
   "metadata": {},
   "source": [
    "---"
   ]
  },
  {
   "attachments": {},
   "cell_type": "markdown",
   "metadata": {},
   "source": [
    "## For **normalize_data** function"
   ]
  },
  {
   "cell_type": "code",
   "execution_count": 6,
   "metadata": {},
   "outputs": [
    {
     "data": {
      "text/html": [
       "<div>\n",
       "<style scoped>\n",
       "    .dataframe tbody tr th:only-of-type {\n",
       "        vertical-align: middle;\n",
       "    }\n",
       "\n",
       "    .dataframe tbody tr th {\n",
       "        vertical-align: top;\n",
       "    }\n",
       "\n",
       "    .dataframe thead th {\n",
       "        text-align: right;\n",
       "    }\n",
       "</style>\n",
       "<table border=\"1\" class=\"dataframe\">\n",
       "  <thead>\n",
       "    <tr style=\"text-align: right;\">\n",
       "      <th></th>\n",
       "      <th>Open</th>\n",
       "      <th>High</th>\n",
       "      <th>Low</th>\n",
       "      <th>Close</th>\n",
       "    </tr>\n",
       "    <tr>\n",
       "      <th>Date</th>\n",
       "      <th></th>\n",
       "      <th></th>\n",
       "      <th></th>\n",
       "      <th></th>\n",
       "    </tr>\n",
       "  </thead>\n",
       "  <tbody>\n",
       "    <tr>\n",
       "      <th>2000-01-03</th>\n",
       "      <td>0.186024</td>\n",
       "      <td>0.184788</td>\n",
       "      <td>0.181568</td>\n",
       "      <td>0.183161</td>\n",
       "    </tr>\n",
       "    <tr>\n",
       "      <th>2000-01-04</th>\n",
       "      <td>0.182720</td>\n",
       "      <td>0.179410</td>\n",
       "      <td>0.171936</td>\n",
       "      <td>0.170036</td>\n",
       "    </tr>\n",
       "    <tr>\n",
       "      <th>2000-01-05</th>\n",
       "      <td>0.169580</td>\n",
       "      <td>0.169507</td>\n",
       "      <td>0.167289</td>\n",
       "      <td>0.170668</td>\n",
       "    </tr>\n",
       "    <tr>\n",
       "      <th>2000-01-06</th>\n",
       "      <td>0.170213</td>\n",
       "      <td>0.169183</td>\n",
       "      <td>0.170682</td>\n",
       "      <td>0.170984</td>\n",
       "    </tr>\n",
       "    <tr>\n",
       "      <th>2000-01-07</th>\n",
       "      <td>0.170529</td>\n",
       "      <td>0.176164</td>\n",
       "      <td>0.172713</td>\n",
       "      <td>0.179927</td>\n",
       "    </tr>\n",
       "    <tr>\n",
       "      <th>...</th>\n",
       "      <td>...</td>\n",
       "      <td>...</td>\n",
       "      <td>...</td>\n",
       "      <td>...</td>\n",
       "    </tr>\n",
       "    <tr>\n",
       "      <th>2024-01-25</th>\n",
       "      <td>0.990762</td>\n",
       "      <td>0.992223</td>\n",
       "      <td>0.988956</td>\n",
       "      <td>0.992057</td>\n",
       "    </tr>\n",
       "    <tr>\n",
       "      <th>2024-01-26</th>\n",
       "      <td>0.991292</td>\n",
       "      <td>0.994240</td>\n",
       "      <td>0.991811</td>\n",
       "      <td>0.991306</td>\n",
       "    </tr>\n",
       "    <tr>\n",
       "      <th>2024-01-29</th>\n",
       "      <td>0.992243</td>\n",
       "      <td>0.999580</td>\n",
       "      <td>0.993206</td>\n",
       "      <td>1.000000</td>\n",
       "    </tr>\n",
       "    <tr>\n",
       "      <th>2024-01-30</th>\n",
       "      <td>1.000000</td>\n",
       "      <td>1.000000</td>\n",
       "      <td>1.000000</td>\n",
       "      <td>0.999304</td>\n",
       "    </tr>\n",
       "    <tr>\n",
       "      <th>2024-01-31</th>\n",
       "      <td>0.993713</td>\n",
       "      <td>0.994254</td>\n",
       "      <td>0.983264</td>\n",
       "      <td>0.980646</td>\n",
       "    </tr>\n",
       "  </tbody>\n",
       "</table>\n",
       "<p>6058 rows × 4 columns</p>\n",
       "</div>"
      ],
      "text/plain": [
       "                Open      High       Low     Close\n",
       "Date                                              \n",
       "2000-01-03  0.186024  0.184788  0.181568  0.183161\n",
       "2000-01-04  0.182720  0.179410  0.171936  0.170036\n",
       "2000-01-05  0.169580  0.169507  0.167289  0.170668\n",
       "2000-01-06  0.170213  0.169183  0.170682  0.170984\n",
       "2000-01-07  0.170529  0.176164  0.172713  0.179927\n",
       "...              ...       ...       ...       ...\n",
       "2024-01-25  0.990762  0.992223  0.988956  0.992057\n",
       "2024-01-26  0.991292  0.994240  0.991811  0.991306\n",
       "2024-01-29  0.992243  0.999580  0.993206  1.000000\n",
       "2024-01-30  1.000000  1.000000  1.000000  0.999304\n",
       "2024-01-31  0.993713  0.994254  0.983264  0.980646\n",
       "\n",
       "[6058 rows x 4 columns]"
      ]
     },
     "execution_count": 6,
     "metadata": {},
     "output_type": "execute_result"
    }
   ],
   "source": [
    "normalized_data = normalize_data(data)\n",
    "normalized_data"
   ]
  },
  {
   "cell_type": "code",
   "execution_count": 7,
   "metadata": {},
   "outputs": [
    {
     "data": {
      "text/plain": [
       "<module 'matplotlib.pyplot' from 'f:\\\\DR\\\\Stock-Market-Prediction\\\\venv\\\\lib\\\\site-packages\\\\matplotlib\\\\pyplot.py'>"
      ]
     },
     "execution_count": 7,
     "metadata": {},
     "output_type": "execute_result"
    },
    {
     "data": {
      "image/png": "[encoded data removed]",
      "text/plain": [
       "<Figure size 1200x600 with 1 Axes>"
      ]
     },
     "metadata": {},
     "output_type": "display_data"
    }
   ],
   "source": [
    "plot_chart_line(normalized_data, label='Price', title='Data')"
   ]
  },
  {
   "attachments": {},
   "cell_type": "markdown",
   "metadata": {},
   "source": [
    "----"
   ]
  },
  {
   "attachments": {},
   "cell_type": "markdown",
   "metadata": {},
   "source": [
    "## For **prepare_sequences** function"
   ]
  },
  {
   "cell_type": "code",
   "execution_count": 8,
   "metadata": {},
   "outputs": [],
   "source": [
    "x, y = prepare_sequences(normalized_data)"
   ]
  },
  {
   "cell_type": "code",
   "execution_count": 9,
   "metadata": {},
   "outputs": [
    {
     "data": {
      "text/plain": [
       "(6053,)"
      ]
     },
     "execution_count": 9,
     "metadata": {},
     "output_type": "execute_result"
    }
   ],
   "source": [
    "x.shape"
   ]
  },
  {
   "cell_type": "code",
   "execution_count": 10,
   "metadata": {},
   "outputs": [
    {
     "data": {
      "text/plain": [
       "0.18372063776093983"
      ]
     },
     "execution_count": 10,
     "metadata": {},
     "output_type": "execute_result"
    }
   ],
   "source": [
    "x[0]"
   ]
  },
  {
   "cell_type": "code",
   "execution_count": 11,
   "metadata": {},
   "outputs": [
    {
     "data": {
      "text/plain": [
       "array([0.18372064, 0.17924213, 0.1777579 , ..., 1.        , 0.99930377,\n",
       "       0.98064631])"
      ]
     },
     "execution_count": 11,
     "metadata": {},
     "output_type": "execute_result"
    }
   ],
   "source": [
    "x"
   ]
  },
  {
   "cell_type": "code",
   "execution_count": 12,
   "metadata": {},
   "outputs": [
    {
     "data": {
      "text/plain": [
       "(6053, 20)"
      ]
     },
     "execution_count": 12,
     "metadata": {},
     "output_type": "execute_result"
    }
   ],
   "source": [
    "y.shape"
   ]
  },
  {
   "cell_type": "code",
   "execution_count": 13,
   "metadata": {},
   "outputs": [
    {
     "data": {
      "text/plain": [
       "array([0.18602366, 0.18478831, 0.1815681 , 0.18316082, 0.18271985,\n",
       "       0.17941036, 0.17193635, 0.17003575, 0.16957997, 0.16950674,\n",
       "       0.16728872, 0.17066847, 0.1702134 , 0.16918331, 0.17068206,\n",
       "       0.17098365, 0.17052894, 0.17616423, 0.1727129 , 0.17992659])"
      ]
     },
     "execution_count": 13,
     "metadata": {},
     "output_type": "execute_result"
    }
   ],
   "source": [
    "y[0]"
   ]
  },
  {
   "cell_type": "code",
   "execution_count": 14,
   "metadata": {},
   "outputs": [
    {
     "data": {
      "text/plain": [
       "array([[0.18602366, 0.18478831, 0.1815681 , ..., 0.17616423, 0.1727129 ,\n",
       "        0.17992659],\n",
       "       [0.18271985, 0.17941036, 0.17193635, ..., 0.18156815, 0.18229995,\n",
       "        0.18372064],\n",
       "       [0.16957997, 0.16950674, 0.16728872, ..., 0.18022249, 0.18064094,\n",
       "        0.17924213],\n",
       "       ...,\n",
       "       [0.98293457, 0.98520247, 0.98300493, ..., 0.99423963, 0.99181081,\n",
       "        0.9913064 ],\n",
       "       [0.98373047, 0.98474679, 0.98308031, ..., 0.99957983, 0.9932062 ,\n",
       "        1.        ],\n",
       "       [0.99120944, 0.99352908, 0.98815618, ..., 1.        , 1.        ,\n",
       "        0.99930377]])"
      ]
     },
     "execution_count": 14,
     "metadata": {},
     "output_type": "execute_result"
    }
   ],
   "source": [
    "y"
   ]
  },
  {
   "attachments": {},
   "cell_type": "markdown",
   "metadata": {},
   "source": [
    "---"
   ]
  },
  {
   "attachments": {},
   "cell_type": "markdown",
   "metadata": {},
   "source": [
    "## For **prepare_tensors** function"
   ]
  },
  {
   "cell_type": "code",
   "execution_count": 15,
   "metadata": {},
   "outputs": [
    {
     "name": "stdout",
     "output_type": "stream",
     "text": [
      "[0.90170529 0.20143482 0.3420732  ... 0.66031894 0.84175089 0.07861174]\n"
     ]
    }
   ],
   "source": [
    "X_train, X_test, y_train, y_test = prepare_tensors(x, y)"
   ]
  },
  {
   "cell_type": "code",
   "execution_count": 16,
   "metadata": {},
   "outputs": [
    {
     "name": "stdout",
     "output_type": "stream",
     "text": [
      "X_train: (4842, 1, 1)\n",
      "tf.Tensor([[0.90170527]], shape=(1, 1), dtype=float32)\n"
     ]
    }
   ],
   "source": [
    "print('X_train:', X_train.shape)\n",
    "print(X_train[0])"
   ]
  },
  {
   "cell_type": "code",
   "execution_count": 17,
   "metadata": {},
   "outputs": [
    {
     "name": "stdout",
     "output_type": "stream",
     "text": [
      "X_test: (1211, 1, 1)\n",
      "tf.Tensor([[0.1659853]], shape=(1, 1), dtype=float32)\n"
     ]
    }
   ],
   "source": [
    "print('X_test:',X_test.shape)\n",
    "print(X_test[0])"
   ]
  },
  {
   "cell_type": "code",
   "execution_count": 18,
   "metadata": {},
   "outputs": [
    {
     "name": "stdout",
     "output_type": "stream",
     "text": [
      "y_train: (4842, 20)\n",
      "tf.Tensor(\n",
      "[0.881489   0.8799595  0.8749917  0.87854815 0.8772315  0.88415474\n",
      " 0.877898   0.8755751  0.87480366 0.877594   0.8761378  0.8780636\n",
      " 0.87982404 0.88492197 0.8805007  0.8850566  0.8921021  0.8954748\n",
      " 0.8933893  0.8927953 ], shape=(20,), dtype=float32)\n"
     ]
    }
   ],
   "source": [
    "print('y_train:', y_train.shape)\n",
    "print(y_train[0])"
   ]
  },
  {
   "cell_type": "code",
   "execution_count": 19,
   "metadata": {},
   "outputs": [
    {
     "name": "stdout",
     "output_type": "stream",
     "text": [
      "y_test: (1211, 20)\n",
      "tf.Tensor(\n",
      "[0.170496   0.16894487 0.17287529 0.17216444 0.17171106 0.17165744\n",
      " 0.17359065 0.1746507  0.17418598 0.17085949 0.1736283  0.17331937\n",
      " 0.17279899 0.16946423 0.17115034 0.16992754 0.16943161 0.16675165\n",
      " 0.17087504 0.16972055], shape=(20,), dtype=float32)\n"
     ]
    }
   ],
   "source": [
    "print('y_test:',y_test.shape)\n",
    "print(y_test[0])"
   ]
  }
 ],
 "metadata": {
  "kernelspec": {
   "display_name": "venv",
   "language": "python",
   "name": "python3"
  },
  "language_info": {
   "codemirror_mode": {
    "name": "ipython",
    "version": 3
   },
   "file_extension": ".py",
   "mimetype": "text/x-python",
   "name": "python",
   "nbconvert_exporter": "python",
   "pygments_lexer": "ipython3",
   "version": "3.10.9"
  },
  "orig_nbformat": 4,
  "vscode": {
   "interpreter": {
    "hash": "73f5850e139343e7d56cdbfd592890725b73c7b65ece657753fc54e096f228ca"
   }
  }
 },
 "nbformat": 4,
 "nbformat_minor": 2
}
