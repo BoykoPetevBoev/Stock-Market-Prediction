{
 "cells": [
  {
   "cell_type": "code",
   "execution_count": 1,
   "metadata": {},
   "outputs": [
    {
     "name": "stdout",
     "output_type": "stream",
     "text": [
      "f:\\DR\\Stock-Market-Prediction\\src\n"
     ]
    }
   ],
   "source": [
    "%cd ../.."
   ]
  },
  {
   "cell_type": "code",
   "execution_count": 2,
   "metadata": {},
   "outputs": [
    {
     "name": "stdout",
     "output_type": "stream",
     "text": [
      "WARNING:tensorflow:From f:\\DR\\Stock-Market-Prediction\\venv\\lib\\site-packages\\keras\\src\\losses.py:2976: The name tf.losses.sparse_softmax_cross_entropy is deprecated. Please use tf.compat.v1.losses.sparse_softmax_cross_entropy instead.\n",
      "\n"
     ]
    }
   ],
   "source": [
    "from lstm_model import build_model, train_model, save_lstm_model, load_lstm_model\n",
    "from models.lstm_v2.lstm_normalize import get_lstm_data\n",
    "from utils.chart import config_chart\n",
    "from constants import SP500_TICKER\n",
    "# import tensorflow as tf\n"
   ]
  },
  {
   "attachments": {},
   "cell_type": "markdown",
   "metadata": {},
   "source": [
    "---"
   ]
  },
  {
   "attachments": {},
   "cell_type": "markdown",
   "metadata": {},
   "source": [
    "## For **build_model** function"
   ]
  },
  {
   "cell_type": "code",
   "execution_count": 3,
   "metadata": {},
   "outputs": [
    {
     "name": "stdout",
     "output_type": "stream",
     "text": [
      "WARNING:tensorflow:From f:\\DR\\Stock-Market-Prediction\\venv\\lib\\site-packages\\keras\\src\\layers\\rnn\\lstm.py:148: The name tf.executing_eagerly_outside_functions is deprecated. Please use tf.compat.v1.executing_eagerly_outside_functions instead.\n",
      "\n",
      "Model: \"sequential\"\n",
      "_________________________________________________________________\n",
      " Layer (type)                Output Shape              Param #   \n",
      "=================================================================\n",
      " lstm (LSTM)                 (None, 75)                23700     \n",
      "                                                                 \n",
      " dense (Dense)               (None, 32)                2432      \n",
      "                                                                 \n",
      " dense_1 (Dense)             (None, 32)                1056      \n",
      "                                                                 \n",
      " dense_2 (Dense)             (None, 16)                528       \n",
      "                                                                 \n",
      " dense_3 (Dense)             (None, 3)                 51        \n",
      "                                                                 \n",
      "=================================================================\n",
      "Total params: 27767 (108.46 KB)\n",
      "Trainable params: 27767 (108.46 KB)\n",
      "Non-trainable params: 0 (0.00 Byte)\n",
      "_________________________________________________________________\n"
     ]
    }
   ],
   "source": [
    "model = build_model()\n",
    "model.summary()"
   ]
  },
  {
   "attachments": {},
   "cell_type": "markdown",
   "metadata": {},
   "source": [
    "---"
   ]
  },
  {
   "attachments": {},
   "cell_type": "markdown",
   "metadata": {},
   "source": [
    "## For **train_model** function"
   ]
  },
  {
   "cell_type": "code",
   "execution_count": 4,
   "metadata": {},
   "outputs": [],
   "source": [
    "train, test, predict = get_lstm_data(SP500_TICKER)\n",
    "\n",
    "x_train = train['x']\n",
    "y_train = train['y']\n",
    "x_dates_train = train['x_dates']\n",
    "y_dates_train = train['y_dates']\n",
    "\n",
    "x_test = test['x']\n",
    "y_test = test['y']\n",
    "x_dates_test = test['x_dates']\n",
    "y_dates_test = test['y_dates']\n",
    "\n",
    "x_predict = predict['x']\n",
    "y_predict = predict['y']\n",
    "x_dates_predict = predict['x_dates']\n",
    "y_dates_predict = predict['y_dates']"
   ]
  },
  {
   "cell_type": "code",
   "execution_count": 5,
   "metadata": {},
   "outputs": [
    {
     "name": "stdout",
     "output_type": "stream",
     "text": [
      "(4829, 15, 3)\n",
      "(4829, 5, 3)\n"
     ]
    }
   ],
   "source": [
    "print(x_train.shape)\n",
    "print(y_train.shape)"
   ]
  },
  {
   "cell_type": "code",
   "execution_count": 6,
   "metadata": {},
   "outputs": [
    {
     "name": "stdout",
     "output_type": "stream",
     "text": [
      "(604, 15, 3)\n",
      "(604, 5, 3)\n"
     ]
    }
   ],
   "source": [
    "print(x_test.shape)\n",
    "print(y_test.shape)"
   ]
  },
  {
   "cell_type": "code",
   "execution_count": 7,
   "metadata": {},
   "outputs": [],
   "source": [
    "# plt = config_chart('Model Data')\n",
    "# plt.plot(y_dates_train[:, 0], y_train[:, 0])\n",
    "# plt.plot(y_dates_test[:, 0], y_test[:, 0])\n",
    "# plt.plot(y_dates_predict[:, 0], y_predict[:, 0])\n",
    "# plt.legend(['Train', 'Test','Predict'])"
   ]
  },
  {
   "cell_type": "code",
   "execution_count": 8,
   "metadata": {},
   "outputs": [
    {
     "name": "stdout",
     "output_type": "stream",
     "text": [
      "Epoch 1/120\n",
      "WARNING:tensorflow:From f:\\DR\\Stock-Market-Prediction\\venv\\lib\\site-packages\\keras\\src\\utils\\tf_utils.py:492: The name tf.ragged.RaggedTensorValue is deprecated. Please use tf.compat.v1.ragged.RaggedTensorValue instead.\n",
      "\n",
      "WARNING:tensorflow:From f:\\DR\\Stock-Market-Prediction\\venv\\lib\\site-packages\\keras\\src\\engine\\base_layer_utils.py:384: The name tf.executing_eagerly_outside_functions is deprecated. Please use tf.compat.v1.executing_eagerly_outside_functions instead.\n",
      "\n"
     ]
    },
    {
     "ename": "InvalidArgumentError",
     "evalue": "Graph execution error:\n\nDetected at node gradient_tape/mean_squared_error/BroadcastGradientArgs defined at (most recent call last):\n  File \"C:\\Users\\boyko\\AppData\\Local\\Programs\\Python\\Python310\\lib\\runpy.py\", line 196, in _run_module_as_main\n\n  File \"C:\\Users\\boyko\\AppData\\Local\\Programs\\Python\\Python310\\lib\\runpy.py\", line 86, in _run_code\n\n  File \"f:\\DR\\Stock-Market-Prediction\\venv\\lib\\site-packages\\ipykernel_launcher.py\", line 17, in <module>\n\n  File \"f:\\DR\\Stock-Market-Prediction\\venv\\lib\\site-packages\\traitlets\\config\\application.py\", line 1075, in launch_instance\n\n  File \"f:\\DR\\Stock-Market-Prediction\\venv\\lib\\site-packages\\ipykernel\\kernelapp.py\", line 739, in start\n\n  File \"f:\\DR\\Stock-Market-Prediction\\venv\\lib\\site-packages\\tornado\\platform\\asyncio.py\", line 205, in start\n\n  File \"C:\\Users\\boyko\\AppData\\Local\\Programs\\Python\\Python310\\lib\\asyncio\\base_events.py\", line 603, in run_forever\n\n  File \"C:\\Users\\boyko\\AppData\\Local\\Programs\\Python\\Python310\\lib\\asyncio\\base_events.py\", line 1906, in _run_once\n\n  File \"C:\\Users\\boyko\\AppData\\Local\\Programs\\Python\\Python310\\lib\\asyncio\\events.py\", line 80, in _run\n\n  File \"f:\\DR\\Stock-Market-Prediction\\venv\\lib\\site-packages\\ipykernel\\kernelbase.py\", line 542, in dispatch_queue\n\n  File \"f:\\DR\\Stock-Market-Prediction\\venv\\lib\\site-packages\\ipykernel\\kernelbase.py\", line 531, in process_one\n\n  File \"f:\\DR\\Stock-Market-Prediction\\venv\\lib\\site-packages\\ipykernel\\kernelbase.py\", line 437, in dispatch_shell\n\n  File \"f:\\DR\\Stock-Market-Prediction\\venv\\lib\\site-packages\\ipykernel\\ipkernel.py\", line 359, in execute_request\n\n  File \"f:\\DR\\Stock-Market-Prediction\\venv\\lib\\site-packages\\ipykernel\\kernelbase.py\", line 775, in execute_request\n\n  File \"f:\\DR\\Stock-Market-Prediction\\venv\\lib\\site-packages\\ipykernel\\ipkernel.py\", line 446, in do_execute\n\n  File \"f:\\DR\\Stock-Market-Prediction\\venv\\lib\\site-packages\\ipykernel\\zmqshell.py\", line 549, in run_cell\n\n  File \"f:\\DR\\Stock-Market-Prediction\\venv\\lib\\site-packages\\IPython\\core\\interactiveshell.py\", line 3051, in run_cell\n\n  File \"f:\\DR\\Stock-Market-Prediction\\venv\\lib\\site-packages\\IPython\\core\\interactiveshell.py\", line 3106, in _run_cell\n\n  File \"f:\\DR\\Stock-Market-Prediction\\venv\\lib\\site-packages\\IPython\\core\\async_helpers.py\", line 129, in _pseudo_sync_runner\n\n  File \"f:\\DR\\Stock-Market-Prediction\\venv\\lib\\site-packages\\IPython\\core\\interactiveshell.py\", line 3311, in run_cell_async\n\n  File \"f:\\DR\\Stock-Market-Prediction\\venv\\lib\\site-packages\\IPython\\core\\interactiveshell.py\", line 3493, in run_ast_nodes\n\n  File \"f:\\DR\\Stock-Market-Prediction\\venv\\lib\\site-packages\\IPython\\core\\interactiveshell.py\", line 3553, in run_code\n\n  File \"C:\\Users\\boyko\\AppData\\Local\\Temp\\ipykernel_26424\\2782310108.py\", line 1, in <module>\n\n  File \"f:\\DR\\Stock-Market-Prediction\\src\\models\\lstm_v2\\lstm_model.py\", line 37, in train_model\n\n  File \"f:\\DR\\Stock-Market-Prediction\\venv\\lib\\site-packages\\keras\\src\\utils\\traceback_utils.py\", line 65, in error_handler\n\n  File \"f:\\DR\\Stock-Market-Prediction\\venv\\lib\\site-packages\\keras\\src\\engine\\training.py\", line 1807, in fit\n\n  File \"f:\\DR\\Stock-Market-Prediction\\venv\\lib\\site-packages\\keras\\src\\engine\\training.py\", line 1401, in train_function\n\n  File \"f:\\DR\\Stock-Market-Prediction\\venv\\lib\\site-packages\\keras\\src\\engine\\training.py\", line 1384, in step_function\n\n  File \"f:\\DR\\Stock-Market-Prediction\\venv\\lib\\site-packages\\keras\\src\\engine\\training.py\", line 1373, in run_step\n\n  File \"f:\\DR\\Stock-Market-Prediction\\venv\\lib\\site-packages\\keras\\src\\engine\\training.py\", line 1154, in train_step\n\n  File \"f:\\DR\\Stock-Market-Prediction\\venv\\lib\\site-packages\\keras\\src\\optimizers\\optimizer.py\", line 543, in minimize\n\n  File \"f:\\DR\\Stock-Market-Prediction\\venv\\lib\\site-packages\\keras\\src\\optimizers\\optimizer.py\", line 276, in compute_gradients\n\nIncompatible shapes: [32,3] vs. [32,5,3]\n\t [[{{node gradient_tape/mean_squared_error/BroadcastGradientArgs}}]] [Op:__inference_train_function_4330]",
     "output_type": "error",
     "traceback": [
      "\u001b[1;31m---------------------------------------------------------------------------\u001b[0m",
      "\u001b[1;31mInvalidArgumentError\u001b[0m                      Traceback (most recent call last)",
      "Cell \u001b[1;32mIn[8], line 1\u001b[0m\n\u001b[1;32m----> 1\u001b[0m model, fit_result, evaluate_result \u001b[39m=\u001b[39m train_model(x_train, x_test, y_train, y_test)\n",
      "File \u001b[1;32mf:\\DR\\Stock-Market-Prediction\\src\\models\\lstm_v2\\lstm_model.py:37\u001b[0m, in \u001b[0;36mtrain_model\u001b[1;34m(x_train, x_test, y_train, y_test)\u001b[0m\n\u001b[0;32m     34\u001b[0m model \u001b[39m=\u001b[39m build_model()\n\u001b[0;32m     35\u001b[0m tensorboard_callback \u001b[39m=\u001b[39m TensorBoard(log_dir\u001b[39m=\u001b[39m\u001b[39m'\u001b[39m\u001b[39mlogs/lstm_v2\u001b[39m\u001b[39m'\u001b[39m)\n\u001b[1;32m---> 37\u001b[0m fit_result \u001b[39m=\u001b[39m model\u001b[39m.\u001b[39;49mfit(\n\u001b[0;32m     38\u001b[0m     x\u001b[39m=\u001b[39;49mx_train, \n\u001b[0;32m     39\u001b[0m     y\u001b[39m=\u001b[39;49my_train, \n\u001b[0;32m     40\u001b[0m     epochs\u001b[39m=\u001b[39;49m\u001b[39m120\u001b[39;49m,\n\u001b[0;32m     41\u001b[0m     verbose\u001b[39m=\u001b[39;49m\u001b[39m2\u001b[39;49m,\n\u001b[0;32m     42\u001b[0m     batch_size\u001b[39m=\u001b[39;49m\u001b[39m32\u001b[39;49m,\n\u001b[0;32m     43\u001b[0m     callbacks\u001b[39m=\u001b[39;49m[tensorboard_callback]\n\u001b[0;32m     44\u001b[0m )\n\u001b[0;32m     45\u001b[0m evaluate_result \u001b[39m=\u001b[39m model\u001b[39m.\u001b[39mevaluate(\n\u001b[0;32m     46\u001b[0m     x\u001b[39m=\u001b[39mx_test, \n\u001b[0;32m     47\u001b[0m     y\u001b[39m=\u001b[39my_test, \n\u001b[0;32m     48\u001b[0m     batch_size\u001b[39m=\u001b[39m\u001b[39m32\u001b[39m, \n\u001b[0;32m     49\u001b[0m     verbose\u001b[39m=\u001b[39m\u001b[39m2\u001b[39m\n\u001b[0;32m     50\u001b[0m )\n\u001b[0;32m     51\u001b[0m \u001b[39mreturn\u001b[39;00m model, fit_result, evaluate_result\n",
      "File \u001b[1;32mf:\\DR\\Stock-Market-Prediction\\venv\\lib\\site-packages\\keras\\src\\utils\\traceback_utils.py:70\u001b[0m, in \u001b[0;36mfilter_traceback.<locals>.error_handler\u001b[1;34m(*args, **kwargs)\u001b[0m\n\u001b[0;32m     67\u001b[0m     filtered_tb \u001b[39m=\u001b[39m _process_traceback_frames(e\u001b[39m.\u001b[39m__traceback__)\n\u001b[0;32m     68\u001b[0m     \u001b[39m# To get the full stack trace, call:\u001b[39;00m\n\u001b[0;32m     69\u001b[0m     \u001b[39m# `tf.debugging.disable_traceback_filtering()`\u001b[39;00m\n\u001b[1;32m---> 70\u001b[0m     \u001b[39mraise\u001b[39;00m e\u001b[39m.\u001b[39mwith_traceback(filtered_tb) \u001b[39mfrom\u001b[39;00m \u001b[39mNone\u001b[39;00m\n\u001b[0;32m     71\u001b[0m \u001b[39mfinally\u001b[39;00m:\n\u001b[0;32m     72\u001b[0m     \u001b[39mdel\u001b[39;00m filtered_tb\n",
      "File \u001b[1;32mf:\\DR\\Stock-Market-Prediction\\venv\\lib\\site-packages\\tensorflow\\python\\eager\\execute.py:53\u001b[0m, in \u001b[0;36mquick_execute\u001b[1;34m(op_name, num_outputs, inputs, attrs, ctx, name)\u001b[0m\n\u001b[0;32m     51\u001b[0m \u001b[39mtry\u001b[39;00m:\n\u001b[0;32m     52\u001b[0m   ctx\u001b[39m.\u001b[39mensure_initialized()\n\u001b[1;32m---> 53\u001b[0m   tensors \u001b[39m=\u001b[39m pywrap_tfe\u001b[39m.\u001b[39mTFE_Py_Execute(ctx\u001b[39m.\u001b[39m_handle, device_name, op_name,\n\u001b[0;32m     54\u001b[0m                                       inputs, attrs, num_outputs)\n\u001b[0;32m     55\u001b[0m \u001b[39mexcept\u001b[39;00m core\u001b[39m.\u001b[39m_NotOkStatusException \u001b[39mas\u001b[39;00m e:\n\u001b[0;32m     56\u001b[0m   \u001b[39mif\u001b[39;00m name \u001b[39mis\u001b[39;00m \u001b[39mnot\u001b[39;00m \u001b[39mNone\u001b[39;00m:\n",
      "\u001b[1;31mInvalidArgumentError\u001b[0m: Graph execution error:\n\nDetected at node gradient_tape/mean_squared_error/BroadcastGradientArgs defined at (most recent call last):\n  File \"C:\\Users\\boyko\\AppData\\Local\\Programs\\Python\\Python310\\lib\\runpy.py\", line 196, in _run_module_as_main\n\n  File \"C:\\Users\\boyko\\AppData\\Local\\Programs\\Python\\Python310\\lib\\runpy.py\", line 86, in _run_code\n\n  File \"f:\\DR\\Stock-Market-Prediction\\venv\\lib\\site-packages\\ipykernel_launcher.py\", line 17, in <module>\n\n  File \"f:\\DR\\Stock-Market-Prediction\\venv\\lib\\site-packages\\traitlets\\config\\application.py\", line 1075, in launch_instance\n\n  File \"f:\\DR\\Stock-Market-Prediction\\venv\\lib\\site-packages\\ipykernel\\kernelapp.py\", line 739, in start\n\n  File \"f:\\DR\\Stock-Market-Prediction\\venv\\lib\\site-packages\\tornado\\platform\\asyncio.py\", line 205, in start\n\n  File \"C:\\Users\\boyko\\AppData\\Local\\Programs\\Python\\Python310\\lib\\asyncio\\base_events.py\", line 603, in run_forever\n\n  File \"C:\\Users\\boyko\\AppData\\Local\\Programs\\Python\\Python310\\lib\\asyncio\\base_events.py\", line 1906, in _run_once\n\n  File \"C:\\Users\\boyko\\AppData\\Local\\Programs\\Python\\Python310\\lib\\asyncio\\events.py\", line 80, in _run\n\n  File \"f:\\DR\\Stock-Market-Prediction\\venv\\lib\\site-packages\\ipykernel\\kernelbase.py\", line 542, in dispatch_queue\n\n  File \"f:\\DR\\Stock-Market-Prediction\\venv\\lib\\site-packages\\ipykernel\\kernelbase.py\", line 531, in process_one\n\n  File \"f:\\DR\\Stock-Market-Prediction\\venv\\lib\\site-packages\\ipykernel\\kernelbase.py\", line 437, in dispatch_shell\n\n  File \"f:\\DR\\Stock-Market-Prediction\\venv\\lib\\site-packages\\ipykernel\\ipkernel.py\", line 359, in execute_request\n\n  File \"f:\\DR\\Stock-Market-Prediction\\venv\\lib\\site-packages\\ipykernel\\kernelbase.py\", line 775, in execute_request\n\n  File \"f:\\DR\\Stock-Market-Prediction\\venv\\lib\\site-packages\\ipykernel\\ipkernel.py\", line 446, in do_execute\n\n  File \"f:\\DR\\Stock-Market-Prediction\\venv\\lib\\site-packages\\ipykernel\\zmqshell.py\", line 549, in run_cell\n\n  File \"f:\\DR\\Stock-Market-Prediction\\venv\\lib\\site-packages\\IPython\\core\\interactiveshell.py\", line 3051, in run_cell\n\n  File \"f:\\DR\\Stock-Market-Prediction\\venv\\lib\\site-packages\\IPython\\core\\interactiveshell.py\", line 3106, in _run_cell\n\n  File \"f:\\DR\\Stock-Market-Prediction\\venv\\lib\\site-packages\\IPython\\core\\async_helpers.py\", line 129, in _pseudo_sync_runner\n\n  File \"f:\\DR\\Stock-Market-Prediction\\venv\\lib\\site-packages\\IPython\\core\\interactiveshell.py\", line 3311, in run_cell_async\n\n  File \"f:\\DR\\Stock-Market-Prediction\\venv\\lib\\site-packages\\IPython\\core\\interactiveshell.py\", line 3493, in run_ast_nodes\n\n  File \"f:\\DR\\Stock-Market-Prediction\\venv\\lib\\site-packages\\IPython\\core\\interactiveshell.py\", line 3553, in run_code\n\n  File \"C:\\Users\\boyko\\AppData\\Local\\Temp\\ipykernel_26424\\2782310108.py\", line 1, in <module>\n\n  File \"f:\\DR\\Stock-Market-Prediction\\src\\models\\lstm_v2\\lstm_model.py\", line 37, in train_model\n\n  File \"f:\\DR\\Stock-Market-Prediction\\venv\\lib\\site-packages\\keras\\src\\utils\\traceback_utils.py\", line 65, in error_handler\n\n  File \"f:\\DR\\Stock-Market-Prediction\\venv\\lib\\site-packages\\keras\\src\\engine\\training.py\", line 1807, in fit\n\n  File \"f:\\DR\\Stock-Market-Prediction\\venv\\lib\\site-packages\\keras\\src\\engine\\training.py\", line 1401, in train_function\n\n  File \"f:\\DR\\Stock-Market-Prediction\\venv\\lib\\site-packages\\keras\\src\\engine\\training.py\", line 1384, in step_function\n\n  File \"f:\\DR\\Stock-Market-Prediction\\venv\\lib\\site-packages\\keras\\src\\engine\\training.py\", line 1373, in run_step\n\n  File \"f:\\DR\\Stock-Market-Prediction\\venv\\lib\\site-packages\\keras\\src\\engine\\training.py\", line 1154, in train_step\n\n  File \"f:\\DR\\Stock-Market-Prediction\\venv\\lib\\site-packages\\keras\\src\\optimizers\\optimizer.py\", line 543, in minimize\n\n  File \"f:\\DR\\Stock-Market-Prediction\\venv\\lib\\site-packages\\keras\\src\\optimizers\\optimizer.py\", line 276, in compute_gradients\n\nIncompatible shapes: [32,3] vs. [32,5,3]\n\t [[{{node gradient_tape/mean_squared_error/BroadcastGradientArgs}}]] [Op:__inference_train_function_4330]"
     ]
    }
   ],
   "source": [
    "model, fit_result, evaluate_result = train_model(x_train, x_test, y_train, y_test)"
   ]
  },
  {
   "cell_type": "code",
   "execution_count": null,
   "metadata": {},
   "outputs": [],
   "source": [
    "plt = config_chart('Training Result')\n",
    "plt.plot(fit_result.history['loss'])\n",
    "plt.plot(fit_result.history['mean_absolute_error'])\n",
    "plt.legend(['Loss', 'Mean Absolute Error'])\n",
    "plt.xlabel('Epoch')\n",
    "plt.ylabel('Value')"
   ]
  },
  {
   "cell_type": "code",
   "execution_count": null,
   "metadata": {},
   "outputs": [],
   "source": [
    "save_lstm_model(model)\n",
    "model = load_lstm_model()"
   ]
  },
  {
   "cell_type": "code",
   "execution_count": null,
   "metadata": {},
   "outputs": [],
   "source": [
    "predictions = model.predict(x_test)"
   ]
  },
  {
   "cell_type": "code",
   "execution_count": null,
   "metadata": {},
   "outputs": [],
   "source": [
    "plt = config_chart('Predictions Test Result')\n",
    "plt.plot(y_dates_test[:, 0], y_test[:, 0])\n",
    "plt.plot(y_dates_test[:, 0], predictions[:, 0])\n",
    "plt.legend(['Data', 'Predictions'])"
   ]
  },
  {
   "cell_type": "code",
   "execution_count": null,
   "metadata": {},
   "outputs": [],
   "source": [
    "predictions = model.predict(x_predict)"
   ]
  },
  {
   "cell_type": "code",
   "execution_count": null,
   "metadata": {},
   "outputs": [],
   "source": [
    "plt = config_chart('Predictions First Day Close Price')\n",
    "plt.plot(y_dates_predict[:, 0], y_predict[:, 0])\n",
    "plt.plot(y_dates_predict[:, 0], predictions[:, 0])\n",
    "plt.legend(['Data', 'Predictions'])"
   ]
  },
  {
   "cell_type": "code",
   "execution_count": null,
   "metadata": {},
   "outputs": [],
   "source": [
    "\n",
    "predictions = model.predict(x_predict)"
   ]
  },
  {
   "cell_type": "code",
   "execution_count": null,
   "metadata": {},
   "outputs": [],
   "source": [
    "index = 0\n",
    "\n",
    "plt = config_chart('Predictions Result')\n",
    "plt.plot(x_dates_predict[index], x_predict[index], color='blue')\n",
    "plt.plot(y_dates_predict[index], y_predict[index], color='green')\n",
    "plt.plot(y_dates_predict[index], predictions[index], color='red')\n",
    "# plt.legend(['Data', 'Real', 'Predictions'])"
   ]
  },
  {
   "cell_type": "code",
   "execution_count": null,
   "metadata": {},
   "outputs": [],
   "source": [
    "index = 100\n",
    "\n",
    "plt = config_chart('Predictions Result')\n",
    "plt.plot(x_dates_predict[index], x_predict[index], color='blue')\n",
    "plt.plot(y_dates_predict[index], y_predict[index], color='green')\n",
    "plt.plot(y_dates_predict[index], predictions[index], color='red')"
   ]
  },
  {
   "cell_type": "code",
   "execution_count": null,
   "metadata": {},
   "outputs": [],
   "source": [
    "index = 200\n",
    "\n",
    "plt = config_chart('Predictions Result')\n",
    "plt.plot(x_dates_predict[index], x_predict[index], color='blue')\n",
    "plt.plot(y_dates_predict[index], y_predict[index], color='green')\n",
    "plt.plot(y_dates_predict[index], predictions[index], color='red')"
   ]
  },
  {
   "cell_type": "code",
   "execution_count": null,
   "metadata": {},
   "outputs": [],
   "source": [
    "index = 300\n",
    "\n",
    "plt = config_chart('Predictions Result')\n",
    "plt.plot(x_dates_predict[index], x_predict[index], color='blue')\n",
    "plt.plot(y_dates_predict[index], y_predict[index], color='green')\n",
    "plt.plot(y_dates_predict[index], predictions[index], color='red')"
   ]
  },
  {
   "cell_type": "code",
   "execution_count": null,
   "metadata": {},
   "outputs": [],
   "source": [
    "index = 400\n",
    "\n",
    "plt = config_chart('Predictions Result')\n",
    "plt.plot(x_dates_predict[index], x_predict[index], color='blue')\n",
    "plt.plot(y_dates_predict[index], y_predict[index], color='green')\n",
    "plt.plot(y_dates_predict[index], predictions[index], color='red')"
   ]
  },
  {
   "cell_type": "code",
   "execution_count": null,
   "metadata": {},
   "outputs": [],
   "source": [
    "index = 500\n",
    "\n",
    "plt = config_chart('Predictions Result')\n",
    "plt.plot(x_dates_predict[index], x_predict[index], color='blue')\n",
    "plt.plot(y_dates_predict[index], y_predict[index], color='green')\n",
    "plt.plot(y_dates_predict[index], predictions[index], color='red')"
   ]
  },
  {
   "cell_type": "code",
   "execution_count": null,
   "metadata": {},
   "outputs": [],
   "source": [
    "index = 599\n",
    "\n",
    "plt = config_chart('Predictions Result')\n",
    "plt.plot(x_dates_predict[index], x_predict[index], color='blue')\n",
    "plt.plot(y_dates_predict[index], y_predict[index], color='green')\n",
    "plt.plot(y_dates_predict[index], predictions[index], color='red')"
   ]
  }
 ],
 "metadata": {
  "kernelspec": {
   "display_name": "venv",
   "language": "python",
   "name": "python3"
  },
  "language_info": {
   "codemirror_mode": {
    "name": "ipython",
    "version": 3
   },
   "file_extension": ".py",
   "mimetype": "text/x-python",
   "name": "python",
   "nbconvert_exporter": "python",
   "pygments_lexer": "ipython3",
   "version": "3.10.9"
  },
  "orig_nbformat": 4,
  "vscode": {
   "interpreter": {
    "hash": "73f5850e139343e7d56cdbfd592890725b73c7b65ece657753fc54e096f228ca"
   }
  }
 },
 "nbformat": 4,
 "nbformat_minor": 2
}
