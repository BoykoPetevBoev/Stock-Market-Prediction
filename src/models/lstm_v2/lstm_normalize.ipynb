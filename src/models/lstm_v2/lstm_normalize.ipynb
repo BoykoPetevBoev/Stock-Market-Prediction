{
 "cells": [
  {
   "cell_type": "code",
   "execution_count": 1,
   "metadata": {},
   "outputs": [
    {
     "name": "stdout",
     "output_type": "stream",
     "text": [
      "f:\\DR\\Stock-Market-Prediction\\src\n"
     ]
    }
   ],
   "source": [
    "%cd ../.."
   ]
  },
  {
   "cell_type": "code",
   "execution_count": 2,
   "metadata": {},
   "outputs": [
    {
     "name": "stdout",
     "output_type": "stream",
     "text": [
      "WARNING:tensorflow:From f:\\DR\\Stock-Market-Prediction\\venv\\lib\\site-packages\\keras\\src\\losses.py:2976: The name tf.losses.sparse_softmax_cross_entropy is deprecated. Please use tf.compat.v1.losses.sparse_softmax_cross_entropy instead.\n",
      "\n"
     ]
    }
   ],
   "source": [
    "from lstm_normalize import prepare_data, add_indicators, normalize_data, prepare_sequences, prepare_tensors, split_train_and_test_data, get_lstm_data\n",
    "from utils.chart import config_chart\n",
    "from constants import SP500_TICKER"
   ]
  },
  {
   "attachments": {},
   "cell_type": "markdown",
   "metadata": {},
   "source": [
    "---"
   ]
  },
  {
   "attachments": {},
   "cell_type": "markdown",
   "metadata": {},
   "source": [
    "## For **prepare_data** function"
   ]
  },
  {
   "cell_type": "code",
   "execution_count": 3,
   "metadata": {},
   "outputs": [
    {
     "data": {
      "text/html": [
       "<div>\n",
       "<style scoped>\n",
       "    .dataframe tbody tr th:only-of-type {\n",
       "        vertical-align: middle;\n",
       "    }\n",
       "\n",
       "    .dataframe tbody tr th {\n",
       "        vertical-align: top;\n",
       "    }\n",
       "\n",
       "    .dataframe thead th {\n",
       "        text-align: right;\n",
       "    }\n",
       "</style>\n",
       "<table border=\"1\" class=\"dataframe\">\n",
       "  <thead>\n",
       "    <tr style=\"text-align: right;\">\n",
       "      <th></th>\n",
       "      <th>Open</th>\n",
       "      <th>High</th>\n",
       "      <th>Low</th>\n",
       "      <th>Close</th>\n",
       "      <th>Change</th>\n",
       "      <th>Volume</th>\n",
       "    </tr>\n",
       "    <tr>\n",
       "      <th>Date</th>\n",
       "      <th></th>\n",
       "      <th></th>\n",
       "      <th></th>\n",
       "      <th></th>\n",
       "      <th></th>\n",
       "      <th></th>\n",
       "    </tr>\n",
       "  </thead>\n",
       "  <tbody>\n",
       "    <tr>\n",
       "      <th>2000-01-03</th>\n",
       "      <td>1469.250000</td>\n",
       "      <td>1478.000000</td>\n",
       "      <td>1438.359985</td>\n",
       "      <td>1455.219971</td>\n",
       "      <td>-14.030029</td>\n",
       "      <td>931800000</td>\n",
       "    </tr>\n",
       "    <tr>\n",
       "      <th>2000-01-04</th>\n",
       "      <td>1455.219971</td>\n",
       "      <td>1455.219971</td>\n",
       "      <td>1397.430054</td>\n",
       "      <td>1399.420044</td>\n",
       "      <td>-55.799927</td>\n",
       "      <td>1009000000</td>\n",
       "    </tr>\n",
       "    <tr>\n",
       "      <th>2000-01-05</th>\n",
       "      <td>1399.420044</td>\n",
       "      <td>1413.270020</td>\n",
       "      <td>1377.680054</td>\n",
       "      <td>1402.109985</td>\n",
       "      <td>2.689941</td>\n",
       "      <td>1085500000</td>\n",
       "    </tr>\n",
       "    <tr>\n",
       "      <th>2000-01-06</th>\n",
       "      <td>1402.109985</td>\n",
       "      <td>1411.900024</td>\n",
       "      <td>1392.099976</td>\n",
       "      <td>1403.449951</td>\n",
       "      <td>1.339966</td>\n",
       "      <td>1092300000</td>\n",
       "    </tr>\n",
       "    <tr>\n",
       "      <th>2000-01-07</th>\n",
       "      <td>1403.449951</td>\n",
       "      <td>1441.469971</td>\n",
       "      <td>1400.729980</td>\n",
       "      <td>1441.469971</td>\n",
       "      <td>38.020020</td>\n",
       "      <td>1225200000</td>\n",
       "    </tr>\n",
       "    <tr>\n",
       "      <th>...</th>\n",
       "      <td>...</td>\n",
       "      <td>...</td>\n",
       "      <td>...</td>\n",
       "      <td>...</td>\n",
       "      <td>...</td>\n",
       "      <td>...</td>\n",
       "    </tr>\n",
       "    <tr>\n",
       "      <th>2024-01-25</th>\n",
       "      <td>4886.660156</td>\n",
       "      <td>4898.149902</td>\n",
       "      <td>4869.339844</td>\n",
       "      <td>4894.160156</td>\n",
       "      <td>7.500000</td>\n",
       "      <td>4020430000</td>\n",
       "    </tr>\n",
       "    <tr>\n",
       "      <th>2024-01-26</th>\n",
       "      <td>4888.910156</td>\n",
       "      <td>4906.689941</td>\n",
       "      <td>4881.470215</td>\n",
       "      <td>4890.970215</td>\n",
       "      <td>2.060059</td>\n",
       "      <td>3353400000</td>\n",
       "    </tr>\n",
       "    <tr>\n",
       "      <th>2024-01-29</th>\n",
       "      <td>4892.950195</td>\n",
       "      <td>4929.310059</td>\n",
       "      <td>4887.399902</td>\n",
       "      <td>4927.930176</td>\n",
       "      <td>34.979980</td>\n",
       "      <td>3525160000</td>\n",
       "    </tr>\n",
       "    <tr>\n",
       "      <th>2024-01-30</th>\n",
       "      <td>4925.890137</td>\n",
       "      <td>4931.089844</td>\n",
       "      <td>4916.270020</td>\n",
       "      <td>4924.970215</td>\n",
       "      <td>-0.919922</td>\n",
       "      <td>3836130000</td>\n",
       "    </tr>\n",
       "    <tr>\n",
       "      <th>2024-01-31</th>\n",
       "      <td>4899.189941</td>\n",
       "      <td>4906.750000</td>\n",
       "      <td>4845.149902</td>\n",
       "      <td>4845.649902</td>\n",
       "      <td>-53.540039</td>\n",
       "      <td>4696120000</td>\n",
       "    </tr>\n",
       "  </tbody>\n",
       "</table>\n",
       "<p>6058 rows × 6 columns</p>\n",
       "</div>"
      ],
      "text/plain": [
       "                   Open         High          Low        Close     Change  \\\n",
       "Date                                                                        \n",
       "2000-01-03  1469.250000  1478.000000  1438.359985  1455.219971 -14.030029   \n",
       "2000-01-04  1455.219971  1455.219971  1397.430054  1399.420044 -55.799927   \n",
       "2000-01-05  1399.420044  1413.270020  1377.680054  1402.109985   2.689941   \n",
       "2000-01-06  1402.109985  1411.900024  1392.099976  1403.449951   1.339966   \n",
       "2000-01-07  1403.449951  1441.469971  1400.729980  1441.469971  38.020020   \n",
       "...                 ...          ...          ...          ...        ...   \n",
       "2024-01-25  4886.660156  4898.149902  4869.339844  4894.160156   7.500000   \n",
       "2024-01-26  4888.910156  4906.689941  4881.470215  4890.970215   2.060059   \n",
       "2024-01-29  4892.950195  4929.310059  4887.399902  4927.930176  34.979980   \n",
       "2024-01-30  4925.890137  4931.089844  4916.270020  4924.970215  -0.919922   \n",
       "2024-01-31  4899.189941  4906.750000  4845.149902  4845.649902 -53.540039   \n",
       "\n",
       "                Volume  \n",
       "Date                    \n",
       "2000-01-03   931800000  \n",
       "2000-01-04  1009000000  \n",
       "2000-01-05  1085500000  \n",
       "2000-01-06  1092300000  \n",
       "2000-01-07  1225200000  \n",
       "...                ...  \n",
       "2024-01-25  4020430000  \n",
       "2024-01-26  3353400000  \n",
       "2024-01-29  3525160000  \n",
       "2024-01-30  3836130000  \n",
       "2024-01-31  4696120000  \n",
       "\n",
       "[6058 rows x 6 columns]"
      ]
     },
     "execution_count": 3,
     "metadata": {},
     "output_type": "execute_result"
    }
   ],
   "source": [
    "data = prepare_data(SP500_TICKER)\n",
    "data"
   ]
  },
  {
   "cell_type": "code",
   "execution_count": 4,
   "metadata": {},
   "outputs": [
    {
     "data": {
      "text/plain": [
       "Open      float64\n",
       "High      float64\n",
       "Low       float64\n",
       "Close     float64\n",
       "Change    float64\n",
       "Volume      int64\n",
       "dtype: object"
      ]
     },
     "execution_count": 4,
     "metadata": {},
     "output_type": "execute_result"
    }
   ],
   "source": [
    "data.dtypes"
   ]
  },
  {
   "cell_type": "code",
   "execution_count": 5,
   "metadata": {},
   "outputs": [
    {
     "data": {
      "text/plain": [
       "<matplotlib.legend.Legend at 0x1ef69253a90>"
      ]
     },
     "execution_count": 5,
     "metadata": {},
     "output_type": "execute_result"
    },
    {
     "data": {
      "image/png": "[encoded data removed]",
      "text/plain": [
       "<Figure size 1200x600 with 1 Axes>"
      ]
     },
     "metadata": {},
     "output_type": "display_data"
    }
   ],
   "source": [
    "plt = config_chart('Original Data')\n",
    "plt.plot(data['Close'])\n",
    "plt.legend(['Close'])"
   ]
  },
  {
   "cell_type": "code",
   "execution_count": 6,
   "metadata": {},
   "outputs": [],
   "source": [
    "# plt = config_chart('Original Data')\n",
    "# plt.plot(data['Change'])\n",
    "# plt.legend(['Change'])"
   ]
  },
  {
   "cell_type": "markdown",
   "metadata": {},
   "source": [
    "---"
   ]
  },
  {
   "cell_type": "markdown",
   "metadata": {},
   "source": [
    "## For **add_indicators** function"
   ]
  },
  {
   "cell_type": "code",
   "execution_count": 7,
   "metadata": {},
   "outputs": [],
   "source": [
    "# extended_data = add_indicators(data)\n",
    "# extended_data"
   ]
  },
  {
   "cell_type": "code",
   "execution_count": 8,
   "metadata": {},
   "outputs": [],
   "source": [
    "# plt = config_chart('RSI Indicator')\n",
    "# plt.plot(extended_data['RSI'])\n",
    "# plt.legend(['RSI'])"
   ]
  },
  {
   "cell_type": "code",
   "execution_count": 9,
   "metadata": {},
   "outputs": [],
   "source": [
    "# plt = config_chart('Simple Moving Average')\n",
    "# plt.plot(extended_data['SMA'])\n",
    "# plt.legend(['SMA'])"
   ]
  },
  {
   "attachments": {},
   "cell_type": "markdown",
   "metadata": {},
   "source": [
    "---"
   ]
  },
  {
   "attachments": {},
   "cell_type": "markdown",
   "metadata": {},
   "source": [
    "## For **normalize_data** function"
   ]
  },
  {
   "cell_type": "code",
   "execution_count": 10,
   "metadata": {},
   "outputs": [
    {
     "data": {
      "text/html": [
       "<div>\n",
       "<style scoped>\n",
       "    .dataframe tbody tr th:only-of-type {\n",
       "        vertical-align: middle;\n",
       "    }\n",
       "\n",
       "    .dataframe tbody tr th {\n",
       "        vertical-align: top;\n",
       "    }\n",
       "\n",
       "    .dataframe thead th {\n",
       "        text-align: right;\n",
       "    }\n",
       "</style>\n",
       "<table border=\"1\" class=\"dataframe\">\n",
       "  <thead>\n",
       "    <tr style=\"text-align: right;\">\n",
       "      <th></th>\n",
       "      <th>Open</th>\n",
       "      <th>High</th>\n",
       "      <th>Low</th>\n",
       "      <th>Close</th>\n",
       "      <th>Change</th>\n",
       "      <th>Volume</th>\n",
       "    </tr>\n",
       "    <tr>\n",
       "      <th>Date</th>\n",
       "      <th></th>\n",
       "      <th></th>\n",
       "      <th></th>\n",
       "      <th></th>\n",
       "      <th></th>\n",
       "      <th></th>\n",
       "    </tr>\n",
       "  </thead>\n",
       "  <tbody>\n",
       "    <tr>\n",
       "      <th>2000-01-03</th>\n",
       "      <td>0.186024</td>\n",
       "      <td>0.184788</td>\n",
       "      <td>0.181568</td>\n",
       "      <td>0.183161</td>\n",
       "      <td>0.454331</td>\n",
       "      <td>0.051867</td>\n",
       "    </tr>\n",
       "    <tr>\n",
       "      <th>2000-01-04</th>\n",
       "      <td>0.182720</td>\n",
       "      <td>0.179410</td>\n",
       "      <td>0.171936</td>\n",
       "      <td>0.170036</td>\n",
       "      <td>0.314986</td>\n",
       "      <td>0.058822</td>\n",
       "    </tr>\n",
       "    <tr>\n",
       "      <th>2000-01-05</th>\n",
       "      <td>0.169580</td>\n",
       "      <td>0.169507</td>\n",
       "      <td>0.167289</td>\n",
       "      <td>0.170668</td>\n",
       "      <td>0.510109</td>\n",
       "      <td>0.065713</td>\n",
       "    </tr>\n",
       "    <tr>\n",
       "      <th>2000-01-06</th>\n",
       "      <td>0.170213</td>\n",
       "      <td>0.169183</td>\n",
       "      <td>0.170682</td>\n",
       "      <td>0.170984</td>\n",
       "      <td>0.505605</td>\n",
       "      <td>0.066326</td>\n",
       "    </tr>\n",
       "    <tr>\n",
       "      <th>2000-01-07</th>\n",
       "      <td>0.170529</td>\n",
       "      <td>0.176164</td>\n",
       "      <td>0.172713</td>\n",
       "      <td>0.179927</td>\n",
       "      <td>0.627970</td>\n",
       "      <td>0.078299</td>\n",
       "    </tr>\n",
       "    <tr>\n",
       "      <th>...</th>\n",
       "      <td>...</td>\n",
       "      <td>...</td>\n",
       "      <td>...</td>\n",
       "      <td>...</td>\n",
       "      <td>...</td>\n",
       "      <td>...</td>\n",
       "    </tr>\n",
       "    <tr>\n",
       "      <th>2024-01-25</th>\n",
       "      <td>0.990762</td>\n",
       "      <td>0.992223</td>\n",
       "      <td>0.988956</td>\n",
       "      <td>0.992057</td>\n",
       "      <td>0.526155</td>\n",
       "      <td>0.330118</td>\n",
       "    </tr>\n",
       "    <tr>\n",
       "      <th>2024-01-26</th>\n",
       "      <td>0.991292</td>\n",
       "      <td>0.994240</td>\n",
       "      <td>0.991811</td>\n",
       "      <td>0.991306</td>\n",
       "      <td>0.508007</td>\n",
       "      <td>0.270026</td>\n",
       "    </tr>\n",
       "    <tr>\n",
       "      <th>2024-01-29</th>\n",
       "      <td>0.992243</td>\n",
       "      <td>0.999580</td>\n",
       "      <td>0.993206</td>\n",
       "      <td>1.000000</td>\n",
       "      <td>0.617828</td>\n",
       "      <td>0.285499</td>\n",
       "    </tr>\n",
       "    <tr>\n",
       "      <th>2024-01-30</th>\n",
       "      <td>1.000000</td>\n",
       "      <td>1.000000</td>\n",
       "      <td>1.000000</td>\n",
       "      <td>0.999304</td>\n",
       "      <td>0.498066</td>\n",
       "      <td>0.313514</td>\n",
       "    </tr>\n",
       "    <tr>\n",
       "      <th>2024-01-31</th>\n",
       "      <td>0.993713</td>\n",
       "      <td>0.994254</td>\n",
       "      <td>0.983264</td>\n",
       "      <td>0.980646</td>\n",
       "      <td>0.322525</td>\n",
       "      <td>0.390990</td>\n",
       "    </tr>\n",
       "  </tbody>\n",
       "</table>\n",
       "<p>6058 rows × 6 columns</p>\n",
       "</div>"
      ],
      "text/plain": [
       "                Open      High       Low     Close    Change    Volume\n",
       "Date                                                                  \n",
       "2000-01-03  0.186024  0.184788  0.181568  0.183161  0.454331  0.051867\n",
       "2000-01-04  0.182720  0.179410  0.171936  0.170036  0.314986  0.058822\n",
       "2000-01-05  0.169580  0.169507  0.167289  0.170668  0.510109  0.065713\n",
       "2000-01-06  0.170213  0.169183  0.170682  0.170984  0.505605  0.066326\n",
       "2000-01-07  0.170529  0.176164  0.172713  0.179927  0.627970  0.078299\n",
       "...              ...       ...       ...       ...       ...       ...\n",
       "2024-01-25  0.990762  0.992223  0.988956  0.992057  0.526155  0.330118\n",
       "2024-01-26  0.991292  0.994240  0.991811  0.991306  0.508007  0.270026\n",
       "2024-01-29  0.992243  0.999580  0.993206  1.000000  0.617828  0.285499\n",
       "2024-01-30  1.000000  1.000000  1.000000  0.999304  0.498066  0.313514\n",
       "2024-01-31  0.993713  0.994254  0.983264  0.980646  0.322525  0.390990\n",
       "\n",
       "[6058 rows x 6 columns]"
      ]
     },
     "execution_count": 10,
     "metadata": {},
     "output_type": "execute_result"
    }
   ],
   "source": [
    "normalized_data = normalize_data(data)\n",
    "normalized_data"
   ]
  },
  {
   "cell_type": "code",
   "execution_count": 11,
   "metadata": {},
   "outputs": [],
   "source": [
    "# plt = config_chart('Normalized Data')\n",
    "# plt.plot(normalized_data)\n",
    "# plt.legend(['Open', 'High', 'Low', 'Close'])"
   ]
  },
  {
   "attachments": {},
   "cell_type": "markdown",
   "metadata": {},
   "source": [
    "----"
   ]
  },
  {
   "attachments": {},
   "cell_type": "markdown",
   "metadata": {},
   "source": [
    "## For **prepare_sequences** function"
   ]
  },
  {
   "cell_type": "code",
   "execution_count": 12,
   "metadata": {},
   "outputs": [],
   "source": [
    "x, y, x_dates, y_dates = prepare_sequences(normalized_data)"
   ]
  },
  {
   "cell_type": "code",
   "execution_count": 13,
   "metadata": {},
   "outputs": [
    {
     "data": {
      "text/plain": [
       "((6041, 15, 6), (6041, 1, 1), (6041, 15), (6041, 1))"
      ]
     },
     "execution_count": 13,
     "metadata": {},
     "output_type": "execute_result"
    }
   ],
   "source": [
    "x.shape, y.shape, x_dates.shape, y_dates.shape"
   ]
  },
  {
   "cell_type": "code",
   "execution_count": 14,
   "metadata": {},
   "outputs": [
    {
     "data": {
      "text/plain": [
       "array([[[0.48131888]],\n",
       "\n",
       "       [[0.48268716]],\n",
       "\n",
       "       [[0.37303238]],\n",
       "\n",
       "       ...,\n",
       "\n",
       "       [[0.5080073 ]],\n",
       "\n",
       "       [[0.61782823]],\n",
       "\n",
       "       [[0.49806608]]])"
      ]
     },
     "execution_count": 14,
     "metadata": {},
     "output_type": "execute_result"
    }
   ],
   "source": [
    "y"
   ]
  },
  {
   "cell_type": "code",
   "execution_count": 15,
   "metadata": {},
   "outputs": [
    {
     "data": {
      "text/plain": [
       "(array([[0.48131888]]),\n",
       " array(['2000-01-26T00:00:00.000000000'], dtype='datetime64[ns]'))"
      ]
     },
     "execution_count": 15,
     "metadata": {},
     "output_type": "execute_result"
    }
   ],
   "source": [
    "y[0], y_dates[0]"
   ]
  },
  {
   "cell_type": "code",
   "execution_count": 16,
   "metadata": {},
   "outputs": [
    {
     "data": {
      "text/plain": [
       "(array([[0.18271985, 0.17941036, 0.17193635, 0.17003575, 0.31498627,\n",
       "         0.05882167],\n",
       "        [0.16957997, 0.16950674, 0.16728872, 0.17066847, 0.51010859,\n",
       "         0.06571347],\n",
       "        [0.1702134 , 0.16918331, 0.17068206, 0.17098365, 0.50560507,\n",
       "         0.06632607],\n",
       "        [0.17052894, 0.17616423, 0.1727129 , 0.17992659, 0.6279698 ,\n",
       "         0.07829887],\n",
       "        [0.17948197, 0.18156815, 0.18229995, 0.18372064, 0.55494467,\n",
       "         0.06384863],\n",
       "        [0.18328029, 0.18022249, 0.18064094, 0.17924213, 0.43761774,\n",
       "         0.05927212],\n",
       "        [0.17879674, 0.17643101, 0.17891365, 0.1777579 , 0.48008457,\n",
       "         0.05572262],\n",
       "        [0.17731083, 0.17916955, 0.18013028, 0.18185774, 0.55928164,\n",
       "         0.06074957],\n",
       "        [0.18141529, 0.1836079 , 0.18423197, 0.18549653, 0.55274279,\n",
       "         0.0657495 ],\n",
       "        [0.18505819, 0.18175466, 0.18461319, 0.18314201, 0.46774153,\n",
       "         0.06311891],\n",
       "        [0.18270102, 0.18086699, 0.18399665, 0.18332078, 0.50367034,\n",
       "         0.06592067],\n",
       "        [0.18287999, 0.18188685, 0.18161047, 0.18089097, 0.46667378,\n",
       "         0.06708282],\n",
       "        [0.18044744, 0.17892877, 0.1818599 , 0.17990072, 0.4870905 ,\n",
       "         0.0769115 ],\n",
       "        [0.17945607, 0.17914358, 0.17146335, 0.17053205, 0.36826213,\n",
       "         0.06844316],\n",
       "        [0.17007683, 0.16974046, 0.16983255, 0.1725314 , 0.52949096,\n",
       "         0.06465042]]),\n",
       " array(['2000-01-04T00:00:00.000000000', '2000-01-05T00:00:00.000000000',\n",
       "        '2000-01-06T00:00:00.000000000', '2000-01-07T00:00:00.000000000',\n",
       "        '2000-01-10T00:00:00.000000000', '2000-01-11T00:00:00.000000000',\n",
       "        '2000-01-12T00:00:00.000000000', '2000-01-13T00:00:00.000000000',\n",
       "        '2000-01-14T00:00:00.000000000', '2000-01-18T00:00:00.000000000',\n",
       "        '2000-01-19T00:00:00.000000000', '2000-01-20T00:00:00.000000000',\n",
       "        '2000-01-21T00:00:00.000000000', '2000-01-24T00:00:00.000000000',\n",
       "        '2000-01-25T00:00:00.000000000'], dtype='datetime64[ns]'))"
      ]
     },
     "execution_count": 16,
     "metadata": {},
     "output_type": "execute_result"
    }
   ],
   "source": [
    "x[0], x_dates[0]"
   ]
  },
  {
   "cell_type": "code",
   "execution_count": 17,
   "metadata": {},
   "outputs": [],
   "source": [
    "# plt = config_chart('Last 10 Days Input and Next 3 Days Output Data')\n",
    "# plt.plot(x_dates[0], x[0, :, 1])\n",
    "# plt.plot(x_dates[0], x[0, :, 2])\n",
    "# plt.plot(y_dates[0], y[0, :, 1])\n",
    "# plt.plot(y_dates[0], y[0, :, 2])\n",
    "# plt.legend(['Direction X', 'Change X', 'Direction Y', 'Change Y'])\n"
   ]
  },
  {
   "cell_type": "code",
   "execution_count": 18,
   "metadata": {},
   "outputs": [
    {
     "data": {
      "text/plain": [
       "<matplotlib.legend.Legend at 0x1ef0c261b70>"
      ]
     },
     "execution_count": 18,
     "metadata": {},
     "output_type": "execute_result"
    },
    {
     "data": {
      "image/png": "[encoded data removed]",
      "text/plain": [
       "<Figure size 1200x600 with 1 Axes>"
      ]
     },
     "metadata": {},
     "output_type": "display_data"
    }
   ],
   "source": [
    "plt = config_chart('Last 10 Days Input and Next 3 Days Output Data')\n",
    "plt.plot(x_dates[0], x[0, :, 0])\n",
    "plt.plot(y_dates[0], y[0, :, 0])\n",
    "plt.legend(['Price X', 'Price Y'])"
   ]
  },
  {
   "attachments": {},
   "cell_type": "markdown",
   "metadata": {},
   "source": [
    "---"
   ]
  },
  {
   "attachments": {},
   "cell_type": "markdown",
   "metadata": {},
   "source": [
    "## For **split_train_and_test_data** function"
   ]
  },
  {
   "cell_type": "code",
   "execution_count": 19,
   "metadata": {},
   "outputs": [],
   "source": [
    "train, test, predict = split_train_and_test_data(x, y, x_dates, y_dates)"
   ]
  },
  {
   "cell_type": "code",
   "execution_count": 20,
   "metadata": {},
   "outputs": [
    {
     "data": {
      "text/plain": [
       "((4832, 15, 6), (4832, 15), (4832, 1, 1), (4832, 1))"
      ]
     },
     "execution_count": 20,
     "metadata": {},
     "output_type": "execute_result"
    }
   ],
   "source": [
    "train['x'].shape,  train['x_dates'].shape, train['y'].shape,  train['y_dates'].shape"
   ]
  },
  {
   "cell_type": "code",
   "execution_count": 21,
   "metadata": {},
   "outputs": [
    {
     "data": {
      "text/plain": [
       "((604, 15, 6), (604, 15), (604, 1, 1), (604, 1))"
      ]
     },
     "execution_count": 21,
     "metadata": {},
     "output_type": "execute_result"
    }
   ],
   "source": [
    "test['x'].shape, test['x_dates'].shape, test['y'].shape, test['y_dates'].shape"
   ]
  },
  {
   "cell_type": "code",
   "execution_count": 22,
   "metadata": {},
   "outputs": [
    {
     "data": {
      "text/plain": [
       "((605, 15, 6), (605, 15), (605, 1, 1), (605, 1))"
      ]
     },
     "execution_count": 22,
     "metadata": {},
     "output_type": "execute_result"
    }
   ],
   "source": [
    "predict['x'].shape, predict['x_dates'].shape, predict['y'].shape, predict['y_dates'].shape"
   ]
  },
  {
   "cell_type": "code",
   "execution_count": 23,
   "metadata": {},
   "outputs": [
    {
     "data": {
      "text/plain": [
       "<matplotlib.legend.Legend at 0x1ef6368b1c0>"
      ]
     },
     "execution_count": 23,
     "metadata": {},
     "output_type": "execute_result"
    },
    {
     "data": {
      "image/png": "[encoded data removed]",
      "text/plain": [
       "<Figure size 1200x600 with 1 Axes>"
      ]
     },
     "metadata": {},
     "output_type": "display_data"
    }
   ],
   "source": [
    "plt = config_chart('Model Data')\n",
    "plt.plot(train['y_dates'][:, 0], train['y'][:, 0, 0])\n",
    "plt.plot(test['y_dates'][:, 0], test['y'][:, 0, 0])\n",
    "plt.plot(predict['y_dates'][:, 0], predict['y'][:, 0, 0])\n",
    "plt.legend(['Train', 'Test', 'Predict'])"
   ]
  },
  {
   "attachments": {},
   "cell_type": "markdown",
   "metadata": {},
   "source": [
    "---"
   ]
  },
  {
   "attachments": {},
   "cell_type": "markdown",
   "metadata": {},
   "source": [
    "## For **prepare_tensors** function"
   ]
  },
  {
   "cell_type": "code",
   "execution_count": 24,
   "metadata": {},
   "outputs": [],
   "source": [
    "# x_train, y_train = prepare_tensors(train['x'], train['y'])\n",
    "# x_test, y_test = prepare_tensors(test['x'], test['y'])\n",
    "# x_predict, y_predict = prepare_tensors(predict['x'], predict['y'])"
   ]
  },
  {
   "cell_type": "code",
   "execution_count": 25,
   "metadata": {},
   "outputs": [],
   "source": [
    "# x_train.shape, y_train.shape"
   ]
  },
  {
   "cell_type": "code",
   "execution_count": 26,
   "metadata": {},
   "outputs": [],
   "source": [
    "# print('x_train:', x_train.shape)\n",
    "# print(x_train[0])"
   ]
  },
  {
   "cell_type": "code",
   "execution_count": 27,
   "metadata": {},
   "outputs": [],
   "source": [
    "# print('y_train:', y_train.shape)\n",
    "# print(y_train[0])"
   ]
  },
  {
   "cell_type": "code",
   "execution_count": 28,
   "metadata": {},
   "outputs": [],
   "source": [
    "# x_test.shape, y_test.shape"
   ]
  },
  {
   "cell_type": "code",
   "execution_count": 29,
   "metadata": {},
   "outputs": [],
   "source": [
    "# print('x_test:',x_test.shape)\n",
    "# print(x_test[0])"
   ]
  },
  {
   "cell_type": "code",
   "execution_count": 30,
   "metadata": {},
   "outputs": [],
   "source": [
    "# print('y_test:',y_test.shape)\n",
    "# print(y_test[0])"
   ]
  },
  {
   "attachments": {},
   "cell_type": "markdown",
   "metadata": {},
   "source": [
    "---"
   ]
  },
  {
   "attachments": {},
   "cell_type": "markdown",
   "metadata": {},
   "source": [
    "## For **get_lstm_data** function"
   ]
  },
  {
   "cell_type": "code",
   "execution_count": 31,
   "metadata": {},
   "outputs": [],
   "source": [
    "train, test, predict = get_lstm_data(SP500_TICKER)"
   ]
  },
  {
   "cell_type": "code",
   "execution_count": 32,
   "metadata": {},
   "outputs": [
    {
     "name": "stdout",
     "output_type": "stream",
     "text": [
      "(4832, 15, 6)\n",
      "[[0.18271985 0.17941036 0.17193635 0.17003575 0.31498627 0.05882167]\n",
      " [0.16957997 0.16950674 0.16728872 0.17066847 0.51010859 0.06571347]\n",
      " [0.1702134  0.16918331 0.17068206 0.17098365 0.50560507 0.06632607]\n",
      " [0.17052894 0.17616423 0.1727129  0.17992659 0.6279698  0.07829887]\n",
      " [0.17948197 0.18156815 0.18229995 0.18372064 0.55494467 0.06384863]\n",
      " [0.18328029 0.18022249 0.18064094 0.17924213 0.43761774 0.05927212]\n",
      " [0.17879674 0.17643101 0.17891365 0.1777579  0.48008457 0.05572262]\n",
      " [0.17731083 0.17916955 0.18013028 0.18185774 0.55928164 0.06074957]\n",
      " [0.18141529 0.1836079  0.18423197 0.18549653 0.55274279 0.0657495 ]\n",
      " [0.18505819 0.18175466 0.18461319 0.18314201 0.46774153 0.06311891]\n",
      " [0.18270102 0.18086699 0.18399665 0.18332078 0.50367034 0.06592067]\n",
      " [0.18287999 0.18188685 0.18161047 0.18089097 0.46667378 0.06708282]\n",
      " [0.18044744 0.17892877 0.1818599  0.17990072 0.4870905  0.0769115 ]\n",
      " [0.17945607 0.17914358 0.17146335 0.17053205 0.36826213 0.06844316]\n",
      " [0.17007683 0.16974046 0.16983255 0.1725314  0.52949096 0.06465042]]\n",
      "(4832, 15)\n",
      "['2000-01-04T00:00:00.000000000' '2000-01-05T00:00:00.000000000'\n",
      " '2000-01-06T00:00:00.000000000' '2000-01-07T00:00:00.000000000'\n",
      " '2000-01-10T00:00:00.000000000' '2000-01-11T00:00:00.000000000'\n",
      " '2000-01-12T00:00:00.000000000' '2000-01-13T00:00:00.000000000'\n",
      " '2000-01-14T00:00:00.000000000' '2000-01-18T00:00:00.000000000'\n",
      " '2000-01-19T00:00:00.000000000' '2000-01-20T00:00:00.000000000'\n",
      " '2000-01-21T00:00:00.000000000' '2000-01-24T00:00:00.000000000'\n",
      " '2000-01-25T00:00:00.000000000']\n"
     ]
    }
   ],
   "source": [
    "print(train['x'].shape) \n",
    "print(train['x'][0])\n",
    "\n",
    "print(train['x_dates'].shape) \n",
    "print(train['x_dates'][0])\n"
   ]
  },
  {
   "cell_type": "code",
   "execution_count": 33,
   "metadata": {},
   "outputs": [
    {
     "name": "stdout",
     "output_type": "stream",
     "text": [
      "(4832, 1, 1)\n",
      "[[0.48131888]]\n",
      "(4832, 1)\n",
      "['2000-01-26T00:00:00.000000000']\n"
     ]
    }
   ],
   "source": [
    "\n",
    "print(train['y'].shape)\n",
    "print(train['y'][0])\n",
    "\n",
    "print(train['y_dates'].shape) \n",
    "print(train['y_dates'][0])"
   ]
  },
  {
   "cell_type": "code",
   "execution_count": 34,
   "metadata": {},
   "outputs": [
    {
     "name": "stdout",
     "output_type": "stream",
     "text": [
      "(604, 15, 6)\n",
      "[[0.50403496 0.51112657 0.50608307 0.5123841  0.61842848 0.29337865]\n",
      " [0.50987492 0.50778597 0.50210378 0.49964244 0.3549845  0.35113548]\n",
      " [0.49845169 0.49919971 0.49846805 0.49908971 0.50897487 0.27477442]\n",
      " [0.50237244 0.50394025 0.50293212 0.50381753 0.52048392 0.26418538]\n",
      " [0.50403496 0.50292272 0.49910341 0.50073858 0.4532638  0.27624196]\n",
      " [0.50160477 0.50154162 0.50170374 0.50310717 0.52128452 0.25489633]\n",
      " [0.50604834 0.50539449 0.50651844 0.50756687 0.52158424 0.30598208]\n",
      " [0.51084272 0.51327251 0.51343691 0.51527963 0.56305133 0.28864629]\n",
      " [0.51546055 0.5140988  0.51581841 0.51529141 0.49779894 0.26226108]\n",
      " [0.5173091  0.51701443 0.51732916 0.51674032 0.49216048 0.28953907]\n",
      " [0.51681457 0.51607719 0.51779274 0.51814927 0.51914903 0.2416785 ]\n",
      " [0.5192094  0.51890072 0.52152263 0.52128943 0.5297581  0.25223961]\n",
      " [0.52022198 0.5195405  0.52100258 0.52200214 0.52552131 0.24327487]\n",
      " [0.5197793  0.51739922 0.51924943 0.51786937 0.47317882 0.24111454]\n",
      " [0.51855245 0.51806735 0.52061426 0.52022389 0.52395267 0.24649735]]\n",
      "(604, 15)\n",
      "['2019-03-21T00:00:00.000000000' '2019-03-22T00:00:00.000000000'\n",
      " '2019-03-25T00:00:00.000000000' '2019-03-26T00:00:00.000000000'\n",
      " '2019-03-27T00:00:00.000000000' '2019-03-28T00:00:00.000000000'\n",
      " '2019-03-29T00:00:00.000000000' '2019-04-01T00:00:00.000000000'\n",
      " '2019-04-02T00:00:00.000000000' '2019-04-03T00:00:00.000000000'\n",
      " '2019-04-04T00:00:00.000000000' '2019-04-05T00:00:00.000000000'\n",
      " '2019-04-08T00:00:00.000000000' '2019-04-09T00:00:00.000000000'\n",
      " '2019-04-10T00:00:00.000000000']\n",
      "(604, 1, 1)\n",
      "[[0.48912582]]\n",
      "(604, 1)\n",
      "['2019-04-11T00:00:00.000000000']\n"
     ]
    }
   ],
   "source": [
    "print(test['x'].shape) \n",
    "print(test['x'][0])\n",
    "\n",
    "print(test['x_dates'].shape) \n",
    "print(test['x_dates'][0])\n",
    "\n",
    "print(test['y'].shape)\n",
    "print(test['y'][0])\n",
    "\n",
    "print(test['y_dates'].shape) \n",
    "print(test['y_dates'][0])"
   ]
  },
  {
   "cell_type": "code",
   "execution_count": 35,
   "metadata": {},
   "outputs": [
    {
     "name": "stdout",
     "output_type": "stream",
     "text": [
      "(605, 15, 6)\n",
      "[[0.8870134  0.88920213 0.88697204 0.89013029 0.55034097 0.27199968]\n",
      " [0.89143098 0.89076029 0.89282214 0.89181678 0.51167723 0.23967222]\n",
      " [0.89067981 0.89356722 0.88737214 0.89457115 0.56138333 0.27157897]\n",
      " [0.89079053 0.88928478 0.88270566 0.88713128 0.45429734 0.31358917]\n",
      " [0.88580299 0.88744327 0.87794267 0.87588556 0.36546    0.30625865]\n",
      " [0.87202729 0.8790128  0.87091596 0.87718626 0.57906349 0.36416953]\n",
      " [0.87864907 0.8850896  0.88010999 0.8856235  0.60491751 0.2969813 ]\n",
      " [0.88800476 0.89583835 0.89034424 0.89452877 0.59867879 0.29012735]\n",
      " [0.89603702 0.89653012 0.89787216 0.89610477 0.50724009 0.3264052 ]\n",
      " [0.89746176 0.89863122 0.89866763 0.89844752 0.52028275 0.27825094]\n",
      " [0.8982388  0.89725957 0.89474482 0.89228721 0.42190489 0.2619701 ]\n",
      " [0.8936116  0.90137452 0.89594729 0.90154772 0.6187958  0.26802587]\n",
      " [0.90295074 0.90704751 0.90528012 0.9061156  0.55127596 0.25338283]\n",
      " [0.90671615 0.90563817 0.90576018 0.90467846 0.47754999 0.35446696]\n",
      " [0.9064924  0.90698849 0.90722394 0.90501004 0.4854225  0.33344294]]\n",
      "(605, 15)\n",
      "['2021-08-12T00:00:00.000000000' '2021-08-13T00:00:00.000000000'\n",
      " '2021-08-16T00:00:00.000000000' '2021-08-17T00:00:00.000000000'\n",
      " '2021-08-18T00:00:00.000000000' '2021-08-19T00:00:00.000000000'\n",
      " '2021-08-20T00:00:00.000000000' '2021-08-23T00:00:00.000000000'\n",
      " '2021-08-24T00:00:00.000000000' '2021-08-25T00:00:00.000000000'\n",
      " '2021-08-26T00:00:00.000000000' '2021-08-27T00:00:00.000000000'\n",
      " '2021-08-30T00:00:00.000000000' '2021-08-31T00:00:00.000000000'\n",
      " '2021-09-01T00:00:00.000000000']\n",
      "(605, 1, 1)\n",
      "[[0.50937558]]\n",
      "(605, 1)\n",
      "['2021-09-02T00:00:00.000000000']\n"
     ]
    }
   ],
   "source": [
    "print(predict['x'].shape) \n",
    "print(predict['x'][0])\n",
    "\n",
    "print(predict['x_dates'].shape) \n",
    "print(predict['x_dates'][0])\n",
    "\n",
    "print(predict['y'].shape)\n",
    "print(predict['y'][0])\n",
    "\n",
    "print(predict['y_dates'].shape) \n",
    "print(predict['y_dates'][0])"
   ]
  }
 ],
 "metadata": {
  "kernelspec": {
   "display_name": "venv",
   "language": "python",
   "name": "python3"
  },
  "language_info": {
   "codemirror_mode": {
    "name": "ipython",
    "version": 3
   },
   "file_extension": ".py",
   "mimetype": "text/x-python",
   "name": "python",
   "nbconvert_exporter": "python",
   "pygments_lexer": "ipython3",
   "version": "3.10.9"
  },
  "orig_nbformat": 4,
  "vscode": {
   "interpreter": {
    "hash": "73f5850e139343e7d56cdbfd592890725b73c7b65ece657753fc54e096f228ca"
   }
  }
 },
 "nbformat": 4,
 "nbformat_minor": 2
}
