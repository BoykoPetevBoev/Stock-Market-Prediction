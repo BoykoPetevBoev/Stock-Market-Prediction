{
 "cells": [
  {
   "cell_type": "code",
   "execution_count": 1,
   "metadata": {},
   "outputs": [
    {
     "name": "stdout",
     "output_type": "stream",
     "text": [
      "f:\\DR\\Stock-Market-Prediction\\src\n"
     ]
    }
   ],
   "source": [
    "%cd ../.."
   ]
  },
  {
   "cell_type": "code",
   "execution_count": 48,
   "metadata": {},
   "outputs": [],
   "source": [
    "import tensorflow as tf\n",
    "import matplotlib.pyplot as plt\n",
    "import mplfinance as mpf\n",
    "import pandas as pd\n",
    "from pandas.tseries.offsets import DateOffset\n",
    "\n",
    "from mplfinance.original_flavor import candlestick_ohlc\n",
    "from cnn_normalize import prepare_data, normalize_data, generateImages, prepare_sequences, split_train_and_test_data, get_cnn_data\n",
    "from utils.chart import config_chart\n",
    "from constants import SP500_TICKER\n",
    "\n",
    "from tensorflow.keras.preprocessing.image import ImageDataGenerator\n",
    "from tensorflow.data import Dataset\n",
    "import os\n",
    "\n",
    "\n",
    "from tensorflow.keras.models import Sequential, load_model\n",
    "from tensorflow.keras.layers import Conv1D, Dense, MaxPooling1D, Flatten, Input\n",
    "from tensorflow.keras.optimizers import Adam\n",
    "from tensorflow.keras.callbacks import TensorBoard\n",
    "\n",
    "tf.keras.backend.clear_session()"
   ]
  },
  {
   "attachments": {},
   "cell_type": "markdown",
   "metadata": {},
   "source": [
    "---"
   ]
  },
  {
   "attachments": {},
   "cell_type": "markdown",
   "metadata": {},
   "source": [
    "## For **prepare_data** function"
   ]
  },
  {
   "cell_type": "code",
   "execution_count": null,
   "metadata": {},
   "outputs": [],
   "source": [
    "data = prepare_data(SP500_TICKER)\n",
    "\n",
    "\n",
    "# Show data\n",
    "print(data.shape)\n",
    "print(data.dtypes)\n",
    "# Save the plot as an image with 50x50 pixels\n",
    "\n",
    "# Show the plot\n",
    "# plt.show()\n",
    "# plt.show()\n",
    "\n",
    "plt = config_chart('Original Data')\n",
    "plt.plot(data.Close)\n",
    "plt.legend(['Close'])\n",
    "\n",
    "plt = config_chart('Daily Change')\n",
    "plt.plot(data.Change)\n",
    "plt.legend(['Change'])\n",
    "\n",
    "\n",
    "test = data['Close'] - data['Low']\n",
    "tets2 = data['High'] - data['Close']\n",
    "\n",
    "plt = config_chart('Model Data Price')\n",
    "plt.plot(test [0:100])\n",
    "plt.plot(tets2[0:100])\n",
    "plt.plot(data.Direction[0:100])"
   ]
  },
  {
   "attachments": {},
   "cell_type": "markdown",
   "metadata": {},
   "source": [
    "---\n",
    "\n",
    "## For **generateImages** function"
   ]
  },
  {
   "cell_type": "code",
   "execution_count": null,
   "metadata": {},
   "outputs": [],
   "source": [
    "\n",
    "\n",
    "generateImages(data)"
   ]
  },
  {
   "attachments": {},
   "cell_type": "markdown",
   "metadata": {},
   "source": [
    "---\n",
    "\n",
    "## For **getImages** function"
   ]
  },
  {
   "cell_type": "code",
   "execution_count": 54,
   "metadata": {},
   "outputs": [
    {
     "name": "stdout",
     "output_type": "stream",
     "text": [
      "Found 990 images belonging to 5 classes.\n",
      "['bearish_reverse', 'bearish_trend', 'bullish_reverse', 'bullish_trend', 'neutral']\n",
      "['models/cnn_v3/data/bearish_reverse', 'models/cnn_v3/data/bearish_trend', 'models/cnn_v3/data/bullish_reverse', 'models/cnn_v3/data/bullish_trend', 'models/cnn_v3/data/neutral']\n",
      "990\n",
      "990\n",
      "Epoch 1/10\n",
      "247/247 [==============================] - 30s 118ms/step - loss: 1.9753\n",
      "Epoch 2/10\n",
      "247/247 [==============================] - 29s 119ms/step - loss: 1.5269\n",
      "Epoch 3/10\n",
      "247/247 [==============================] - 29s 119ms/step - loss: 1.4889\n",
      "Epoch 4/10\n",
      "247/247 [==============================] - 29s 117ms/step - loss: 1.4634\n",
      "Epoch 5/10\n",
      "247/247 [==============================] - 29s 117ms/step - loss: 1.4470\n",
      "Epoch 6/10\n",
      "247/247 [==============================] - 29s 116ms/step - loss: 1.4353\n",
      "Epoch 7/10\n",
      "247/247 [==============================] - 29s 116ms/step - loss: 1.4309\n",
      "Epoch 8/10\n",
      "247/247 [==============================] - 28s 115ms/step - loss: 1.4295\n",
      "Epoch 9/10\n",
      "247/247 [==============================] - 29s 116ms/step - loss: 1.4162\n",
      "Epoch 10/10\n",
      "247/247 [==============================] - 28s 115ms/step - loss: 1.4197\n"
     ]
    },
    {
     "data": {
      "text/plain": [
       "<keras.src.callbacks.History at 0x2310e3fdb10>"
      ]
     },
     "execution_count": 54,
     "metadata": {},
     "output_type": "execute_result"
    },
    {
     "data": {
      "image/png": "[encoded data removed]",
      "text/plain": [
       "<Figure size 640x480 with 1 Axes>"
      ]
     },
     "metadata": {},
     "output_type": "display_data"
    }
   ],
   "source": [
    "BASE_DIR = \"models/cnn_v3/data/\"\n",
    "\n",
    "generator = ImageDataGenerator()\n",
    "\n",
    "images = generator.flow_from_directory(BASE_DIR)\n",
    "\n",
    "img = images.__next__()[0]\n",
    "img.shape\n",
    "\n",
    "plt.imshow(img[4] / 255.0)\n",
    "\n",
    "Dataset.from_tensor_slices([1,2,3])\n",
    "\n",
    "classes = os.listdir(BASE_DIR)\n",
    "folders = [BASE_DIR + class_name for class_name in classes]\n",
    "\n",
    "print(classes)\n",
    "print(folders)\n",
    "\n",
    "all_files = []\n",
    "all_classes = []\n",
    "\n",
    "for folder_name, class_name in zip(folders, classes):\n",
    "    files = os.listdir(folder_name)\n",
    "    all_files.extend([os.path.join(folder_name, file) for file in files])\n",
    "    all_classes.extend([class_name] * len(files))\n",
    "\n",
    "print(len(all_files))\n",
    "print(len(all_classes))\n",
    "\n",
    "class_mapping = {class_name: class_id for (class_id, class_name) in list(enumerate(classes))}\n",
    "\n",
    "all_class_ids = [class_mapping[c] for c in all_classes]\n",
    "\n",
    "def read_images(file_name, class_name):\n",
    "    image_file = tf.io.read_file(file_name)\n",
    "    image = tf.image.decode_png(image_file)\n",
    "    image_scaled = tf.cast(image, float) / 255.0\n",
    "    image_resized = tf.image.resize(image_scaled, (256, 256))\n",
    "    return (image_resized, class_name)\n",
    "\n",
    "dataset = Dataset.from_tensor_slices((all_files, all_class_ids)).shuffle(len(all_files)).map(read_images).batch(4).repeat()\n",
    "\n",
    "\n",
    "# for el in dataset.take(1):\n",
    "#     print(el[0].numpy(), el[1].numpy())\n",
    "    \n",
    "model = Sequential([\n",
    "        Input((256, 256, 4)),\n",
    "        Conv1D(filters=32, kernel_size=(1,), activation='relu'),\n",
    "        Conv1D(filters=16, kernel_size=(1,), activation='relu'),\n",
    "        Conv1D(filters=8, kernel_size=(1,), activation='relu'),\n",
    "        Flatten(),\n",
    "        Dense(units=32, activation='relu'),\n",
    "        Dense(units=5, activation='softmax')\n",
    "    ])\n",
    "\n",
    "model.compile(loss=\"sparse_categorical_crossentropy\", optimizer=\"adam\")\n",
    "model.fit(dataset, epochs=10, steps_per_epoch=len(all_files) // 4)\n",
    "\n"
   ]
  },
  {
   "cell_type": "code",
   "execution_count": 57,
   "metadata": {},
   "outputs": [
    {
     "name": "stdout",
     "output_type": "stream",
     "text": [
      "<_RepeatDataset element_spec=(TensorSpec(shape=(None, 256, 256, None), dtype=tf.float32, name=None), TensorSpec(shape=(None,), dtype=tf.int32, name=None))>\n"
     ]
    }
   ],
   "source": [
    "\n",
    "# prediction_data = dataset[0:10]\n",
    "print(dataset)\n",
    "# prediction = model.predict(dataset)"
   ]
  },
  {
   "attachments": {},
   "cell_type": "markdown",
   "metadata": {},
   "source": [
    "----"
   ]
  },
  {
   "attachments": {},
   "cell_type": "markdown",
   "metadata": {},
   "source": [
    "## For **prepare_sequences** function"
   ]
  },
  {
   "cell_type": "code",
   "execution_count": null,
   "metadata": {},
   "outputs": [],
   "source": [
    "indicators, indicators_dates, target, target_dates = prepare_sequences(data)\n",
    "\n",
    "# # Show data\n",
    "print(indicators.shape)\n",
    "print(indicators_dates.shape)\n",
    "print(indicators[0])\n",
    "print(indicators_dates[0])\n",
    "\n",
    "print(target.shape)\n",
    "print(target_dates.shape)\n",
    "print(target)\n",
    "print(target_dates[0])\n",
    "\n",
    "plt = config_chart('Model Data Price')\n",
    "plt.plot(target_dates[0:500], target[0:500])\n",
    "plt.legend(['Target'])\n"
   ]
  },
  {
   "attachments": {},
   "cell_type": "markdown",
   "metadata": {},
   "source": [
    "---"
   ]
  },
  {
   "attachments": {},
   "cell_type": "markdown",
   "metadata": {},
   "source": [
    "## For **split_train_and_test_data** function"
   ]
  },
  {
   "cell_type": "code",
   "execution_count": null,
   "metadata": {},
   "outputs": [],
   "source": [
    "train, test, predict = split_train_and_test_data(indicators, target, indicators_dates, target_dates)\n",
    "\n",
    "\n",
    "# Show data:\n",
    "print(train[\"x\"].shape)\n",
    "print(train[\"y\"].shape)\n",
    "\n",
    "print(test[\"x\"].shape)\n",
    "print(test[\"y\"].shape)\n",
    "\n",
    "print(predict[\"x\"].shape)\n",
    "print(predict[\"y\"].shape)\n",
    "\n",
    "plt = config_chart('Model Data Price')\n",
    "plt.plot(train['x_dates'], train['x'][:, 0])\n",
    "plt.plot(test['x_dates'], test['x'][:, 0])\n",
    "plt.plot(predict['x_dates'], predict['x'][:, 0])\n",
    "plt.legend(['Train', 'Test', 'Predict'])\n",
    "\n",
    "plt = config_chart('Model Data Change')\n",
    "plt.plot(train['x_dates'], train['x'][:, 2])\n",
    "plt.plot(test['x_dates'], test['x'][:, 2])\n",
    "plt.plot(predict['x_dates'], predict['x'][:, 2])\n",
    "plt.legend(['Train', 'Test', 'Predict'])"
   ]
  },
  {
   "attachments": {},
   "cell_type": "markdown",
   "metadata": {},
   "source": [
    "---"
   ]
  },
  {
   "attachments": {},
   "cell_type": "markdown",
   "metadata": {},
   "source": [
    "## For **get_lstm_data** function"
   ]
  },
  {
   "cell_type": "code",
   "execution_count": null,
   "metadata": {},
   "outputs": [],
   "source": [
    "train, test, predict = get_cnn_data(SP500_TICKER)"
   ]
  },
  {
   "cell_type": "code",
   "execution_count": null,
   "metadata": {},
   "outputs": [],
   "source": [
    "print(train[\"x\"].shape) \n",
    "print(train[\"x\"])\n",
    "\n",
    "print(train[\"y\"].shape)\n",
    "print(train[\"y\"])\n"
   ]
  },
  {
   "cell_type": "code",
   "execution_count": null,
   "metadata": {},
   "outputs": [],
   "source": [
    "print(test[\"x\"].shape)\n",
    "print(test[\"x\"])\n",
    "\n",
    "print(test[\"y\"].shape)\n",
    "print(test[\"y\"])"
   ]
  },
  {
   "cell_type": "code",
   "execution_count": null,
   "metadata": {},
   "outputs": [],
   "source": [
    "print(predict[\"x\"].shape) \n",
    "print(predict[\"x\"])\n",
    "\n",
    "print(predict[\"y\"].shape)\n",
    "print(predict[\"y\"])"
   ]
  },
  {
   "cell_type": "code",
   "execution_count": null,
   "metadata": {},
   "outputs": [],
   "source": [
    "num_columns = predict[\"x\"].shape[1]  # Get the number of columns\n",
    "\n",
    "index = 20\n",
    "\n",
    "plt = config_chart('Model Data')\n",
    "plt.plot(predict['x_dates'][0:index], predict[\"x\"][:, 0][0:index])\n",
    "plt.plot(predict['x_dates'][0:index], predict[\"x\"][:, 1][0:index])\n",
    "plt.plot(predict['x_dates'][0:index], predict[\"x\"][:, 2][0:index])\n",
    "plt.plot(predict['x_dates'][0:index], predict[\"x\"][:, 3][0:index])\n",
    "# plt.title(f'Column {i+1}')\n",
    "plt.xlabel('Index')\n",
    "plt.ylabel('Value')\n",
    "\n",
    "plt.grid(True)  # Add grid\n",
    "plt.tight_layout()\n",
    "plt.savefig('stock_price_50x50.png', dpi=100)  # Save as PNG image with 100 DPI\n",
    "plt.close()\n",
    "\n",
    "plt.grid(True)\n",
    "plt.show()\n"
   ]
  },
  {
   "cell_type": "code",
   "execution_count": null,
   "metadata": {},
   "outputs": [],
   "source": [
    "\n",
    "# Create subplots\n",
    "# fig, ax = plt.subplots()\n",
    "\n",
    "predict_dataframe = pd.to_datetime(predict[\"x\"])\n",
    "# Plot candlestick chart\n",
    "mpf.plot(predict_dataframe, type='candle', style='charles', volume=True)\n",
    "\n",
    "# Show the plot\n",
    "plt.show()"
   ]
  }
 ],
 "metadata": {
  "kernelspec": {
   "display_name": "venv",
   "language": "python",
   "name": "python3"
  },
  "language_info": {
   "codemirror_mode": {
    "name": "ipython",
    "version": 3
   },
   "file_extension": ".py",
   "mimetype": "text/x-python",
   "name": "python",
   "nbconvert_exporter": "python",
   "pygments_lexer": "ipython3",
   "version": "3.10.9"
  },
  "orig_nbformat": 4,
  "vscode": {
   "interpreter": {
    "hash": "73f5850e139343e7d56cdbfd592890725b73c7b65ece657753fc54e096f228ca"
   }
  }
 },
 "nbformat": 4,
 "nbformat_minor": 2
}
