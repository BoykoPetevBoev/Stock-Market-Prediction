{
 "cells": [
  {
   "cell_type": "code",
   "execution_count": 1,
   "metadata": {},
   "outputs": [
    {
     "name": "stdout",
     "output_type": "stream",
     "text": [
      "c:\\Boyko Boev\\Stock-Market-Prediction\\src\n"
     ]
    },
    {
     "name": "stderr",
     "output_type": "stream",
     "text": [
      "c:\\Boyko Boev\\Stock-Market-Prediction\\.venv\\Lib\\site-packages\\IPython\\core\\magics\\osm.py:417: UserWarning: This is now an optional IPython functionality, setting dhist requires you to install the `pickleshare` library.\n",
      "  self.shell.db['dhist'] = compress_dhist(dhist)[-100:]\n"
     ]
    }
   ],
   "source": [
    "%cd ../.."
   ]
  },
  {
   "cell_type": "code",
   "execution_count": 2,
   "metadata": {},
   "outputs": [
    {
     "name": "stdout",
     "output_type": "stream",
     "text": [
      "WARNING:tensorflow:From c:\\Boyko Boev\\Stock-Market-Prediction\\.venv\\Lib\\site-packages\\keras\\src\\backend\\common\\global_state.py:73: The name tf.reset_default_graph is deprecated. Please use tf.compat.v1.reset_default_graph instead.\n",
      "\n"
     ]
    }
   ],
   "source": [
    "import numpy as np\n",
    "import pandas as pd\n",
    "import tensorflow as tf\n",
    "import matplotlib.pyplot as plt\n",
    "\n",
    "# from mplfinance.original_flavor import candlestick_ohlc\n",
    "\n",
    "from utils.chart import config_chart\n",
    "from constants import SP500_TICKER\n",
    "from models.cnn_v3.cnn_normalize import prepare_data, generate_images, get_images, get_images_dataset, get_classes_and_files, map_classes_and_files, split_train_and_test_data, get_cnn_data\n",
    "\n",
    "tf.keras.backend.clear_session()"
   ]
  },
  {
   "attachments": {},
   "cell_type": "markdown",
   "metadata": {},
   "source": [
    "\n",
    "---\n",
    "\n",
    "## For **prepare_data** function\n",
    "\n",
    "Описание:\n",
    "- Приема стринг като аргумент ticker, който представлява кода на акцията или индекса.\n",
    "- Извиква основната функция get_data за да извлече данните за акцията за периода между предварително зададените START_DATE и END_DATE.\n",
    "- След извличането на данните, функцията преобразува колоната 'Date' в стринг формат 'YYYY-MM-DD' необходимо за имената на генерираните изображения.\n",
    "- Подготвеният DataFrame се връща като резултат от функцията.\n",
    "\n",
    "Цел:\n",
    "- Извличане на данните за индекс S&P 500 в конкретен период"
   ]
  },
  {
   "cell_type": "code",
   "execution_count": 3,
   "metadata": {},
   "outputs": [
    {
     "name": "stdout",
     "output_type": "stream",
     "text": [
      "(5959, 16)\n",
      "Date             object\n",
      "Open            float64\n",
      "High            float64\n",
      "Low             float64\n",
      "Close           float64\n",
      "Adj Close       float64\n",
      "Volume            int64\n",
      "Change          float64\n",
      "Direction         int64\n",
      "MA10            float64\n",
      "MA20            float64\n",
      "MA50            float64\n",
      "MA100           float64\n",
      "RSI             float64\n",
      "Stochastic_K    float64\n",
      "Stochastic_D    float64\n",
      "dtype: object\n"
     ]
    },
    {
     "data": {
      "text/html": [
       "<div>\n",
       "<style scoped>\n",
       "    .dataframe tbody tr th:only-of-type {\n",
       "        vertical-align: middle;\n",
       "    }\n",
       "\n",
       "    .dataframe tbody tr th {\n",
       "        vertical-align: top;\n",
       "    }\n",
       "\n",
       "    .dataframe thead th {\n",
       "        text-align: right;\n",
       "    }\n",
       "</style>\n",
       "<table border=\"1\" class=\"dataframe\">\n",
       "  <thead>\n",
       "    <tr style=\"text-align: right;\">\n",
       "      <th></th>\n",
       "      <th>Date</th>\n",
       "      <th>Open</th>\n",
       "      <th>High</th>\n",
       "      <th>Low</th>\n",
       "      <th>Close</th>\n",
       "      <th>Adj Close</th>\n",
       "      <th>Volume</th>\n",
       "      <th>Change</th>\n",
       "      <th>Direction</th>\n",
       "      <th>MA10</th>\n",
       "      <th>MA20</th>\n",
       "      <th>MA50</th>\n",
       "      <th>MA100</th>\n",
       "      <th>RSI</th>\n",
       "      <th>Stochastic_K</th>\n",
       "      <th>Stochastic_D</th>\n",
       "    </tr>\n",
       "  </thead>\n",
       "  <tbody>\n",
       "    <tr>\n",
       "      <th>99</th>\n",
       "      <td>2000-05-24</td>\n",
       "      <td>1373.859985</td>\n",
       "      <td>1401.750000</td>\n",
       "      <td>1361.089966</td>\n",
       "      <td>1399.050049</td>\n",
       "      <td>1399.050049</td>\n",
       "      <td>1152300000</td>\n",
       "      <td>25.190063</td>\n",
       "      <td>1</td>\n",
       "      <td>1421.276001</td>\n",
       "      <td>1426.065509</td>\n",
       "      <td>1454.346997</td>\n",
       "      <td>1428.297998</td>\n",
       "      <td>44.368469</td>\n",
       "      <td>23.745746</td>\n",
       "      <td>29.372265</td>\n",
       "    </tr>\n",
       "    <tr>\n",
       "      <th>100</th>\n",
       "      <td>2000-05-25</td>\n",
       "      <td>1399.050049</td>\n",
       "      <td>1411.650024</td>\n",
       "      <td>1373.930054</td>\n",
       "      <td>1381.520020</td>\n",
       "      <td>1381.520020</td>\n",
       "      <td>984500000</td>\n",
       "      <td>-17.530029</td>\n",
       "      <td>0</td>\n",
       "      <td>1418.646997</td>\n",
       "      <td>1421.895508</td>\n",
       "      <td>1454.134597</td>\n",
       "      <td>1427.560999</td>\n",
       "      <td>41.539809</td>\n",
       "      <td>19.487574</td>\n",
       "      <td>22.178108</td>\n",
       "    </tr>\n",
       "    <tr>\n",
       "      <th>101</th>\n",
       "      <td>2000-05-26</td>\n",
       "      <td>1381.520020</td>\n",
       "      <td>1391.420044</td>\n",
       "      <td>1369.750000</td>\n",
       "      <td>1378.020020</td>\n",
       "      <td>1378.020020</td>\n",
       "      <td>722600000</td>\n",
       "      <td>-3.500000</td>\n",
       "      <td>0</td>\n",
       "      <td>1414.353003</td>\n",
       "      <td>1418.175006</td>\n",
       "      <td>1452.525598</td>\n",
       "      <td>1427.346998</td>\n",
       "      <td>40.978078</td>\n",
       "      <td>22.968362</td>\n",
       "      <td>22.067228</td>\n",
       "    </tr>\n",
       "    <tr>\n",
       "      <th>102</th>\n",
       "      <td>2000-05-30</td>\n",
       "      <td>1378.020020</td>\n",
       "      <td>1422.449951</td>\n",
       "      <td>1378.020020</td>\n",
       "      <td>1422.449951</td>\n",
       "      <td>1422.449951</td>\n",
       "      <td>844200000</td>\n",
       "      <td>44.429932</td>\n",
       "      <td>1</td>\n",
       "      <td>1411.362000</td>\n",
       "      <td>1415.885004</td>\n",
       "      <td>1451.685198</td>\n",
       "      <td>1427.550398</td>\n",
       "      <td>50.186817</td>\n",
       "      <td>30.103998</td>\n",
       "      <td>24.186645</td>\n",
       "    </tr>\n",
       "    <tr>\n",
       "      <th>103</th>\n",
       "      <td>2000-05-31</td>\n",
       "      <td>1422.439941</td>\n",
       "      <td>1434.489990</td>\n",
       "      <td>1415.500000</td>\n",
       "      <td>1420.599976</td>\n",
       "      <td>1420.599976</td>\n",
       "      <td>960500000</td>\n",
       "      <td>-1.839966</td>\n",
       "      <td>0</td>\n",
       "      <td>1406.817993</td>\n",
       "      <td>1414.600500</td>\n",
       "      <td>1450.964597</td>\n",
       "      <td>1427.721898</td>\n",
       "      <td>49.838139</td>\n",
       "      <td>42.021155</td>\n",
       "      <td>31.697838</td>\n",
       "    </tr>\n",
       "    <tr>\n",
       "      <th>...</th>\n",
       "      <td>...</td>\n",
       "      <td>...</td>\n",
       "      <td>...</td>\n",
       "      <td>...</td>\n",
       "      <td>...</td>\n",
       "      <td>...</td>\n",
       "      <td>...</td>\n",
       "      <td>...</td>\n",
       "      <td>...</td>\n",
       "      <td>...</td>\n",
       "      <td>...</td>\n",
       "      <td>...</td>\n",
       "      <td>...</td>\n",
       "      <td>...</td>\n",
       "      <td>...</td>\n",
       "      <td>...</td>\n",
       "    </tr>\n",
       "    <tr>\n",
       "      <th>6053</th>\n",
       "      <td>2024-01-25</td>\n",
       "      <td>4886.660156</td>\n",
       "      <td>4898.149902</td>\n",
       "      <td>4869.339844</td>\n",
       "      <td>4894.160156</td>\n",
       "      <td>4894.160156</td>\n",
       "      <td>4020430000</td>\n",
       "      <td>7.500000</td>\n",
       "      <td>1</td>\n",
       "      <td>4816.775049</td>\n",
       "      <td>4781.978076</td>\n",
       "      <td>4677.269023</td>\n",
       "      <td>4507.758813</td>\n",
       "      <td>72.932465</td>\n",
       "      <td>92.601030</td>\n",
       "      <td>93.015869</td>\n",
       "    </tr>\n",
       "    <tr>\n",
       "      <th>6054</th>\n",
       "      <td>2024-01-26</td>\n",
       "      <td>4888.910156</td>\n",
       "      <td>4906.689941</td>\n",
       "      <td>4881.470215</td>\n",
       "      <td>4890.970215</td>\n",
       "      <td>4890.970215</td>\n",
       "      <td>3353400000</td>\n",
       "      <td>2.060059</td>\n",
       "      <td>1</td>\n",
       "      <td>4827.848047</td>\n",
       "      <td>4787.447583</td>\n",
       "      <td>4686.857432</td>\n",
       "      <td>4511.510815</td>\n",
       "      <td>72.142640</td>\n",
       "      <td>90.749789</td>\n",
       "      <td>91.389010</td>\n",
       "    </tr>\n",
       "    <tr>\n",
       "      <th>6055</th>\n",
       "      <td>2024-01-29</td>\n",
       "      <td>4892.950195</td>\n",
       "      <td>4929.310059</td>\n",
       "      <td>4887.399902</td>\n",
       "      <td>4927.930176</td>\n",
       "      <td>4927.930176</td>\n",
       "      <td>3525160000</td>\n",
       "      <td>34.979980</td>\n",
       "      <td>1</td>\n",
       "      <td>4842.258057</td>\n",
       "      <td>4794.676587</td>\n",
       "      <td>4695.502031</td>\n",
       "      <td>4515.821816</td>\n",
       "      <td>75.458828</td>\n",
       "      <td>95.820406</td>\n",
       "      <td>93.057075</td>\n",
       "    </tr>\n",
       "    <tr>\n",
       "      <th>6056</th>\n",
       "      <td>2024-01-30</td>\n",
       "      <td>4925.890137</td>\n",
       "      <td>4931.089844</td>\n",
       "      <td>4916.270020</td>\n",
       "      <td>4924.970215</td>\n",
       "      <td>4924.970215</td>\n",
       "      <td>3836130000</td>\n",
       "      <td>-0.919922</td>\n",
       "      <td>0</td>\n",
       "      <td>4858.157080</td>\n",
       "      <td>4802.433594</td>\n",
       "      <td>4703.943838</td>\n",
       "      <td>4520.416719</td>\n",
       "      <td>74.691975</td>\n",
       "      <td>96.309402</td>\n",
       "      <td>94.293199</td>\n",
       "    </tr>\n",
       "    <tr>\n",
       "      <th>6057</th>\n",
       "      <td>2024-01-31</td>\n",
       "      <td>4899.189941</td>\n",
       "      <td>4906.750000</td>\n",
       "      <td>4845.149902</td>\n",
       "      <td>4845.649902</td>\n",
       "      <td>4845.649902</td>\n",
       "      <td>4696120000</td>\n",
       "      <td>-53.540039</td>\n",
       "      <td>0</td>\n",
       "      <td>4868.801074</td>\n",
       "      <td>4807.574585</td>\n",
       "      <td>4710.692031</td>\n",
       "      <td>4524.361816</td>\n",
       "      <td>57.753821</td>\n",
       "      <td>85.673634</td>\n",
       "      <td>92.601147</td>\n",
       "    </tr>\n",
       "  </tbody>\n",
       "</table>\n",
       "<p>5959 rows × 16 columns</p>\n",
       "</div>"
      ],
      "text/plain": [
       "            Date         Open         High          Low        Close  \\\n",
       "99    2000-05-24  1373.859985  1401.750000  1361.089966  1399.050049   \n",
       "100   2000-05-25  1399.050049  1411.650024  1373.930054  1381.520020   \n",
       "101   2000-05-26  1381.520020  1391.420044  1369.750000  1378.020020   \n",
       "102   2000-05-30  1378.020020  1422.449951  1378.020020  1422.449951   \n",
       "103   2000-05-31  1422.439941  1434.489990  1415.500000  1420.599976   \n",
       "...          ...          ...          ...          ...          ...   \n",
       "6053  2024-01-25  4886.660156  4898.149902  4869.339844  4894.160156   \n",
       "6054  2024-01-26  4888.910156  4906.689941  4881.470215  4890.970215   \n",
       "6055  2024-01-29  4892.950195  4929.310059  4887.399902  4927.930176   \n",
       "6056  2024-01-30  4925.890137  4931.089844  4916.270020  4924.970215   \n",
       "6057  2024-01-31  4899.189941  4906.750000  4845.149902  4845.649902   \n",
       "\n",
       "        Adj Close      Volume     Change  Direction         MA10         MA20  \\\n",
       "99    1399.050049  1152300000  25.190063          1  1421.276001  1426.065509   \n",
       "100   1381.520020   984500000 -17.530029          0  1418.646997  1421.895508   \n",
       "101   1378.020020   722600000  -3.500000          0  1414.353003  1418.175006   \n",
       "102   1422.449951   844200000  44.429932          1  1411.362000  1415.885004   \n",
       "103   1420.599976   960500000  -1.839966          0  1406.817993  1414.600500   \n",
       "...           ...         ...        ...        ...          ...          ...   \n",
       "6053  4894.160156  4020430000   7.500000          1  4816.775049  4781.978076   \n",
       "6054  4890.970215  3353400000   2.060059          1  4827.848047  4787.447583   \n",
       "6055  4927.930176  3525160000  34.979980          1  4842.258057  4794.676587   \n",
       "6056  4924.970215  3836130000  -0.919922          0  4858.157080  4802.433594   \n",
       "6057  4845.649902  4696120000 -53.540039          0  4868.801074  4807.574585   \n",
       "\n",
       "             MA50        MA100        RSI  Stochastic_K  Stochastic_D  \n",
       "99    1454.346997  1428.297998  44.368469     23.745746     29.372265  \n",
       "100   1454.134597  1427.560999  41.539809     19.487574     22.178108  \n",
       "101   1452.525598  1427.346998  40.978078     22.968362     22.067228  \n",
       "102   1451.685198  1427.550398  50.186817     30.103998     24.186645  \n",
       "103   1450.964597  1427.721898  49.838139     42.021155     31.697838  \n",
       "...           ...          ...        ...           ...           ...  \n",
       "6053  4677.269023  4507.758813  72.932465     92.601030     93.015869  \n",
       "6054  4686.857432  4511.510815  72.142640     90.749789     91.389010  \n",
       "6055  4695.502031  4515.821816  75.458828     95.820406     93.057075  \n",
       "6056  4703.943838  4520.416719  74.691975     96.309402     94.293199  \n",
       "6057  4710.692031  4524.361816  57.753821     85.673634     92.601147  \n",
       "\n",
       "[5959 rows x 16 columns]"
      ]
     },
     "execution_count": 3,
     "metadata": {},
     "output_type": "execute_result"
    },
    {
     "data": {
      "image/png": "[encoded data removed]",
      "text/plain": [
       "<Figure size 1200x400 with 1 Axes>"
      ]
     },
     "metadata": {},
     "output_type": "display_data"
    }
   ],
   "source": [
    "data = prepare_data(SP500_TICKER)\n",
    "\n",
    "\n",
    "# Show data\n",
    "print(data.shape)\n",
    "print(data.dtypes)\n",
    "\n",
    "plt = config_chart('Original Data')\n",
    "plt.plot(data.Close)\n",
    "plt.legend(['Close'])\n",
    "\n",
    "data"
   ]
  },
  {
   "attachments": {},
   "cell_type": "markdown",
   "metadata": {},
   "source": [
    "\n",
    "---\n",
    " \n",
    "\n",
    "## For **generate_images** function\n",
    "\n",
    "Описание:\n",
    "\n",
    "- Приема DataFrame data като аргумент, който съдържа финансови данни.\n",
    "- Извлича подмножество от данните (image_data) за визуализация и създава копие, за да не промени оригиналните данни.\n",
    "- (num_candles) определя броя на свещите, които ще бъдат включени във всяко генерирано изображение.\n",
    "- Създава се нова фигура (fig) и ос (ax) за всяко изображение с размер 2x2 инча.\n",
    "- Осите се изключват с ax.set_axis_off() за по-чиста визуализация.\n",
    "- Извлича се подмножество от данни (formation_data) за текущата итерация на цикъла\n",
    "- Функцията mpf.plot от библиотеката mplfinance се използва за да се генерира изображение със свещи (type='candle'), като се изключва показването на обема (volume=False) и се посочва оста за визуализацията (ax=ax).\n",
    "- Директорията за запазване на изображенията се съхранява в предварително дефинирана константа IMAGE_DIRECTORY.\n",
    "- Датата от първия ред на formation_data се използва за да се генерира уникално име на файла за всяко изображение (формат: YYYY-MM-DD.png).\n",
    "- Функцията plt.savefig записва изображението като PNG файл с резолюция 75 dpi.\n",
    "\n",
    "Цел:\n",
    "- Генериране на изображения на candlesticks графика използвайки цената (Open, High, Low, Close)"
   ]
  },
  {
   "cell_type": "code",
   "execution_count": 4,
   "metadata": {},
   "outputs": [],
   "source": [
    "# generate_images(data)\n"
   ]
  },
  {
   "attachments": {},
   "cell_type": "markdown",
   "metadata": {},
   "source": [
    "\n",
    "---\n",
    "\n",
    "## For **get_images** function\n",
    "\n",
    "Описание:\n",
    "\n",
    "- Използва предварително зададена константа IMAGE_DIRECTORY, която сочи към директорията съдържаща изображенията.\n",
    "- Функцията създава обект ImageDataGenerator от библиотеката Keras (keras.preprocessing.image), който се използва за зареждане на изображенията\n",
    "- Методът flow_from_directory зарежда изображенията, като се посочва директорията (IMAGE_DIRECTORY).\n",
    "- Заредените изображения се връщат като обект ImageDataGenerator.\n",
    "\n",
    "Цел:\n",
    "- Зареждане на изображенията"
   ]
  },
  {
   "cell_type": "code",
   "execution_count": 19,
   "metadata": {},
   "outputs": [
    {
     "name": "stdout",
     "output_type": "stream",
     "text": [
      "Found 1980 images belonging to 5 classes.\n"
     ]
    },
    {
     "data": {
      "text/plain": [
       "<keras.src.legacy.preprocessing.image.DirectoryIterator at 0x20810a17860>"
      ]
     },
     "execution_count": 19,
     "metadata": {},
     "output_type": "execute_result"
    },
    {
     "data": {
      "image/png": "[encoded data removed]",
      "text/plain": [
       "<Figure size 640x480 with 1 Axes>"
      ]
     },
     "metadata": {},
     "output_type": "display_data"
    }
   ],
   "source": [
    "\n",
    "images = get_images()\n",
    "\n",
    "img = images.__next__()[0]\n",
    "plt.imshow(img[4] / 255.0)\n",
    "\n",
    "images"
   ]
  },
  {
   "cell_type": "markdown",
   "metadata": {},
   "source": [
    "\n",
    "---\n",
    "\n",
    "## For **get_classes_and_files** function\n",
    "\n",
    "Описание:\n",
    "\n",
    "- Използва предварително зададена константа IMAGE_DIRECTORY, която сочи към директорията съдържаща изображенията, организирани по класове (поддиректории).\n",
    "- Функцията използва os.listdir за да извлече списък с имената на директориите в IMAGE_DIRECTORY. Тези имена се считат за класове на изображенията.\n",
    "- Цикълът с comprehension се използва за да се създаде списък (folders) съдържащ пътищата към всяка директория (клас). Пътят се конструира с помощта на os.path.join.\n",
    "- Името на класовете (classes) и пътищата към изображенията (folders) се конвертират в NumPy ndarrays за по-нататъшна обработка.\n",
    "- Функцията връща тези ndarrays като резултат.\n",
    "\n",
    "Цел:\n",
    "- Извличане на всички класове\n",
    "- Извличане на директорията на всяка папка с изображения"
   ]
  },
  {
   "cell_type": "code",
   "execution_count": 6,
   "metadata": {},
   "outputs": [
    {
     "name": "stdout",
     "output_type": "stream",
     "text": [
      "5\n",
      "['bearish_reverse' 'bearish_trend' 'bullish_reverse' 'bullish_trend'\n",
      " 'neutral']\n",
      "5\n",
      "['models/cnn_v3/images/bearish_reverse'\n",
      " 'models/cnn_v3/images/bearish_trend'\n",
      " 'models/cnn_v3/images/bullish_reverse'\n",
      " 'models/cnn_v3/images/bullish_trend' 'models/cnn_v3/images/neutral']\n"
     ]
    }
   ],
   "source": [
    "classes, folders = get_classes_and_files()\n",
    "\n",
    "print(len(classes))\n",
    "print(classes)\n",
    "\n",
    "print(len(folders))\n",
    "print(folders)\n"
   ]
  },
  {
   "cell_type": "markdown",
   "metadata": {},
   "source": [
    "\n",
    "---\n",
    "\n",
    "## For **map_classes_and_files** function\n",
    "\n",
    "Описание:\n",
    "\n",
    "- Функцията map_classes_and_files обработва списъци с имена на класове (classes) и пътища към директории (folders).\n",
    "- Функцията извлича файловете от всяка директория и създава списъци all_files и all_classes.\n",
    "all_files съдържа пътищата към всички файлове.\n",
    "all_classes съдържа повтарящи се имена на класове за всяко изображение в директорията.\n",
    "- Речник class_mapping се създава, за да съпостави всяко уникално име на клас с негов идентификатор.\n",
    "- Цикълът преминава през all_classes и използва речника class_mapping за да замени имената на класове с техните идентификатори. Резултатът се съхранява в all_class_ids.\n",
    "- Накрая функцията връща all_files и all_class_ids.\n",
    "\n",
    "Цел:\n",
    "- Извличане на пътищата към всяко изобрацение\n",
    "- Съпоставяне на класови идентификатори към изображенията. Идентификатора за клас е в числов вид подходящ за модела."
   ]
  },
  {
   "cell_type": "code",
   "execution_count": 7,
   "metadata": {},
   "outputs": [
    {
     "name": "stdout",
     "output_type": "stream",
     "text": [
      "(1980,)\n",
      "models/cnn_v3/images/bearish_reverse\\2000-06-20.png\n",
      "(1980,)\n",
      "0\n"
     ]
    }
   ],
   "source": [
    "all_files, all_class_ids = map_classes_and_files(classes, folders)\n",
    "\n",
    "print(all_files.shape)\n",
    "print(all_files[0])\n",
    "\n",
    "print(all_class_ids.shape)\n",
    "print(all_class_ids[0])"
   ]
  },
  {
   "cell_type": "markdown",
   "metadata": {},
   "source": [
    "\n",
    "---\n",
    "\n",
    "## For **get_images_dataset** function\n",
    "\n",
    "Описание:\n",
    "\n",
    "- Функцията get_images_dataset приема два NumPy ndarrays като аргументи:\n",
    "all_files: ndarray съдържащ пътищата към изображенията.\n",
    "class_ids: ndarray съдържащ идентификатори на класовете за всяко изображение.\n",
    "- Функцията използва цикъл с comprehension, за да прочете изображенията от файловете, използвайки предварително дефинираната функция read_images.\n",
    "- Прочетените изображения се събират в списък, който след това се конвертира в NumPy ndarray (images).\n",
    "- Функцията връща резултат, съдържащ ndarrays за изображенията и класовете\n",
    "\n",
    "Цел:\n",
    "- Прочитане на изобржаженията във вид подходящ за работа с модела"
   ]
  },
  {
   "cell_type": "code",
   "execution_count": 8,
   "metadata": {},
   "outputs": [
    {
     "name": "stdout",
     "output_type": "stream",
     "text": [
      "(1980, 256, 256, 4)\n",
      "(1980,)\n",
      "Class 0: count 146\n",
      "Class 1: count 302\n",
      "Class 2: count 102\n",
      "Class 3: count 420\n",
      "Class 4: count 1010\n"
     ]
    },
    {
     "data": {
      "text/plain": [
       "Text(0.5, 1.0, 'bearish_reverse')"
      ]
     },
     "execution_count": 8,
     "metadata": {},
     "output_type": "execute_result"
    },
    {
     "data": {
      "image/png": "[encoded data removed]",
      "text/plain": [
       "<Figure size 640x480 with 1 Axes>"
      ]
     },
     "metadata": {},
     "output_type": "display_data"
    }
   ],
   "source": [
    "images, labels = get_images_dataset(all_files, all_class_ids)\n",
    "\n",
    "\n",
    "print(images.shape)\n",
    "print(labels.shape)\n",
    "\n",
    "unique_values, counts = np.unique(labels, return_counts=True)\n",
    "for value, count in zip(unique_values, counts):\n",
    "  print(f\"Class {value}: count {count}\")\n",
    "\n",
    "plt.imshow(images[0])\n",
    "plt.title(classes[labels[0]])\n"
   ]
  },
  {
   "cell_type": "markdown",
   "metadata": {},
   "source": [
    "\n",
    "---\n",
    "\n",
    "## For **split_train_and_test_data** function\n",
    "\n",
    "Описание:\n",
    "- Функцията приема два NumPy ndarray като вход:\n",
    "    - x: Масив, съдържащ характеристиките на данните.\n",
    "    - y: Масив, съдържащ целевите етикети на данните.\n",
    "- Функцията връща речник, съдържащ три други речника:\n",
    "    - 'train': Речник, съдържащ тренировъчните данни (70% от x и y):\n",
    "        - 'x': Тренировъчните характеристики.\n",
    "        - 'y': Тренировъчните етикети.\n",
    "    - 'test': Речник, съдържащ тестовите данни (20% от x и y)::\n",
    "        - 'x': Тестовите характеристики.\n",
    "        - 'y': Тестовите етикети.\n",
    "    - 'predict': Речник, съдържащ данните за прогнозиране (10% от x и y)::\n",
    "        - 'x': Характеристиките за прогнозиране.\n",
    "        - 'y': Етикетите за прогнозиране.\n",
    "- Използва се сечение, за да се извлекат съответните тренировъчни, тестови и прогнозни набори от оригиналните масиви x и y.\n",
    "\n",
    "Цел:\n",
    "- Разделяне на данните (x и y) в тренировъчни, тестови и прогнозни"
   ]
  },
  {
   "cell_type": "code",
   "execution_count": 9,
   "metadata": {},
   "outputs": [
    {
     "name": "stdout",
     "output_type": "stream",
     "text": [
      "(1584, 256, 256, 4)\n",
      "(1584,)\n",
      "(198, 256, 256, 4)\n",
      "(198,)\n",
      "(198, 256, 256, 4)\n",
      "(198,)\n"
     ]
    }
   ],
   "source": [
    "train_dataset, test_dataset, predict_dataset = split_train_and_test_data(images, labels)\n",
    "\n",
    "\n",
    "print(train_dataset[\"x\"].shape)\n",
    "print(train_dataset[\"y\"].shape)\n",
    "\n",
    "print(test_dataset[\"x\"].shape)\n",
    "print(test_dataset[\"y\"].shape)\n",
    "\n",
    "print(predict_dataset[\"x\"].shape)\n",
    "print(predict_dataset[\"y\"].shape)"
   ]
  },
  {
   "attachments": {},
   "cell_type": "markdown",
   "metadata": {},
   "source": [
    "\n",
    "---\n",
    "\n",
    "## For **get_cnn_data** function\n",
    "\n",
    "Описание:\n",
    "\n",
    "- Функцията get_cnn_data е предназначена да подготви набор от изображения и техните етикети за използване в Конволюционна невронна мрежа (CNN).\n",
    "- Процеси:\n",
    "    - Извличане на информация за класове\n",
    "    - Съпоставяне на класове и файлове\n",
    "    - Зареждане и предварителна обработка на изображения\n",
    "    - Разбъркване на изображения и етикети\n",
    "    - Разделяне на данните на тренировъчни, тестови и прогнозни набори\n",
    "    - Връщане на набори от данни\n",
    "- Функцията get_cnn_data връща трите речника, съдържащи подготвените тренировъчни, тестови и прогнозни набори от данни.\n",
    "\n",
    "Цел:\n",
    "- Представяне на данните в готов вид за обучение и тестване на модела\n"
   ]
  },
  {
   "cell_type": "code",
   "execution_count": 10,
   "metadata": {},
   "outputs": [],
   "source": [
    "train, test, predict = get_cnn_data(SP500_TICKER)"
   ]
  },
  {
   "cell_type": "code",
   "execution_count": 11,
   "metadata": {},
   "outputs": [
    {
     "name": "stdout",
     "output_type": "stream",
     "text": [
      "1584\n",
      "1584\n",
      "Class 0: count 110\n",
      "Class 1: count 243\n",
      "Class 2: count 77\n",
      "Class 3: count 341\n",
      "Class 4: count 813\n"
     ]
    }
   ],
   "source": [
    "\n",
    "print(len(train[\"x\"]))\n",
    "print(len(train[\"y\"]))\n",
    "\n",
    "unique_values, counts = np.unique(train[\"y\"], return_counts=True)\n",
    "for value, count in zip(unique_values, counts):\n",
    "  print(f\"Class {value}: count {count}\")\n"
   ]
  },
  {
   "cell_type": "code",
   "execution_count": 12,
   "metadata": {},
   "outputs": [
    {
     "name": "stdout",
     "output_type": "stream",
     "text": [
      "198\n",
      "198\n",
      "Class 0: count 18\n",
      "Class 1: count 24\n",
      "Class 2: count 13\n",
      "Class 3: count 43\n",
      "Class 4: count 100\n"
     ]
    }
   ],
   "source": [
    "print(len(test[\"x\"]))\n",
    "print(len(test[\"y\"]))\n",
    "\n",
    "unique_values, counts = np.unique(test[\"y\"], return_counts=True)\n",
    "for value, count in zip(unique_values, counts):\n",
    "  print(f\"Class {value}: count {count}\")\n"
   ]
  },
  {
   "cell_type": "code",
   "execution_count": 13,
   "metadata": {},
   "outputs": [
    {
     "name": "stdout",
     "output_type": "stream",
     "text": [
      "198\n",
      "198\n",
      "Class 0: count 18\n",
      "Class 1: count 35\n",
      "Class 2: count 12\n",
      "Class 3: count 36\n",
      "Class 4: count 97\n"
     ]
    }
   ],
   "source": [
    "print(len(predict[\"x\"]))\n",
    "print(len(predict[\"y\"]))\n",
    "\n",
    "unique_values, counts = np.unique(predict[\"y\"], return_counts=True)\n",
    "for value, count in zip(unique_values, counts):\n",
    "  print(f\"Class {value}: count {count}\")\n"
   ]
  }
 ],
 "metadata": {
  "kernelspec": {
   "display_name": "venv",
   "language": "python",
   "name": "python3"
  },
  "language_info": {
   "codemirror_mode": {
    "name": "ipython",
    "version": 3
   },
   "file_extension": ".py",
   "mimetype": "text/x-python",
   "name": "python",
   "nbconvert_exporter": "python",
   "pygments_lexer": "ipython3",
   "version": "3.12.2"
  },
  "orig_nbformat": 4,
  "vscode": {
   "interpreter": {
    "hash": "73f5850e139343e7d56cdbfd592890725b73c7b65ece657753fc54e096f228ca"
   }
  }
 },
 "nbformat": 4,
 "nbformat_minor": 2
}
