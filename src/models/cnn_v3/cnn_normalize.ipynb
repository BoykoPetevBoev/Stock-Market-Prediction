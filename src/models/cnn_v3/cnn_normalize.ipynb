{
 "cells": [
  {
   "cell_type": "code",
   "execution_count": 1,
   "metadata": {},
   "outputs": [
    {
     "name": "stdout",
     "output_type": "stream",
     "text": [
      "c:\\Boyko Boev\\Stock-Market-Prediction\\src\n"
     ]
    },
    {
     "name": "stderr",
     "output_type": "stream",
     "text": [
      "c:\\Boyko Boev\\Stock-Market-Prediction\\.venv\\Lib\\site-packages\\IPython\\core\\magics\\osm.py:417: UserWarning: This is now an optional IPython functionality, setting dhist requires you to install the `pickleshare` library.\n",
      "  self.shell.db['dhist'] = compress_dhist(dhist)[-100:]\n"
     ]
    }
   ],
   "source": [
    "%cd ../.."
   ]
  },
  {
   "cell_type": "code",
   "execution_count": 2,
   "metadata": {},
   "outputs": [
    {
     "name": "stdout",
     "output_type": "stream",
     "text": [
      "WARNING:tensorflow:From c:\\Boyko Boev\\Stock-Market-Prediction\\.venv\\Lib\\site-packages\\keras\\src\\backend\\common\\global_state.py:73: The name tf.reset_default_graph is deprecated. Please use tf.compat.v1.reset_default_graph instead.\n",
      "\n"
     ]
    }
   ],
   "source": [
    "import numpy as np\n",
    "import pandas as pd\n",
    "import tensorflow as tf\n",
    "import matplotlib.pyplot as plt\n",
    "\n",
    "# from mplfinance.original_flavor import candlestick_ohlc\n",
    "\n",
    "from utils.chart import config_chart\n",
    "from constants import SP500_TICKER\n",
    "from models.cnn_v3.cnn_normalize import prepare_data, generate_images, get_images, get_images_dataset, get_classes_and_files, map_classes_and_files, split_train_and_test_data, get_cnn_data\n",
    "\n",
    "tf.keras.backend.clear_session()"
   ]
  },
  {
   "attachments": {},
   "cell_type": "markdown",
   "metadata": {},
   "source": [
    "---"
   ]
  },
  {
   "attachments": {},
   "cell_type": "markdown",
   "metadata": {},
   "source": [
    "## For **prepare_data** function"
   ]
  },
  {
   "cell_type": "code",
   "execution_count": 3,
   "metadata": {},
   "outputs": [
    {
     "name": "stdout",
     "output_type": "stream",
     "text": [
      "(5959, 16)\n",
      "Open            float64\n",
      "High            float64\n",
      "Low             float64\n",
      "Close           float64\n",
      "Adj Close       float64\n",
      "Volume            int64\n",
      "Change          float64\n",
      "Direction         int64\n",
      "MA10            float64\n",
      "MA20            float64\n",
      "MA50            float64\n",
      "MA100           float64\n",
      "RSI             float64\n",
      "Stochastic_K    float64\n",
      "Stochastic_D    float64\n",
      "Date             object\n",
      "dtype: object\n"
     ]
    },
    {
     "data": {
      "text/html": [
       "<div>\n",
       "<style scoped>\n",
       "    .dataframe tbody tr th:only-of-type {\n",
       "        vertical-align: middle;\n",
       "    }\n",
       "\n",
       "    .dataframe tbody tr th {\n",
       "        vertical-align: top;\n",
       "    }\n",
       "\n",
       "    .dataframe thead th {\n",
       "        text-align: right;\n",
       "    }\n",
       "</style>\n",
       "<table border=\"1\" class=\"dataframe\">\n",
       "  <thead>\n",
       "    <tr style=\"text-align: right;\">\n",
       "      <th></th>\n",
       "      <th>Open</th>\n",
       "      <th>High</th>\n",
       "      <th>Low</th>\n",
       "      <th>Close</th>\n",
       "      <th>Adj Close</th>\n",
       "      <th>Volume</th>\n",
       "      <th>Change</th>\n",
       "      <th>Direction</th>\n",
       "      <th>MA10</th>\n",
       "      <th>MA20</th>\n",
       "      <th>MA50</th>\n",
       "      <th>MA100</th>\n",
       "      <th>RSI</th>\n",
       "      <th>Stochastic_K</th>\n",
       "      <th>Stochastic_D</th>\n",
       "      <th>Date</th>\n",
       "    </tr>\n",
       "    <tr>\n",
       "      <th>Date</th>\n",
       "      <th></th>\n",
       "      <th></th>\n",
       "      <th></th>\n",
       "      <th></th>\n",
       "      <th></th>\n",
       "      <th></th>\n",
       "      <th></th>\n",
       "      <th></th>\n",
       "      <th></th>\n",
       "      <th></th>\n",
       "      <th></th>\n",
       "      <th></th>\n",
       "      <th></th>\n",
       "      <th></th>\n",
       "      <th></th>\n",
       "      <th></th>\n",
       "    </tr>\n",
       "  </thead>\n",
       "  <tbody>\n",
       "    <tr>\n",
       "      <th>2000-05-24</th>\n",
       "      <td>1373.859985</td>\n",
       "      <td>1401.750000</td>\n",
       "      <td>1361.089966</td>\n",
       "      <td>1399.050049</td>\n",
       "      <td>1399.050049</td>\n",
       "      <td>1152300000</td>\n",
       "      <td>25.190063</td>\n",
       "      <td>1</td>\n",
       "      <td>1421.276001</td>\n",
       "      <td>1426.065509</td>\n",
       "      <td>1454.346997</td>\n",
       "      <td>1428.297998</td>\n",
       "      <td>44.368469</td>\n",
       "      <td>23.745746</td>\n",
       "      <td>29.372265</td>\n",
       "      <td>2000-05-24</td>\n",
       "    </tr>\n",
       "    <tr>\n",
       "      <th>2000-05-25</th>\n",
       "      <td>1399.050049</td>\n",
       "      <td>1411.650024</td>\n",
       "      <td>1373.930054</td>\n",
       "      <td>1381.520020</td>\n",
       "      <td>1381.520020</td>\n",
       "      <td>984500000</td>\n",
       "      <td>-17.530029</td>\n",
       "      <td>0</td>\n",
       "      <td>1418.646997</td>\n",
       "      <td>1421.895508</td>\n",
       "      <td>1454.134597</td>\n",
       "      <td>1427.560999</td>\n",
       "      <td>41.539809</td>\n",
       "      <td>19.487574</td>\n",
       "      <td>22.178108</td>\n",
       "      <td>2000-05-25</td>\n",
       "    </tr>\n",
       "    <tr>\n",
       "      <th>2000-05-26</th>\n",
       "      <td>1381.520020</td>\n",
       "      <td>1391.420044</td>\n",
       "      <td>1369.750000</td>\n",
       "      <td>1378.020020</td>\n",
       "      <td>1378.020020</td>\n",
       "      <td>722600000</td>\n",
       "      <td>-3.500000</td>\n",
       "      <td>0</td>\n",
       "      <td>1414.353003</td>\n",
       "      <td>1418.175006</td>\n",
       "      <td>1452.525598</td>\n",
       "      <td>1427.346998</td>\n",
       "      <td>40.978078</td>\n",
       "      <td>22.968362</td>\n",
       "      <td>22.067228</td>\n",
       "      <td>2000-05-26</td>\n",
       "    </tr>\n",
       "    <tr>\n",
       "      <th>2000-05-30</th>\n",
       "      <td>1378.020020</td>\n",
       "      <td>1422.449951</td>\n",
       "      <td>1378.020020</td>\n",
       "      <td>1422.449951</td>\n",
       "      <td>1422.449951</td>\n",
       "      <td>844200000</td>\n",
       "      <td>44.429932</td>\n",
       "      <td>1</td>\n",
       "      <td>1411.362000</td>\n",
       "      <td>1415.885004</td>\n",
       "      <td>1451.685198</td>\n",
       "      <td>1427.550398</td>\n",
       "      <td>50.186817</td>\n",
       "      <td>30.103998</td>\n",
       "      <td>24.186645</td>\n",
       "      <td>2000-05-30</td>\n",
       "    </tr>\n",
       "    <tr>\n",
       "      <th>2000-05-31</th>\n",
       "      <td>1422.439941</td>\n",
       "      <td>1434.489990</td>\n",
       "      <td>1415.500000</td>\n",
       "      <td>1420.599976</td>\n",
       "      <td>1420.599976</td>\n",
       "      <td>960500000</td>\n",
       "      <td>-1.839966</td>\n",
       "      <td>0</td>\n",
       "      <td>1406.817993</td>\n",
       "      <td>1414.600500</td>\n",
       "      <td>1450.964597</td>\n",
       "      <td>1427.721898</td>\n",
       "      <td>49.838139</td>\n",
       "      <td>42.021155</td>\n",
       "      <td>31.697838</td>\n",
       "      <td>2000-05-31</td>\n",
       "    </tr>\n",
       "    <tr>\n",
       "      <th>...</th>\n",
       "      <td>...</td>\n",
       "      <td>...</td>\n",
       "      <td>...</td>\n",
       "      <td>...</td>\n",
       "      <td>...</td>\n",
       "      <td>...</td>\n",
       "      <td>...</td>\n",
       "      <td>...</td>\n",
       "      <td>...</td>\n",
       "      <td>...</td>\n",
       "      <td>...</td>\n",
       "      <td>...</td>\n",
       "      <td>...</td>\n",
       "      <td>...</td>\n",
       "      <td>...</td>\n",
       "      <td>...</td>\n",
       "    </tr>\n",
       "    <tr>\n",
       "      <th>2024-01-25</th>\n",
       "      <td>4886.660156</td>\n",
       "      <td>4898.149902</td>\n",
       "      <td>4869.339844</td>\n",
       "      <td>4894.160156</td>\n",
       "      <td>4894.160156</td>\n",
       "      <td>4020430000</td>\n",
       "      <td>7.500000</td>\n",
       "      <td>1</td>\n",
       "      <td>4816.775049</td>\n",
       "      <td>4781.978076</td>\n",
       "      <td>4677.269023</td>\n",
       "      <td>4507.758813</td>\n",
       "      <td>72.932465</td>\n",
       "      <td>92.601030</td>\n",
       "      <td>93.015869</td>\n",
       "      <td>2024-01-25</td>\n",
       "    </tr>\n",
       "    <tr>\n",
       "      <th>2024-01-26</th>\n",
       "      <td>4888.910156</td>\n",
       "      <td>4906.689941</td>\n",
       "      <td>4881.470215</td>\n",
       "      <td>4890.970215</td>\n",
       "      <td>4890.970215</td>\n",
       "      <td>3353400000</td>\n",
       "      <td>2.060059</td>\n",
       "      <td>1</td>\n",
       "      <td>4827.848047</td>\n",
       "      <td>4787.447583</td>\n",
       "      <td>4686.857432</td>\n",
       "      <td>4511.510815</td>\n",
       "      <td>72.142640</td>\n",
       "      <td>90.749789</td>\n",
       "      <td>91.389010</td>\n",
       "      <td>2024-01-26</td>\n",
       "    </tr>\n",
       "    <tr>\n",
       "      <th>2024-01-29</th>\n",
       "      <td>4892.950195</td>\n",
       "      <td>4929.310059</td>\n",
       "      <td>4887.399902</td>\n",
       "      <td>4927.930176</td>\n",
       "      <td>4927.930176</td>\n",
       "      <td>3525160000</td>\n",
       "      <td>34.979980</td>\n",
       "      <td>1</td>\n",
       "      <td>4842.258057</td>\n",
       "      <td>4794.676587</td>\n",
       "      <td>4695.502031</td>\n",
       "      <td>4515.821816</td>\n",
       "      <td>75.458828</td>\n",
       "      <td>95.820406</td>\n",
       "      <td>93.057075</td>\n",
       "      <td>2024-01-29</td>\n",
       "    </tr>\n",
       "    <tr>\n",
       "      <th>2024-01-30</th>\n",
       "      <td>4925.890137</td>\n",
       "      <td>4931.089844</td>\n",
       "      <td>4916.270020</td>\n",
       "      <td>4924.970215</td>\n",
       "      <td>4924.970215</td>\n",
       "      <td>3836130000</td>\n",
       "      <td>-0.919922</td>\n",
       "      <td>0</td>\n",
       "      <td>4858.157080</td>\n",
       "      <td>4802.433594</td>\n",
       "      <td>4703.943838</td>\n",
       "      <td>4520.416719</td>\n",
       "      <td>74.691975</td>\n",
       "      <td>96.309402</td>\n",
       "      <td>94.293199</td>\n",
       "      <td>2024-01-30</td>\n",
       "    </tr>\n",
       "    <tr>\n",
       "      <th>2024-01-31</th>\n",
       "      <td>4899.189941</td>\n",
       "      <td>4906.750000</td>\n",
       "      <td>4845.149902</td>\n",
       "      <td>4845.649902</td>\n",
       "      <td>4845.649902</td>\n",
       "      <td>4696120000</td>\n",
       "      <td>-53.540039</td>\n",
       "      <td>0</td>\n",
       "      <td>4868.801074</td>\n",
       "      <td>4807.574585</td>\n",
       "      <td>4710.692031</td>\n",
       "      <td>4524.361816</td>\n",
       "      <td>57.753821</td>\n",
       "      <td>85.673634</td>\n",
       "      <td>92.601147</td>\n",
       "      <td>2024-01-31</td>\n",
       "    </tr>\n",
       "  </tbody>\n",
       "</table>\n",
       "<p>5959 rows × 16 columns</p>\n",
       "</div>"
      ],
      "text/plain": [
       "                   Open         High          Low        Close    Adj Close  \\\n",
       "Date                                                                          \n",
       "2000-05-24  1373.859985  1401.750000  1361.089966  1399.050049  1399.050049   \n",
       "2000-05-25  1399.050049  1411.650024  1373.930054  1381.520020  1381.520020   \n",
       "2000-05-26  1381.520020  1391.420044  1369.750000  1378.020020  1378.020020   \n",
       "2000-05-30  1378.020020  1422.449951  1378.020020  1422.449951  1422.449951   \n",
       "2000-05-31  1422.439941  1434.489990  1415.500000  1420.599976  1420.599976   \n",
       "...                 ...          ...          ...          ...          ...   \n",
       "2024-01-25  4886.660156  4898.149902  4869.339844  4894.160156  4894.160156   \n",
       "2024-01-26  4888.910156  4906.689941  4881.470215  4890.970215  4890.970215   \n",
       "2024-01-29  4892.950195  4929.310059  4887.399902  4927.930176  4927.930176   \n",
       "2024-01-30  4925.890137  4931.089844  4916.270020  4924.970215  4924.970215   \n",
       "2024-01-31  4899.189941  4906.750000  4845.149902  4845.649902  4845.649902   \n",
       "\n",
       "                Volume     Change  Direction         MA10         MA20  \\\n",
       "Date                                                                     \n",
       "2000-05-24  1152300000  25.190063          1  1421.276001  1426.065509   \n",
       "2000-05-25   984500000 -17.530029          0  1418.646997  1421.895508   \n",
       "2000-05-26   722600000  -3.500000          0  1414.353003  1418.175006   \n",
       "2000-05-30   844200000  44.429932          1  1411.362000  1415.885004   \n",
       "2000-05-31   960500000  -1.839966          0  1406.817993  1414.600500   \n",
       "...                ...        ...        ...          ...          ...   \n",
       "2024-01-25  4020430000   7.500000          1  4816.775049  4781.978076   \n",
       "2024-01-26  3353400000   2.060059          1  4827.848047  4787.447583   \n",
       "2024-01-29  3525160000  34.979980          1  4842.258057  4794.676587   \n",
       "2024-01-30  3836130000  -0.919922          0  4858.157080  4802.433594   \n",
       "2024-01-31  4696120000 -53.540039          0  4868.801074  4807.574585   \n",
       "\n",
       "                   MA50        MA100        RSI  Stochastic_K  Stochastic_D  \\\n",
       "Date                                                                          \n",
       "2000-05-24  1454.346997  1428.297998  44.368469     23.745746     29.372265   \n",
       "2000-05-25  1454.134597  1427.560999  41.539809     19.487574     22.178108   \n",
       "2000-05-26  1452.525598  1427.346998  40.978078     22.968362     22.067228   \n",
       "2000-05-30  1451.685198  1427.550398  50.186817     30.103998     24.186645   \n",
       "2000-05-31  1450.964597  1427.721898  49.838139     42.021155     31.697838   \n",
       "...                 ...          ...        ...           ...           ...   \n",
       "2024-01-25  4677.269023  4507.758813  72.932465     92.601030     93.015869   \n",
       "2024-01-26  4686.857432  4511.510815  72.142640     90.749789     91.389010   \n",
       "2024-01-29  4695.502031  4515.821816  75.458828     95.820406     93.057075   \n",
       "2024-01-30  4703.943838  4520.416719  74.691975     96.309402     94.293199   \n",
       "2024-01-31  4710.692031  4524.361816  57.753821     85.673634     92.601147   \n",
       "\n",
       "                  Date  \n",
       "Date                    \n",
       "2000-05-24  2000-05-24  \n",
       "2000-05-25  2000-05-25  \n",
       "2000-05-26  2000-05-26  \n",
       "2000-05-30  2000-05-30  \n",
       "2000-05-31  2000-05-31  \n",
       "...                ...  \n",
       "2024-01-25  2024-01-25  \n",
       "2024-01-26  2024-01-26  \n",
       "2024-01-29  2024-01-29  \n",
       "2024-01-30  2024-01-30  \n",
       "2024-01-31  2024-01-31  \n",
       "\n",
       "[5959 rows x 16 columns]"
      ]
     },
     "execution_count": 3,
     "metadata": {},
     "output_type": "execute_result"
    },
    {
     "data": {
      "image/png": "[encoded data removed]",
      "text/plain": [
       "<Figure size 1200x600 with 1 Axes>"
      ]
     },
     "metadata": {},
     "output_type": "display_data"
    }
   ],
   "source": [
    "data = prepare_data(SP500_TICKER)\n",
    "\n",
    "\n",
    "# Show data\n",
    "print(data.shape)\n",
    "print(data.dtypes)\n",
    "\n",
    "plt = config_chart('Original Data')\n",
    "plt.plot(data.Close)\n",
    "plt.legend(['Close'])\n",
    "\n",
    "data"
   ]
  },
  {
   "attachments": {},
   "cell_type": "markdown",
   "metadata": {},
   "source": [
    "---\n",
    "\n",
    "## For **generate_images** function"
   ]
  },
  {
   "cell_type": "code",
   "execution_count": 16,
   "metadata": {},
   "outputs": [],
   "source": [
    "# generate_images(data)\n"
   ]
  },
  {
   "attachments": {},
   "cell_type": "markdown",
   "metadata": {},
   "source": [
    "---\n",
    "\n",
    "## For **get_images** function"
   ]
  },
  {
   "cell_type": "code",
   "execution_count": 17,
   "metadata": {},
   "outputs": [
    {
     "name": "stdout",
     "output_type": "stream",
     "text": [
      "Found 1980 images belonging to 5 classes.\n"
     ]
    },
    {
     "data": {
      "text/plain": [
       "<keras.src.legacy.preprocessing.image.DirectoryIterator at 0x1f962efd970>"
      ]
     },
     "execution_count": 17,
     "metadata": {},
     "output_type": "execute_result"
    }
   ],
   "source": [
    "images = get_images()\n",
    "\n",
    "# img = images.__next__()[0]\n",
    "# img.shape\n",
    "# plt.imshow(img[4] / 255.0)\n",
    "\n",
    "images"
   ]
  },
  {
   "cell_type": "markdown",
   "metadata": {},
   "source": [
    "---\n",
    "\n",
    "## For **get_classes_and_files** function"
   ]
  },
  {
   "cell_type": "code",
   "execution_count": 21,
   "metadata": {},
   "outputs": [
    {
     "name": "stdout",
     "output_type": "stream",
     "text": [
      "5\n",
      "['bearish_reverse', 'bearish_trend', 'bullish_reverse', 'bullish_trend', 'neutral']\n",
      "5\n",
      "['models/cnn_v3/images/bearish_reverse', 'models/cnn_v3/images/bearish_trend', 'models/cnn_v3/images/bullish_reverse', 'models/cnn_v3/images/bullish_trend', 'models/cnn_v3/images/neutral']\n"
     ]
    }
   ],
   "source": [
    "classes, folders = get_classes_and_files()\n",
    "\n",
    "print(len(classes))\n",
    "print(classes)\n",
    "\n",
    "print(len(folders))\n",
    "print(folders)\n"
   ]
  },
  {
   "cell_type": "markdown",
   "metadata": {},
   "source": [
    "---\n",
    "\n",
    "## For **map_classes_and_files** function"
   ]
  },
  {
   "cell_type": "code",
   "execution_count": 7,
   "metadata": {},
   "outputs": [
    {
     "name": "stdout",
     "output_type": "stream",
     "text": [
      "1980\n",
      "models/cnn_v3/images/bearish_reverse\\2000-06-20.png\n",
      "1980\n",
      "0\n"
     ]
    }
   ],
   "source": [
    "all_files, all_class_ids = map_classes_and_files(classes, folders)\n",
    "\n",
    "print(len(all_files))\n",
    "print(all_files[0])\n",
    "\n",
    "print(len(all_class_ids))\n",
    "print(all_class_ids[0])"
   ]
  },
  {
   "cell_type": "markdown",
   "metadata": {},
   "source": [
    "---\n",
    "\n",
    "## For **get_images_dataset** function"
   ]
  },
  {
   "cell_type": "code",
   "execution_count": 22,
   "metadata": {},
   "outputs": [
    {
     "name": "stdout",
     "output_type": "stream",
     "text": [
      "1980\n",
      "1980\n",
      "Class 0: count 146\n",
      "Class 1: count 302\n",
      "Class 2: count 102\n",
      "Class 3: count 420\n",
      "Class 4: count 1010\n"
     ]
    },
    {
     "data": {
      "text/plain": [
       "Text(0.5, 1.0, 'bearish_reverse')"
      ]
     },
     "execution_count": 22,
     "metadata": {},
     "output_type": "execute_result"
    },
    {
     "data": {
      "image/png": "[encoded data removed]",
      "text/plain": [
       "<Figure size 640x480 with 1 Axes>"
      ]
     },
     "metadata": {},
     "output_type": "display_data"
    }
   ],
   "source": [
    "images, labels = get_images_dataset(all_files, all_class_ids)\n",
    "\n",
    "\n",
    "print(len(images))\n",
    "print(len(labels))\n",
    "\n",
    "unique_values, counts = np.unique(labels, return_counts=True)\n",
    "for value, count in zip(unique_values, counts):\n",
    "  print(f\"Class {value}: count {count}\")\n",
    "\n",
    "plt.imshow(images[0])\n",
    "plt.title(classes[labels[0]])\n"
   ]
  },
  {
   "cell_type": "markdown",
   "metadata": {},
   "source": [
    "---\n",
    "\n",
    "## For **split_train_and_test_data** function"
   ]
  },
  {
   "cell_type": "code",
   "execution_count": 9,
   "metadata": {},
   "outputs": [
    {
     "name": "stdout",
     "output_type": "stream",
     "text": [
      "[[[1. 1. 1. 1.]\n",
      "  [1. 1. 1. 1.]\n",
      "  [1. 1. 1. 1.]\n",
      "  ...\n",
      "  [1. 1. 1. 1.]\n",
      "  [1. 1. 1. 1.]\n",
      "  [1. 1. 1. 1.]]\n",
      "\n",
      " [[1. 1. 1. 1.]\n",
      "  [1. 1. 1. 1.]\n",
      "  [1. 1. 1. 1.]\n",
      "  ...\n",
      "  [1. 1. 1. 1.]\n",
      "  [1. 1. 1. 1.]\n",
      "  [1. 1. 1. 1.]]\n",
      "\n",
      " [[1. 1. 1. 1.]\n",
      "  [1. 1. 1. 1.]\n",
      "  [1. 1. 1. 1.]\n",
      "  ...\n",
      "  [1. 1. 1. 1.]\n",
      "  [1. 1. 1. 1.]\n",
      "  [1. 1. 1. 1.]]\n",
      "\n",
      " ...\n",
      "\n",
      " [[1. 1. 1. 1.]\n",
      "  [1. 1. 1. 1.]\n",
      "  [1. 1. 1. 1.]\n",
      "  ...\n",
      "  [1. 1. 1. 1.]\n",
      "  [1. 1. 1. 1.]\n",
      "  [1. 1. 1. 1.]]\n",
      "\n",
      " [[1. 1. 1. 1.]\n",
      "  [1. 1. 1. 1.]\n",
      "  [1. 1. 1. 1.]\n",
      "  ...\n",
      "  [1. 1. 1. 1.]\n",
      "  [1. 1. 1. 1.]\n",
      "  [1. 1. 1. 1.]]\n",
      "\n",
      " [[1. 1. 1. 1.]\n",
      "  [1. 1. 1. 1.]\n",
      "  [1. 1. 1. 1.]\n",
      "  ...\n",
      "  [1. 1. 1. 1.]\n",
      "  [1. 1. 1. 1.]\n",
      "  [1. 1. 1. 1.]]]\n",
      "0\n",
      "[[[1. 1. 1. 1.]\n",
      "  [1. 1. 1. 1.]\n",
      "  [1. 1. 1. 1.]\n",
      "  ...\n",
      "  [1. 1. 1. 1.]\n",
      "  [1. 1. 1. 1.]\n",
      "  [1. 1. 1. 1.]]\n",
      "\n",
      " [[1. 1. 1. 1.]\n",
      "  [1. 1. 1. 1.]\n",
      "  [1. 1. 1. 1.]\n",
      "  ...\n",
      "  [1. 1. 1. 1.]\n",
      "  [1. 1. 1. 1.]\n",
      "  [1. 1. 1. 1.]]\n",
      "\n",
      " [[1. 1. 1. 1.]\n",
      "  [1. 1. 1. 1.]\n",
      "  [1. 1. 1. 1.]\n",
      "  ...\n",
      "  [1. 1. 1. 1.]\n",
      "  [1. 1. 1. 1.]\n",
      "  [1. 1. 1. 1.]]\n",
      "\n",
      " ...\n",
      "\n",
      " [[1. 1. 1. 1.]\n",
      "  [1. 1. 1. 1.]\n",
      "  [1. 1. 1. 1.]\n",
      "  ...\n",
      "  [1. 1. 1. 1.]\n",
      "  [1. 1. 1. 1.]\n",
      "  [1. 1. 1. 1.]]\n",
      "\n",
      " [[1. 1. 1. 1.]\n",
      "  [1. 1. 1. 1.]\n",
      "  [1. 1. 1. 1.]\n",
      "  ...\n",
      "  [1. 1. 1. 1.]\n",
      "  [1. 1. 1. 1.]\n",
      "  [1. 1. 1. 1.]]\n",
      "\n",
      " [[1. 1. 1. 1.]\n",
      "  [1. 1. 1. 1.]\n",
      "  [1. 1. 1. 1.]\n",
      "  ...\n",
      "  [1. 1. 1. 1.]\n",
      "  [1. 1. 1. 1.]\n",
      "  [1. 1. 1. 1.]]]\n",
      "4\n",
      "[[[1. 1. 1. 1.]\n",
      "  [1. 1. 1. 1.]\n",
      "  [1. 1. 1. 1.]\n",
      "  ...\n",
      "  [1. 1. 1. 1.]\n",
      "  [1. 1. 1. 1.]\n",
      "  [1. 1. 1. 1.]]\n",
      "\n",
      " [[1. 1. 1. 1.]\n",
      "  [1. 1. 1. 1.]\n",
      "  [1. 1. 1. 1.]\n",
      "  ...\n",
      "  [1. 1. 1. 1.]\n",
      "  [1. 1. 1. 1.]\n",
      "  [1. 1. 1. 1.]]\n",
      "\n",
      " [[1. 1. 1. 1.]\n",
      "  [1. 1. 1. 1.]\n",
      "  [1. 1. 1. 1.]\n",
      "  ...\n",
      "  [1. 1. 1. 1.]\n",
      "  [1. 1. 1. 1.]\n",
      "  [1. 1. 1. 1.]]\n",
      "\n",
      " ...\n",
      "\n",
      " [[1. 1. 1. 1.]\n",
      "  [1. 1. 1. 1.]\n",
      "  [1. 1. 1. 1.]\n",
      "  ...\n",
      "  [1. 1. 1. 1.]\n",
      "  [1. 1. 1. 1.]\n",
      "  [1. 1. 1. 1.]]\n",
      "\n",
      " [[1. 1. 1. 1.]\n",
      "  [1. 1. 1. 1.]\n",
      "  [1. 1. 1. 1.]\n",
      "  ...\n",
      "  [1. 1. 1. 1.]\n",
      "  [1. 1. 1. 1.]\n",
      "  [1. 1. 1. 1.]]\n",
      "\n",
      " [[1. 1. 1. 1.]\n",
      "  [1. 1. 1. 1.]\n",
      "  [1. 1. 1. 1.]\n",
      "  ...\n",
      "  [1. 1. 1. 1.]\n",
      "  [1. 1. 1. 1.]\n",
      "  [1. 1. 1. 1.]]]\n",
      "4\n"
     ]
    }
   ],
   "source": [
    "train_dataset, test_dataset, predict_dataset = split_train_and_test_data(images, labels)\n",
    "\n",
    "\n",
    "print(train_dataset[\"x\"][0])\n",
    "print(train_dataset[\"y\"][0])\n",
    "\n",
    "print(test_dataset[\"x\"][0])\n",
    "print(test_dataset[\"y\"][0])\n",
    "\n",
    "print(predict_dataset[\"x\"][0])\n",
    "print(predict_dataset[\"y\"][0])"
   ]
  },
  {
   "attachments": {},
   "cell_type": "markdown",
   "metadata": {},
   "source": [
    "---"
   ]
  },
  {
   "attachments": {},
   "cell_type": "markdown",
   "metadata": {},
   "source": [
    "## For **get_lstm_data** function"
   ]
  },
  {
   "cell_type": "code",
   "execution_count": 10,
   "metadata": {},
   "outputs": [],
   "source": [
    "train, test, predict = get_cnn_data(SP500_TICKER)"
   ]
  },
  {
   "cell_type": "code",
   "execution_count": 11,
   "metadata": {},
   "outputs": [
    {
     "name": "stdout",
     "output_type": "stream",
     "text": [
      "1584\n",
      "1584\n",
      "Class 0: count 120\n",
      "Class 1: count 248\n",
      "Class 2: count 89\n",
      "Class 3: count 320\n",
      "Class 4: count 807\n"
     ]
    }
   ],
   "source": [
    "\n",
    "print(len(train[\"x\"]))\n",
    "print(len(train[\"y\"]))\n",
    "\n",
    "unique_values, counts = np.unique(train[\"y\"], return_counts=True)\n",
    "\n",
    "for value, count in zip(unique_values, counts):\n",
    "  print(f\"Class {value}: count {count}\")\n",
    "\n",
    "# print(tf.data.experimental.cardinality(test_dataset).numpy())\n",
    "# print(tf.data.experimental.cardinality(predict_dataset).numpy())"
   ]
  },
  {
   "cell_type": "code",
   "execution_count": 12,
   "metadata": {},
   "outputs": [
    {
     "name": "stdout",
     "output_type": "stream",
     "text": [
      "198\n",
      "198\n",
      "Class 0: count 15\n",
      "Class 1: count 29\n",
      "Class 2: count 6\n",
      "Class 3: count 44\n",
      "Class 4: count 104\n"
     ]
    }
   ],
   "source": [
    "print(len(test[\"x\"]))\n",
    "print(len(test[\"y\"]))\n",
    "\n",
    "unique_values, counts = np.unique(test[\"y\"], return_counts=True)\n",
    "\n",
    "for value, count in zip(unique_values, counts):\n",
    "  print(f\"Class {value}: count {count}\")\n",
    "\n",
    "# print(test)\n",
    "# print(tf.data.experimental.cardinality(test).numpy())\n"
   ]
  },
  {
   "cell_type": "code",
   "execution_count": 13,
   "metadata": {},
   "outputs": [
    {
     "name": "stdout",
     "output_type": "stream",
     "text": [
      "198\n",
      "198\n",
      "Class 0: count 11\n",
      "Class 1: count 25\n",
      "Class 2: count 7\n",
      "Class 3: count 56\n",
      "Class 4: count 99\n"
     ]
    }
   ],
   "source": [
    "print(len(predict[\"x\"]))\n",
    "print(len(predict[\"y\"]))\n",
    "\n",
    "unique_values, counts = np.unique(predict[\"y\"], return_counts=True)\n",
    "\n",
    "for value, count in zip(unique_values, counts):\n",
    "  print(f\"Class {value}: count {count}\")\n",
    "\n",
    "# print(predict) \n",
    "# print(tf.data.experimental.cardinality(predict).numpy())"
   ]
  },
  {
   "cell_type": "code",
   "execution_count": 14,
   "metadata": {},
   "outputs": [],
   "source": [
    "# num_columns = predict[\"x\"].shape[1]  # Get the number of columns\n",
    "\n",
    "# index = 20\n",
    "\n",
    "# plt = config_chart('Model Data')\n",
    "# plt.plot(predict['x_dates'][0:index], predict[\"x\"][:, 0][0:index])\n",
    "# plt.plot(predict['x_dates'][0:index], predict[\"x\"][:, 1][0:index])\n",
    "# plt.plot(predict['x_dates'][0:index], predict[\"x\"][:, 2][0:index])\n",
    "# plt.plot(predict['x_dates'][0:index], predict[\"x\"][:, 3][0:index])\n",
    "# # plt.title(f'Column {i+1}')\n",
    "# plt.xlabel('Index')\n",
    "# plt.ylabel('Value')\n",
    "\n",
    "# plt.grid(True)  # Add grid\n",
    "# plt.tight_layout()\n",
    "# plt.savefig('stock_price_50x50.png', dpi=100)  # Save as PNG image with 100 DPI\n",
    "# plt.close()\n",
    "\n",
    "# plt.grid(True)\n",
    "# plt.show()\n"
   ]
  },
  {
   "cell_type": "code",
   "execution_count": 15,
   "metadata": {},
   "outputs": [],
   "source": [
    "# BASE_DIR = \"models/cnn_v3/data/\"\n",
    "\n",
    "# generator = ImageDataGenerator()\n",
    "\n",
    "# images = generator.flow_from_directory(BASE_DIR)\n",
    "\n",
    "# img = images.__next__()[0]\n",
    "# img.shape\n",
    "\n",
    "# plt.imshow(img[4] / 255.0)\n",
    "\n",
    "# Dataset.from_tensor_slices([1,2,3])\n",
    "\n",
    "# classes = os.listdir(BASE_DIR)\n",
    "# folders = [BASE_DIR + class_name for class_name in classes]\n",
    "\n",
    "# print(classes)\n",
    "\n",
    "# all_files = []\n",
    "# print(folders)\n",
    "# all_classes = []\n",
    "\n",
    "# for folder_name, class_name in zip(folders, classes):\n",
    "#     files = os.listdir(folder_name)\n",
    "#     all_files.extend([os.path.join(folder_name, file) for file in files])\n",
    "#     all_classes.extend([class_name] * len(files))\n",
    "\n",
    "# print(len(all_files))\n",
    "# print(len(all_classes))\n",
    "\n",
    "# class_mapping = {class_name: class_id for (class_id, class_name) in list(enumerate(classes))}\n",
    "\n",
    "# all_class_ids = [class_mapping[c] for c in all_classes]\n",
    "\n",
    "# def read_images(file_name, class_name):\n",
    "#     image_file = tf.io.read_file(file_name)\n",
    "#     image = tf.image.decode_png(image_file)\n",
    "#     image_scaled = tf.cast(image, float) / 255.0\n",
    "#     image_resized = tf.image.resize(image_scaled, (256, 256))\n",
    "#     return (image_resized, class_name)\n",
    "\n",
    "# dataset = Dataset.from_tensor_slices((all_files, all_class_ids)).shuffle(len(all_files)).map(read_images).batch(4).repeat()\n",
    "\n",
    "\n",
    "# for el in dataset.take(1):\n",
    "#     print(el[0].numpy(), el[1].numpy())\n",
    "# model = Sequential([\n",
    "#         Input((256, 256, 4)),\n",
    "#         Conv2D(filters=32, kernel_size=(3, 4), activation='relu'),\n",
    "#         Conv2D(filters=16, kernel_size=(3, 4), activation='relu'),\n",
    "#         Conv2D(filters=8, kernel_size=(3, 4), activation='relu'),\n",
    "#         Flatten(),\n",
    "#         Dense(units=32, activation='relu'),\n",
    "#         Dense(units=5, activation='softmax')\n",
    "#     ])\n",
    "\n",
    "# model.compile(loss=\"sparse_categorical_crossentropy\", optimizer=\"adam\")\n",
    "# model.fit(dataset, epochs=10, steps_per_epoch=len(all_files) // 4)\n",
    "\n"
   ]
  }
 ],
 "metadata": {
  "kernelspec": {
   "display_name": "venv",
   "language": "python",
   "name": "python3"
  },
  "language_info": {
   "codemirror_mode": {
    "name": "ipython",
    "version": 3
   },
   "file_extension": ".py",
   "mimetype": "text/x-python",
   "name": "python",
   "nbconvert_exporter": "python",
   "pygments_lexer": "ipython3",
   "version": "3.12.2"
  },
  "orig_nbformat": 4,
  "vscode": {
   "interpreter": {
    "hash": "73f5850e139343e7d56cdbfd592890725b73c7b65ece657753fc54e096f228ca"
   }
  }
 },
 "nbformat": 4,
 "nbformat_minor": 2
}
