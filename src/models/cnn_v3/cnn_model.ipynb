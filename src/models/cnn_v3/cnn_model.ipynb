{
 "cells": [
  {
   "cell_type": "code",
   "execution_count": 1,
   "metadata": {},
   "outputs": [
    {
     "name": "stdout",
     "output_type": "stream",
     "text": [
      "c:\\Boyko Boev\\Stock-Market-Prediction\\src\n"
     ]
    },
    {
     "name": "stderr",
     "output_type": "stream",
     "text": [
      "c:\\Boyko Boev\\Stock-Market-Prediction\\.venv\\Lib\\site-packages\\IPython\\core\\magics\\osm.py:417: UserWarning: This is now an optional IPython functionality, setting dhist requires you to install the `pickleshare` library.\n",
      "  self.shell.db['dhist'] = compress_dhist(dhist)[-100:]\n"
     ]
    }
   ],
   "source": [
    "%cd ../.."
   ]
  },
  {
   "cell_type": "code",
   "execution_count": 2,
   "metadata": {},
   "outputs": [],
   "source": [
    "import numpy as np\n",
    "import pandas as pd\n",
    "import matplotlib.pyplot as plt\n",
    "\n",
    "from models.cnn_v3.cnn_model import build_model, train_model, save_cnn_model, load_cnn_model\n",
    "from models.cnn_v3.cnn_normalize import get_cnn_data, get_images_dataset, get_classes_and_files\n",
    "from utils.chart import config_chart, plot_model_performance, plot_scatter_data, plot_distribution_data, plot_direction_comparison\n",
    "from constants import SP500_TICKER, NASDAQ_TICKER, DJI_TICKER\n",
    "from sklearn.metrics import accuracy_score\n"
   ]
  },
  {
   "attachments": {},
   "cell_type": "markdown",
   "metadata": {},
   "source": [
    "\n",
    "---\n",
    "\n",
    "## For **build_model** function\n",
    "\n",
    "Конволюционна невронна мрежа (CNN) за класификация на изображения\n",
    "\n",
    "Структура:\n",
    "- Input(INPUT_SHAPE) определя входния слой, който получава изображения със зададената форма (256, 256, 4):\n",
    "    - 256: Широчина на изображението в пиксели.\n",
    "    - 256: Височина на изображението в пиксели.\n",
    "    - 4: Брой канали в изображението (вероятно RGBA).\n",
    "- Conv2D(filters=32, kernel_size=(3, 4), activation='relu'):\n",
    "    - Използват се три конволюционни слоя за извличане на характеристики:\n",
    "    - Прилага 32 филтъра с размер (3x4) към входа, извличайки характеристики.\n",
    "    - Използва ReLU активация за нелинейност.\n",
    "    - Следват подобни конволюции с намаляващ брой филтри (16 и 8), за да се уловят потенциално по-високо ниво характеристики.\n",
    "    - Размерът на входните данни се намалява леко след всеки конволюционен слой поради валидиране\n",
    "- Flatten(): \n",
    "    - Преобразува 2D feature maps от конволюционните слоеве в 1D вектор за подаване към плътно свързаните слоеве.\n",
    "- Dense(units=32, activation='relu'):\n",
    "    - Създава плътен слой с 32 неврона и ReLU активация.\n",
    "- Dense(units=5, activation='softmax'):\n",
    "    - Създава изходния слой с 5 неврона (за 5 класа изображения).\n",
    "    - softmax активация за разпределение на вероятностите между класовете.\n",
    "\n",
    "\n",
    "Описание:\n",
    "- Използва библиотеката tensorflow.keras за изграждане на CNN модела.\n",
    "- Функцията build_model е дефинирана, за да създаде архитектурата на CNN.\n",
    "- model = Sequential() инициализира последователен модел, който подрежда слоевете линейно.\n",
    "- model.compile(...) конфигурира процеса на обучение:\n",
    "- optimizer=Adam(0.001): Използва оптимизатора Adam с коефициент на обучение 0.001.\n",
    "- loss='sparse_categorical_crossentropy': Определя функцията на загубата за класификация с множество класове.\n",
    "- metrics=['accuracy']: Указва метриката за точност, която да се следи по време на обучението.\n",
    "- Функцията връща компилирания model, готов за обучение върху данните с изображения."
   ]
  },
  {
   "cell_type": "code",
   "execution_count": 3,
   "metadata": {},
   "outputs": [
    {
     "data": {
      "text/html": [
       "<pre style=\"white-space:pre;overflow-x:auto;line-height:normal;font-family:Menlo,'DejaVu Sans Mono',consolas,'Courier New',monospace\"><span style=\"font-weight: bold\">Model: \"sequential\"</span>\n",
       "</pre>\n"
      ],
      "text/plain": [
       "\u001b[1mModel: \"sequential\"\u001b[0m\n"
      ]
     },
     "metadata": {},
     "output_type": "display_data"
    },
    {
     "data": {
      "text/html": [
       "<pre style=\"white-space:pre;overflow-x:auto;line-height:normal;font-family:Menlo,'DejaVu Sans Mono',consolas,'Courier New',monospace\">┏━━━━━━━━━━━━━━━━━━━━━━━━━━━━━━━━━━━━━━┳━━━━━━━━━━━━━━━━━━━━━━━━━━━━━┳━━━━━━━━━━━━━━━━━┓\n",
       "┃<span style=\"font-weight: bold\"> Layer (type)                         </span>┃<span style=\"font-weight: bold\"> Output Shape                </span>┃<span style=\"font-weight: bold\">         Param # </span>┃\n",
       "┡━━━━━━━━━━━━━━━━━━━━━━━━━━━━━━━━━━━━━━╇━━━━━━━━━━━━━━━━━━━━━━━━━━━━━╇━━━━━━━━━━━━━━━━━┩\n",
       "│ conv2d (<span style=\"color: #0087ff; text-decoration-color: #0087ff\">Conv2D</span>)                      │ (<span style=\"color: #00d7ff; text-decoration-color: #00d7ff\">None</span>, <span style=\"color: #00af00; text-decoration-color: #00af00\">254</span>, <span style=\"color: #00af00; text-decoration-color: #00af00\">253</span>, <span style=\"color: #00af00; text-decoration-color: #00af00\">32</span>)        │           <span style=\"color: #00af00; text-decoration-color: #00af00\">1,568</span> │\n",
       "├──────────────────────────────────────┼─────────────────────────────┼─────────────────┤\n",
       "│ conv2d_1 (<span style=\"color: #0087ff; text-decoration-color: #0087ff\">Conv2D</span>)                    │ (<span style=\"color: #00d7ff; text-decoration-color: #00d7ff\">None</span>, <span style=\"color: #00af00; text-decoration-color: #00af00\">252</span>, <span style=\"color: #00af00; text-decoration-color: #00af00\">250</span>, <span style=\"color: #00af00; text-decoration-color: #00af00\">16</span>)        │           <span style=\"color: #00af00; text-decoration-color: #00af00\">6,160</span> │\n",
       "├──────────────────────────────────────┼─────────────────────────────┼─────────────────┤\n",
       "│ conv2d_2 (<span style=\"color: #0087ff; text-decoration-color: #0087ff\">Conv2D</span>)                    │ (<span style=\"color: #00d7ff; text-decoration-color: #00d7ff\">None</span>, <span style=\"color: #00af00; text-decoration-color: #00af00\">250</span>, <span style=\"color: #00af00; text-decoration-color: #00af00\">247</span>, <span style=\"color: #00af00; text-decoration-color: #00af00\">8</span>)         │           <span style=\"color: #00af00; text-decoration-color: #00af00\">1,544</span> │\n",
       "├──────────────────────────────────────┼─────────────────────────────┼─────────────────┤\n",
       "│ flatten (<span style=\"color: #0087ff; text-decoration-color: #0087ff\">Flatten</span>)                    │ (<span style=\"color: #00d7ff; text-decoration-color: #00d7ff\">None</span>, <span style=\"color: #00af00; text-decoration-color: #00af00\">494000</span>)              │               <span style=\"color: #00af00; text-decoration-color: #00af00\">0</span> │\n",
       "├──────────────────────────────────────┼─────────────────────────────┼─────────────────┤\n",
       "│ dense (<span style=\"color: #0087ff; text-decoration-color: #0087ff\">Dense</span>)                        │ (<span style=\"color: #00d7ff; text-decoration-color: #00d7ff\">None</span>, <span style=\"color: #00af00; text-decoration-color: #00af00\">32</span>)                  │      <span style=\"color: #00af00; text-decoration-color: #00af00\">15,808,032</span> │\n",
       "├──────────────────────────────────────┼─────────────────────────────┼─────────────────┤\n",
       "│ dense_1 (<span style=\"color: #0087ff; text-decoration-color: #0087ff\">Dense</span>)                      │ (<span style=\"color: #00d7ff; text-decoration-color: #00d7ff\">None</span>, <span style=\"color: #00af00; text-decoration-color: #00af00\">5</span>)                   │             <span style=\"color: #00af00; text-decoration-color: #00af00\">165</span> │\n",
       "└──────────────────────────────────────┴─────────────────────────────┴─────────────────┘\n",
       "</pre>\n"
      ],
      "text/plain": [
       "┏━━━━━━━━━━━━━━━━━━━━━━━━━━━━━━━━━━━━━━┳━━━━━━━━━━━━━━━━━━━━━━━━━━━━━┳━━━━━━━━━━━━━━━━━┓\n",
       "┃\u001b[1m \u001b[0m\u001b[1mLayer (type)                        \u001b[0m\u001b[1m \u001b[0m┃\u001b[1m \u001b[0m\u001b[1mOutput Shape               \u001b[0m\u001b[1m \u001b[0m┃\u001b[1m \u001b[0m\u001b[1m        Param #\u001b[0m\u001b[1m \u001b[0m┃\n",
       "┡━━━━━━━━━━━━━━━━━━━━━━━━━━━━━━━━━━━━━━╇━━━━━━━━━━━━━━━━━━━━━━━━━━━━━╇━━━━━━━━━━━━━━━━━┩\n",
       "│ conv2d (\u001b[38;5;33mConv2D\u001b[0m)                      │ (\u001b[38;5;45mNone\u001b[0m, \u001b[38;5;34m254\u001b[0m, \u001b[38;5;34m253\u001b[0m, \u001b[38;5;34m32\u001b[0m)        │           \u001b[38;5;34m1,568\u001b[0m │\n",
       "├──────────────────────────────────────┼─────────────────────────────┼─────────────────┤\n",
       "│ conv2d_1 (\u001b[38;5;33mConv2D\u001b[0m)                    │ (\u001b[38;5;45mNone\u001b[0m, \u001b[38;5;34m252\u001b[0m, \u001b[38;5;34m250\u001b[0m, \u001b[38;5;34m16\u001b[0m)        │           \u001b[38;5;34m6,160\u001b[0m │\n",
       "├──────────────────────────────────────┼─────────────────────────────┼─────────────────┤\n",
       "│ conv2d_2 (\u001b[38;5;33mConv2D\u001b[0m)                    │ (\u001b[38;5;45mNone\u001b[0m, \u001b[38;5;34m250\u001b[0m, \u001b[38;5;34m247\u001b[0m, \u001b[38;5;34m8\u001b[0m)         │           \u001b[38;5;34m1,544\u001b[0m │\n",
       "├──────────────────────────────────────┼─────────────────────────────┼─────────────────┤\n",
       "│ flatten (\u001b[38;5;33mFlatten\u001b[0m)                    │ (\u001b[38;5;45mNone\u001b[0m, \u001b[38;5;34m494000\u001b[0m)              │               \u001b[38;5;34m0\u001b[0m │\n",
       "├──────────────────────────────────────┼─────────────────────────────┼─────────────────┤\n",
       "│ dense (\u001b[38;5;33mDense\u001b[0m)                        │ (\u001b[38;5;45mNone\u001b[0m, \u001b[38;5;34m32\u001b[0m)                  │      \u001b[38;5;34m15,808,032\u001b[0m │\n",
       "├──────────────────────────────────────┼─────────────────────────────┼─────────────────┤\n",
       "│ dense_1 (\u001b[38;5;33mDense\u001b[0m)                      │ (\u001b[38;5;45mNone\u001b[0m, \u001b[38;5;34m5\u001b[0m)                   │             \u001b[38;5;34m165\u001b[0m │\n",
       "└──────────────────────────────────────┴─────────────────────────────┴─────────────────┘\n"
      ]
     },
     "metadata": {},
     "output_type": "display_data"
    },
    {
     "data": {
      "text/html": [
       "<pre style=\"white-space:pre;overflow-x:auto;line-height:normal;font-family:Menlo,'DejaVu Sans Mono',consolas,'Courier New',monospace\"><span style=\"font-weight: bold\"> Total params: </span><span style=\"color: #00af00; text-decoration-color: #00af00\">15,817,469</span> (60.34 MB)\n",
       "</pre>\n"
      ],
      "text/plain": [
       "\u001b[1m Total params: \u001b[0m\u001b[38;5;34m15,817,469\u001b[0m (60.34 MB)\n"
      ]
     },
     "metadata": {},
     "output_type": "display_data"
    },
    {
     "data": {
      "text/html": [
       "<pre style=\"white-space:pre;overflow-x:auto;line-height:normal;font-family:Menlo,'DejaVu Sans Mono',consolas,'Courier New',monospace\"><span style=\"font-weight: bold\"> Trainable params: </span><span style=\"color: #00af00; text-decoration-color: #00af00\">15,817,469</span> (60.34 MB)\n",
       "</pre>\n"
      ],
      "text/plain": [
       "\u001b[1m Trainable params: \u001b[0m\u001b[38;5;34m15,817,469\u001b[0m (60.34 MB)\n"
      ]
     },
     "metadata": {},
     "output_type": "display_data"
    },
    {
     "data": {
      "text/html": [
       "<pre style=\"white-space:pre;overflow-x:auto;line-height:normal;font-family:Menlo,'DejaVu Sans Mono',consolas,'Courier New',monospace\"><span style=\"font-weight: bold\"> Non-trainable params: </span><span style=\"color: #00af00; text-decoration-color: #00af00\">0</span> (0.00 B)\n",
       "</pre>\n"
      ],
      "text/plain": [
       "\u001b[1m Non-trainable params: \u001b[0m\u001b[38;5;34m0\u001b[0m (0.00 B)\n"
      ]
     },
     "metadata": {},
     "output_type": "display_data"
    }
   ],
   "source": [
    "model = build_model()\n",
    "model.summary()"
   ]
  },
  {
   "attachments": {},
   "cell_type": "markdown",
   "metadata": {},
   "source": [
    "\n",
    "---\n",
    "\n",
    "## For **train_model** function\n",
    "\n",
    "Функцията train_model предоставя основен процес за обучение и оценка на CNN модел за класификация на изображения. Тя използва TensorBoard за визуализиране на процеса на обучение и помага за наблюдение на производителността на модела.\n",
    "\n",
    "Описание:\n",
    "- Извиква функцията build_model за да създаде CNN модел за класификация на изображения.\n",
    "- Създава обект TensorBoard callback.\n",
    "    - Този callback се използва за визуализиране на процеса на обучение в TensorBoard, което е инструмент за наблюдение и отстраняване на грешки при машинно обучение.\n",
    "    - Callback-ът е конфигуриран да записва резултатите в директорията, определена от константата CNN_V2_LOG_DIRECTORY.\n",
    "- Използва метода fit на модела за обучение по данните за обучение (x_train и y_train).\n",
    "    - x_train (np.ndarray): Триизмерен NumPy масив, съдържащ изображения за обучение.\n",
    "    - y_train (np.ndarray): Едноизмерен NumPy масив, съдържащ целеви класове за изображенията за обучение.\n",
    "    - Определя се брой епохи на обучение (epochs=10). Епохата е пълен цикъл през всички данни за обучение.\n",
    "    - Определя се брой стъпки на епоха (steps_per_epoch=100). Стъпката е мини-пакет от данни за обучение.\n",
    "    - Callback-ът tensorboard_callback се добавя като аргумент към метода fit, за да се активира визуализацията на обучението в TensorBoard.\n",
    "- След обучението функцията използва метода evaluate на модела за оценка на неговата производителност на данните за тестване (x_test и y_test).\n",
    "    - x_test (np.ndarray): Триизмерен NumPy масив, съдържащ изображения за тестване.\n",
    "    - y_test (np.ndarray): Едноизмерен NumPy масив, съдържащ целеви класове за изображенията за тестване.\n"
   ]
  },
  {
   "cell_type": "code",
   "execution_count": 4,
   "metadata": {},
   "outputs": [
    {
     "name": "stdout",
     "output_type": "stream",
     "text": [
      "Train data:\n",
      "(1584, 256, 256, 4)\n",
      "(1584,)\n",
      "Test data:\n",
      "(198, 256, 256, 4)\n",
      "(198,)\n",
      "Predict data:\n",
      "(198, 256, 256, 4)\n",
      "(198,)\n"
     ]
    }
   ],
   "source": [
    "# nasdaq_train, nasdaq_test, nasdaq_predict= get_cnn_data(NASDAQ_TICKER)\n",
    "train, test, predict = get_cnn_data(NASDAQ_TICKER)\n",
    "\n",
    "x_train = train[\"x\"] \n",
    "y_train = train[\"y\"]\n",
    "\n",
    "x_test = test[\"x\"]\n",
    "y_test = test[\"y\"]\n",
    "\n",
    "x_predict = predict[\"x\"]\n",
    "y_predict = predict[\"y\"]\n",
    "\n",
    "\n",
    "print(\"Train data:\")\n",
    "print(x_train.shape)\n",
    "print(y_train.shape)\n",
    "\n",
    "print(\"Test data:\")\n",
    "print(x_test.shape)\n",
    "print(y_test.shape)\n",
    "\n",
    "print(\"Predict data:\")\n",
    "print(x_predict.shape)\n",
    "print(y_predict.shape)"
   ]
  },
  {
   "cell_type": "code",
   "execution_count": 5,
   "metadata": {},
   "outputs": [
    {
     "name": "stdout",
     "output_type": "stream",
     "text": [
      "Epoch 1/10\n",
      "\u001b[1m100/100\u001b[0m \u001b[32m━━━━━━━━━━━━━━━━━━━━\u001b[0m\u001b[37m\u001b[0m \u001b[1m36s\u001b[0m 343ms/step - accuracy: 0.4725 - loss: 7.4528\n",
      "Epoch 2/10\n"
     ]
    },
    {
     "name": "stderr",
     "output_type": "stream",
     "text": [
      "C:\\Programs\\Lib\\contextlib.py:158: UserWarning: Your input ran out of data; interrupting training. Make sure that your dataset or generator can generate at least `steps_per_epoch * epochs` batches. You may need to use the `.repeat()` function when building your dataset.\n",
      "  self.gen.throw(value)\n"
     ]
    },
    {
     "name": "stdout",
     "output_type": "stream",
     "text": [
      "\u001b[1m100/100\u001b[0m \u001b[32m━━━━━━━━━━━━━━━━━━━━\u001b[0m\u001b[37m\u001b[0m \u001b[1m38s\u001b[0m 380ms/step - accuracy: 0.6862 - loss: 0.7995\n",
      "Epoch 3/10\n",
      "\u001b[1m100/100\u001b[0m \u001b[32m━━━━━━━━━━━━━━━━━━━━\u001b[0m\u001b[37m\u001b[0m \u001b[1m39s\u001b[0m 385ms/step - accuracy: 0.7823 - loss: 0.5659\n",
      "Epoch 4/10\n",
      "\u001b[1m100/100\u001b[0m \u001b[32m━━━━━━━━━━━━━━━━━━━━\u001b[0m\u001b[37m\u001b[0m \u001b[1m37s\u001b[0m 366ms/step - accuracy: 0.8356 - loss: 0.4428\n",
      "Epoch 5/10\n",
      "\u001b[1m100/100\u001b[0m \u001b[32m━━━━━━━━━━━━━━━━━━━━\u001b[0m\u001b[37m\u001b[0m \u001b[1m38s\u001b[0m 381ms/step - accuracy: 0.9113 - loss: 0.2633\n",
      "Epoch 6/10\n",
      "\u001b[1m100/100\u001b[0m \u001b[32m━━━━━━━━━━━━━━━━━━━━\u001b[0m\u001b[37m\u001b[0m \u001b[1m38s\u001b[0m 384ms/step - accuracy: 0.9621 - loss: 0.1276\n",
      "Epoch 7/10\n",
      "\u001b[1m100/100\u001b[0m \u001b[32m━━━━━━━━━━━━━━━━━━━━\u001b[0m\u001b[37m\u001b[0m \u001b[1m38s\u001b[0m 382ms/step - accuracy: 0.9853 - loss: 0.0478\n",
      "Epoch 8/10\n",
      "\u001b[1m100/100\u001b[0m \u001b[32m━━━━━━━━━━━━━━━━━━━━\u001b[0m\u001b[37m\u001b[0m \u001b[1m40s\u001b[0m 392ms/step - accuracy: 0.9994 - loss: 0.0077\n",
      "Epoch 9/10\n",
      "\u001b[1m100/100\u001b[0m \u001b[32m━━━━━━━━━━━━━━━━━━━━\u001b[0m\u001b[37m\u001b[0m \u001b[1m38s\u001b[0m 376ms/step - accuracy: 0.9985 - loss: 0.0037\n",
      "Epoch 10/10\n",
      "\u001b[1m100/100\u001b[0m \u001b[32m━━━━━━━━━━━━━━━━━━━━\u001b[0m\u001b[37m\u001b[0m \u001b[1m40s\u001b[0m 403ms/step - accuracy: 0.9999 - loss: 0.0018\n",
      "\u001b[1m7/7\u001b[0m \u001b[32m━━━━━━━━━━━━━━━━━━━━\u001b[0m\u001b[37m\u001b[0m \u001b[1m1s\u001b[0m 134ms/step - accuracy: 0.7188 - loss: 1.6169\n"
     ]
    },
    {
     "data": {
      "image/png": "[encoded data removed]",
      "text/plain": [
       "<Figure size 1200x400 with 1 Axes>"
      ]
     },
     "metadata": {},
     "output_type": "display_data"
    },
    {
     "data": {
      "image/png": "[encoded data removed]",
      "text/plain": [
       "<Figure size 1200x400 with 1 Axes>"
      ]
     },
     "metadata": {},
     "output_type": "display_data"
    },
    {
     "name": "stdout",
     "output_type": "stream",
     "text": [
      "Train result:\n",
      "<keras.src.callbacks.history.History object at 0x0000029F6F7AE270>\n",
      "Test result:\n",
      "[1.7433116436004639, 0.7272727489471436]\n"
     ]
    }
   ],
   "source": [
    "model, fit_result, evaluate_result = train_model(x_train, x_test, y_train, y_test) \n",
    "\n",
    "plot_model_performance(fit_result)\n",
    "\n",
    "print(\"Train result:\")\n",
    "print(fit_result)\n",
    "\n",
    "print(\"Test result:\")\n",
    "print(evaluate_result)\n",
    "\n",
    "save_cnn_model(model)"
   ]
  },
  {
   "cell_type": "code",
   "execution_count": 6,
   "metadata": {},
   "outputs": [
    {
     "name": "stdout",
     "output_type": "stream",
     "text": [
      "Train result:\n",
      "accuracy, loss\n",
      "[0.9900000095367432, 0.0017772481078281999]\n",
      "Test result:\n",
      "loss, accuracy\n",
      "[1.7433116436004639, 0.7272727489471436]\n"
     ]
    }
   ],
   "source": [
    "latest_train_metrics = [value[-1] for key, value in fit_result.history.items()]\n",
    "\n",
    "print(\"Train result:\")\n",
    "print(\"accuracy, loss\")\n",
    "print(latest_train_metrics)\n",
    "\n",
    "print(\"Test result:\")\n",
    "print(\"loss, accuracy\")\n",
    "print(evaluate_result)"
   ]
  },
  {
   "cell_type": "code",
   "execution_count": 7,
   "metadata": {},
   "outputs": [],
   "source": [
    "model = load_cnn_model()"
   ]
  },
  {
   "cell_type": "code",
   "execution_count": 8,
   "metadata": {},
   "outputs": [
    {
     "name": "stdout",
     "output_type": "stream",
     "text": [
      "\u001b[1m50/50\u001b[0m \u001b[32m━━━━━━━━━━━━━━━━━━━━\u001b[0m\u001b[37m\u001b[0m \u001b[1m8s\u001b[0m 167ms/step\n",
      "Accuracy: 1.0\n"
     ]
    }
   ],
   "source": [
    "predictions_train = model.predict(x_train)\n",
    "\n",
    "predicted_classes = np.argmax(predictions_train, axis=1)\n",
    "\n",
    "accuracy = accuracy_score(y_train, predicted_classes)\n",
    "print(\"Accuracy:\", accuracy)\n"
   ]
  },
  {
   "cell_type": "code",
   "execution_count": 9,
   "metadata": {},
   "outputs": [
    {
     "name": "stdout",
     "output_type": "stream",
     "text": [
      "\u001b[1m7/7\u001b[0m \u001b[32m━━━━━━━━━━━━━━━━━━━━\u001b[0m\u001b[37m\u001b[0m \u001b[1m1s\u001b[0m 133ms/step\n",
      "Accuracy: 0.7272727272727273\n"
     ]
    }
   ],
   "source": [
    "predictions_test = model.predict(x_test)\n",
    "\n",
    "predicted_classes = np.argmax(predictions_test, axis=1)\n",
    "\n",
    "accuracy = accuracy_score(y_test, predicted_classes)\n",
    "print(\"Accuracy:\", accuracy)\n"
   ]
  },
  {
   "cell_type": "code",
   "execution_count": 10,
   "metadata": {},
   "outputs": [
    {
     "name": "stdout",
     "output_type": "stream",
     "text": [
      "\u001b[1m7/7\u001b[0m \u001b[32m━━━━━━━━━━━━━━━━━━━━\u001b[0m\u001b[37m\u001b[0m \u001b[1m1s\u001b[0m 141ms/step\n",
      "Accuracy: 0.7121212121212122\n"
     ]
    }
   ],
   "source": [
    "predictions = model.predict(x_predict)\n",
    "\n",
    "predicted_classes = np.argmax(predictions, axis=1)\n",
    "\n",
    "accuracy = accuracy_score(y_predict, predicted_classes)\n",
    "print(\"Accuracy:\", accuracy)\n"
   ]
  },
  {
   "cell_type": "code",
   "execution_count": 11,
   "metadata": {},
   "outputs": [
    {
     "name": "stdout",
     "output_type": "stream",
     "text": [
      "['bearish_reverse' 'bearish_trend' 'bullish_reverse' 'bullish_trend'\n",
      " 'neutral']\n",
      "[2.9433111e-03 5.7276157e-08 1.4108443e-18 4.0286528e-11 9.9705672e-01]\n",
      "Actual Result: bearish_reverse\n",
      "Predicted Result: neutral\n"
     ]
    },
    {
     "data": {
      "text/plain": [
       "<matplotlib.image.AxesImage at 0x29fb1c17d10>"
      ]
     },
     "execution_count": 11,
     "metadata": {},
     "output_type": "execute_result"
    },
    {
     "data": {
      "image/png": "[encoded data removed]",
      "text/plain": [
       "<Figure size 640x480 with 1 Axes>"
      ]
     },
     "metadata": {},
     "output_type": "display_data"
    }
   ],
   "source": [
    "index = 40\n",
    "\n",
    "classes, _ = get_classes_and_files()\n",
    "\n",
    "print(classes)\n",
    "print(predictions[index])\n",
    "print(\"Actual Result:\", classes[y_predict[index]])\n",
    "print(\"Predicted Result:\", classes[predicted_classes[index]])\n",
    "\n",
    "img = predicted_classes[index]\n",
    "plt.imshow(x_predict[index])"
   ]
  }
 ],
 "metadata": {
  "kernelspec": {
   "display_name": "venv",
   "language": "python",
   "name": "python3"
  },
  "language_info": {
   "codemirror_mode": {
    "name": "ipython",
    "version": 3
   },
   "file_extension": ".py",
   "mimetype": "text/x-python",
   "name": "python",
   "nbconvert_exporter": "python",
   "pygments_lexer": "ipython3",
   "version": "3.12.2"
  },
  "orig_nbformat": 4,
  "vscode": {
   "interpreter": {
    "hash": "73f5850e139343e7d56cdbfd592890725b73c7b65ece657753fc54e096f228ca"
   }
  }
 },
 "nbformat": 4,
 "nbformat_minor": 2
}
